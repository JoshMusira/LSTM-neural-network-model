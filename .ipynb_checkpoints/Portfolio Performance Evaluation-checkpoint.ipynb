{
 "cells": [
  {
   "cell_type": "markdown",
   "id": "05a543bc-db38-4b44-9f5d-6286a8f7979c",
   "metadata": {},
   "source": [
    "Where to get NAV data for Indian Mutual fund\n",
    "Visit AMFI infia to downlaon the NAV. or Chekc http://www.amfiindia.com/net-asset-vaue/nav-history\n",
    "mftool is the library in Python used to downloand the data directly into your console.\n",
    "We'll show show how to download Nippon India Credit Risk Plan - Growth Plan"
   ]
  },
  {
   "cell_type": "markdown",
   "id": "d1b09009-6cf3-4bfb-bbc6-609f249137f1",
   "metadata": {},
   "source": [
    "# 1 import the library"
   ]
  },
  {
   "cell_type": "code",
   "execution_count": 6,
   "id": "805663fd-a44f-4d76-9c47-3eb41c3e4bff",
   "metadata": {},
   "outputs": [],
   "source": [
    "import pandas as pd\n",
    "from mftool import Mftool"
   ]
  },
  {
   "cell_type": "code",
   "execution_count": 7,
   "id": "3b50e3f5-1dcc-445c-ae72-0e4260974124",
   "metadata": {},
   "outputs": [],
   "source": [
    "#pip install mftool"
   ]
  },
  {
   "cell_type": "markdown",
   "id": "17efc1c2-8e75-4af6-8fe5-31d33b846682",
   "metadata": {},
   "source": [
    "# 2 Create object"
   ]
  },
  {
   "cell_type": "markdown",
   "id": "87de0848-3d9d-4dc0-9626-16be744b6363",
   "metadata": {},
   "source": [
    "create Mftool object. Say this is mf. \n",
    "use get_scheme_code() will provide you all scheme under MF"
   ]
  },
  {
   "cell_type": "code",
   "execution_count": 8,
   "id": "f406d86b-5fea-4389-93da-2bcd80d2dafe",
   "metadata": {},
   "outputs": [],
   "source": [
    "mf = Mftool()"
   ]
  },
  {
   "cell_type": "code",
   "execution_count": 12,
   "id": "01d71415-4f53-4160-bc08-f2df4ab4ea66",
   "metadata": {},
   "outputs": [
    {
     "data": {
      "text/plain": [
       "13263"
      ]
     },
     "execution_count": 12,
     "metadata": {},
     "output_type": "execute_result"
    }
   ],
   "source": [
    "scheme = mf.get_scheme_codes()\n",
    "\n",
    "#check the total number of fund\n",
    "len(scheme)\n",
    "\n",
    "#print to chcek list of fund name and their id numbers.\n",
    "#print(scheme)"
   ]
  },
  {
   "cell_type": "markdown",
   "id": "0c6207f9-9566-439a-83b3-a077be6100ad",
   "metadata": {},
   "source": [
    "# 3 get fund data"
   ]
  },
  {
   "cell_type": "code",
   "execution_count": null,
   "id": "ef759faf-cc05-4c9d-afa5-9e2992ee1dec",
   "metadata": {},
   "outputs": [],
   "source": [
    "Nippon India..id 112938, let us get the NAV"
   ]
  },
  {
   "cell_type": "code",
   "execution_count": 10,
   "id": "dc2a9aa4-32e1-494d-8a43-48bc35f5c0d7",
   "metadata": {},
   "outputs": [
    {
     "data": {
      "text/plain": [
       "'Nippon India Credit Risk Fund  - Growth Plan'"
      ]
     },
     "execution_count": 10,
     "metadata": {},
     "output_type": "execute_result"
    }
   ],
   "source": [
    "# print fund name \n",
    "scheme['112938']"
   ]
  },
  {
   "cell_type": "code",
   "execution_count": 30,
   "id": "49b8270b-9f02-4994-ad40-88bc356e4c17",
   "metadata": {},
   "outputs": [],
   "source": [
    "# Nippon India Data\n",
    "nippon = mf.get_scheme_historical_nav(\"112938\", as_Dataframe = True)\n"
   ]
  },
  {
   "cell_type": "code",
   "execution_count": 31,
   "id": "14fc3508-cdf6-4726-a8bf-956b8d5f34ef",
   "metadata": {},
   "outputs": [
    {
     "data": {
      "text/html": [
       "<div>\n",
       "<style scoped>\n",
       "    .dataframe tbody tr th:only-of-type {\n",
       "        vertical-align: middle;\n",
       "    }\n",
       "\n",
       "    .dataframe tbody tr th {\n",
       "        vertical-align: top;\n",
       "    }\n",
       "\n",
       "    .dataframe thead th {\n",
       "        text-align: right;\n",
       "    }\n",
       "</style>\n",
       "<table border=\"1\" class=\"dataframe\">\n",
       "  <thead>\n",
       "    <tr style=\"text-align: right;\">\n",
       "      <th></th>\n",
       "      <th>nav</th>\n",
       "      <th>dayChange</th>\n",
       "    </tr>\n",
       "    <tr>\n",
       "      <th>date</th>\n",
       "      <th></th>\n",
       "      <th></th>\n",
       "    </tr>\n",
       "  </thead>\n",
       "  <tbody>\n",
       "    <tr>\n",
       "      <th>16-05-2024</th>\n",
       "      <td>31.69950</td>\n",
       "      <td>0.0109</td>\n",
       "    </tr>\n",
       "    <tr>\n",
       "      <th>15-05-2024</th>\n",
       "      <td>31.68860</td>\n",
       "      <td>0.0123</td>\n",
       "    </tr>\n",
       "    <tr>\n",
       "      <th>14-05-2024</th>\n",
       "      <td>31.67630</td>\n",
       "      <td>0.0141</td>\n",
       "    </tr>\n",
       "    <tr>\n",
       "      <th>13-05-2024</th>\n",
       "      <td>31.66220</td>\n",
       "      <td>0.0202</td>\n",
       "    </tr>\n",
       "    <tr>\n",
       "      <th>10-05-2024</th>\n",
       "      <td>31.64200</td>\n",
       "      <td>0.0109</td>\n",
       "    </tr>\n",
       "    <tr>\n",
       "      <th>...</th>\n",
       "      <td>...</td>\n",
       "      <td>...</td>\n",
       "    </tr>\n",
       "    <tr>\n",
       "      <th>28-05-2010</th>\n",
       "      <td>12.77370</td>\n",
       "      <td>0.0021</td>\n",
       "    </tr>\n",
       "    <tr>\n",
       "      <th>26-05-2010</th>\n",
       "      <td>12.77160</td>\n",
       "      <td>0.0001</td>\n",
       "    </tr>\n",
       "    <tr>\n",
       "      <th>25-05-2010</th>\n",
       "      <td>12.77150</td>\n",
       "      <td>0.0014</td>\n",
       "    </tr>\n",
       "    <tr>\n",
       "      <th>24-05-2010</th>\n",
       "      <td>12.77010</td>\n",
       "      <td>0.0070</td>\n",
       "    </tr>\n",
       "    <tr>\n",
       "      <th>21-05-2010</th>\n",
       "      <td>12.76310</td>\n",
       "      <td>NaN</td>\n",
       "    </tr>\n",
       "  </tbody>\n",
       "</table>\n",
       "<p>3376 rows × 2 columns</p>\n",
       "</div>"
      ],
      "text/plain": [
       "                 nav  dayChange\n",
       "date                           \n",
       "16-05-2024  31.69950     0.0109\n",
       "15-05-2024  31.68860     0.0123\n",
       "14-05-2024  31.67630     0.0141\n",
       "13-05-2024  31.66220     0.0202\n",
       "10-05-2024  31.64200     0.0109\n",
       "...              ...        ...\n",
       "28-05-2010  12.77370     0.0021\n",
       "26-05-2010  12.77160     0.0001\n",
       "25-05-2010  12.77150     0.0014\n",
       "24-05-2010  12.77010     0.0070\n",
       "21-05-2010  12.76310        NaN\n",
       "\n",
       "[3376 rows x 2 columns]"
      ]
     },
     "execution_count": 31,
     "metadata": {},
     "output_type": "execute_result"
    }
   ],
   "source": [
    "nippon"
   ]
  },
  {
   "cell_type": "code",
   "execution_count": 43,
   "id": "cf42a9b1-5a62-4f0b-92af-079173a767b8",
   "metadata": {},
   "outputs": [
    {
     "data": {
      "text/html": [
       "<div>\n",
       "<style scoped>\n",
       "    .dataframe tbody tr th:only-of-type {\n",
       "        vertical-align: middle;\n",
       "    }\n",
       "\n",
       "    .dataframe tbody tr th {\n",
       "        vertical-align: top;\n",
       "    }\n",
       "\n",
       "    .dataframe thead th {\n",
       "        text-align: right;\n",
       "    }\n",
       "</style>\n",
       "<table border=\"1\" class=\"dataframe\">\n",
       "  <thead>\n",
       "    <tr style=\"text-align: right;\">\n",
       "      <th></th>\n",
       "      <th>nav</th>\n",
       "      <th>dayChange</th>\n",
       "    </tr>\n",
       "    <tr>\n",
       "      <th>date</th>\n",
       "      <th></th>\n",
       "      <th></th>\n",
       "    </tr>\n",
       "  </thead>\n",
       "  <tbody>\n",
       "    <tr>\n",
       "      <th>01-01-2013</th>\n",
       "      <td>15.50210</td>\n",
       "      <td>0.0085</td>\n",
       "    </tr>\n",
       "    <tr>\n",
       "      <th>01-01-2014</th>\n",
       "      <td>16.73900</td>\n",
       "      <td>0.0068</td>\n",
       "    </tr>\n",
       "    <tr>\n",
       "      <th>01-01-2015</th>\n",
       "      <td>18.57960</td>\n",
       "      <td>0.0124</td>\n",
       "    </tr>\n",
       "    <tr>\n",
       "      <th>01-01-2016</th>\n",
       "      <td>20.20650</td>\n",
       "      <td>0.0097</td>\n",
       "    </tr>\n",
       "    <tr>\n",
       "      <th>01-01-2018</th>\n",
       "      <td>23.80280</td>\n",
       "      <td>0.0221</td>\n",
       "    </tr>\n",
       "    <tr>\n",
       "      <th>...</th>\n",
       "      <td>...</td>\n",
       "      <td>...</td>\n",
       "    </tr>\n",
       "    <tr>\n",
       "      <th>31-12-2015</th>\n",
       "      <td>20.19680</td>\n",
       "      <td>0.0098</td>\n",
       "    </tr>\n",
       "    <tr>\n",
       "      <th>31-12-2018</th>\n",
       "      <td>25.22280</td>\n",
       "      <td>0.0169</td>\n",
       "    </tr>\n",
       "    <tr>\n",
       "      <th>31-12-2019</th>\n",
       "      <td>25.71240</td>\n",
       "      <td>0.0059</td>\n",
       "    </tr>\n",
       "    <tr>\n",
       "      <th>31-12-2020</th>\n",
       "      <td>24.19790</td>\n",
       "      <td>0.0065</td>\n",
       "    </tr>\n",
       "    <tr>\n",
       "      <th>31-12-2021</th>\n",
       "      <td>27.46550</td>\n",
       "      <td>0.0071</td>\n",
       "    </tr>\n",
       "  </tbody>\n",
       "</table>\n",
       "<p>3376 rows × 2 columns</p>\n",
       "</div>"
      ],
      "text/plain": [
       "                 nav  dayChange\n",
       "date                           \n",
       "01-01-2013  15.50210     0.0085\n",
       "01-01-2014  16.73900     0.0068\n",
       "01-01-2015  18.57960     0.0124\n",
       "01-01-2016  20.20650     0.0097\n",
       "01-01-2018  23.80280     0.0221\n",
       "...              ...        ...\n",
       "31-12-2015  20.19680     0.0098\n",
       "31-12-2018  25.22280     0.0169\n",
       "31-12-2019  25.71240     0.0059\n",
       "31-12-2020  24.19790     0.0065\n",
       "31-12-2021  27.46550     0.0071\n",
       "\n",
       "[3376 rows x 2 columns]"
      ]
     },
     "execution_count": 43,
     "metadata": {},
     "output_type": "execute_result"
    }
   ],
   "source": [
    "# sort data by ascending Order\n",
    "#nippon.nav = nippon.nav.astype('float) \n",
    "nippon.sort_index(ascending  = True)"
   ]
  },
  {
   "cell_type": "code",
   "execution_count": 55,
   "id": "bca9c1f1-a3e5-4760-b371-00bad822a881",
   "metadata": {},
   "outputs": [
    {
     "data": {
      "text/plain": [
       "['__class__',\n",
       " '__delattr__',\n",
       " '__dict__',\n",
       " '__dir__',\n",
       " '__doc__',\n",
       " '__eq__',\n",
       " '__format__',\n",
       " '__ge__',\n",
       " '__getattribute__',\n",
       " '__getstate__',\n",
       " '__gt__',\n",
       " '__hash__',\n",
       " '__init__',\n",
       " '__init_subclass__',\n",
       " '__le__',\n",
       " '__lt__',\n",
       " '__module__',\n",
       " '__ne__',\n",
       " '__new__',\n",
       " '__reduce__',\n",
       " '__reduce_ex__',\n",
       " '__repr__',\n",
       " '__setattr__',\n",
       " '__sizeof__',\n",
       " '__str__',\n",
       " '__subclasshook__',\n",
       " '__weakref__',\n",
       " '_get_daily_scheme_performance',\n",
       " 'calculate_balance_units_value',\n",
       " 'calculate_returns',\n",
       " 'get_all_amc_profiles',\n",
       " 'get_available_schemes',\n",
       " 'get_average_aum',\n",
       " 'get_open_ended_debt_scheme_performance',\n",
       " 'get_open_ended_equity_scheme_performance',\n",
       " 'get_open_ended_hybrid_scheme_performance',\n",
       " 'get_open_ended_other_scheme_performance',\n",
       " 'get_open_ended_solution_scheme_performance',\n",
       " 'get_scheme_codes',\n",
       " 'get_scheme_details',\n",
       " 'get_scheme_historical_nav',\n",
       " 'get_scheme_historical_nav_for_dates',\n",
       " 'get_scheme_historical_nav_year',\n",
       " 'get_scheme_info',\n",
       " 'get_scheme_quote',\n",
       " 'history',\n",
       " 'is_code',\n",
       " 'is_valid_code',\n",
       " 'set_proxy']"
      ]
     },
     "execution_count": 55,
     "metadata": {},
     "output_type": "execute_result"
    }
   ],
   "source": [
    "#Explore mftool library\n",
    "dir(Mftool)\n",
    "# Nippon India Data\n",
    "#nippon_2 = mf.get_scheme_historical_nav(\"112938\", as_Dataframe = True)         \n",
    "#nippon_3 = mf.get_average_aum(\"112938\") \n",
    "#nippon_4 = mf._get_daily_scheme_performance(\"112938\", as_Dataframe = True) \n",
    "#nippon_5 = mf.calculate_balance_units_value(\"112938\", as_Dataframe = True) \n",
    "#nippon_6 = mf.calculate_returns(\"112938\", as_Dataframe = True) \n",
    "#nippon_7 = mf.get_scheme_historical_nav(\"112938\", as_Dataframe = True) \n"
   ]
  },
  {
   "cell_type": "code",
   "execution_count": 52,
   "id": "a3fa42e2-a911-4eef-9811-82c7898a4a5b",
   "metadata": {},
   "outputs": [
    {
     "data": {
      "text/html": [
       "<div>\n",
       "<style scoped>\n",
       "    .dataframe tbody tr th:only-of-type {\n",
       "        vertical-align: middle;\n",
       "    }\n",
       "\n",
       "    .dataframe tbody tr th {\n",
       "        vertical-align: top;\n",
       "    }\n",
       "\n",
       "    .dataframe thead th {\n",
       "        text-align: right;\n",
       "    }\n",
       "</style>\n",
       "<table border=\"1\" class=\"dataframe\">\n",
       "  <thead>\n",
       "    <tr style=\"text-align: right;\">\n",
       "      <th></th>\n",
       "      <th>nav</th>\n",
       "      <th>dayChange</th>\n",
       "    </tr>\n",
       "    <tr>\n",
       "      <th>date</th>\n",
       "      <th></th>\n",
       "      <th></th>\n",
       "    </tr>\n",
       "  </thead>\n",
       "  <tbody>\n",
       "    <tr>\n",
       "      <th>16-05-2024</th>\n",
       "      <td>31.69950</td>\n",
       "      <td>0.0109</td>\n",
       "    </tr>\n",
       "    <tr>\n",
       "      <th>15-05-2024</th>\n",
       "      <td>31.68860</td>\n",
       "      <td>0.0123</td>\n",
       "    </tr>\n",
       "    <tr>\n",
       "      <th>14-05-2024</th>\n",
       "      <td>31.67630</td>\n",
       "      <td>0.0141</td>\n",
       "    </tr>\n",
       "    <tr>\n",
       "      <th>13-05-2024</th>\n",
       "      <td>31.66220</td>\n",
       "      <td>0.0202</td>\n",
       "    </tr>\n",
       "    <tr>\n",
       "      <th>10-05-2024</th>\n",
       "      <td>31.64200</td>\n",
       "      <td>0.0109</td>\n",
       "    </tr>\n",
       "    <tr>\n",
       "      <th>...</th>\n",
       "      <td>...</td>\n",
       "      <td>...</td>\n",
       "    </tr>\n",
       "    <tr>\n",
       "      <th>28-05-2010</th>\n",
       "      <td>12.77370</td>\n",
       "      <td>0.0021</td>\n",
       "    </tr>\n",
       "    <tr>\n",
       "      <th>26-05-2010</th>\n",
       "      <td>12.77160</td>\n",
       "      <td>0.0001</td>\n",
       "    </tr>\n",
       "    <tr>\n",
       "      <th>25-05-2010</th>\n",
       "      <td>12.77150</td>\n",
       "      <td>0.0014</td>\n",
       "    </tr>\n",
       "    <tr>\n",
       "      <th>24-05-2010</th>\n",
       "      <td>12.77010</td>\n",
       "      <td>0.0070</td>\n",
       "    </tr>\n",
       "    <tr>\n",
       "      <th>21-05-2010</th>\n",
       "      <td>12.76310</td>\n",
       "      <td>NaN</td>\n",
       "    </tr>\n",
       "  </tbody>\n",
       "</table>\n",
       "<p>3376 rows × 2 columns</p>\n",
       "</div>"
      ],
      "text/plain": [
       "                 nav  dayChange\n",
       "date                           \n",
       "16-05-2024  31.69950     0.0109\n",
       "15-05-2024  31.68860     0.0123\n",
       "14-05-2024  31.67630     0.0141\n",
       "13-05-2024  31.66220     0.0202\n",
       "10-05-2024  31.64200     0.0109\n",
       "...              ...        ...\n",
       "28-05-2010  12.77370     0.0021\n",
       "26-05-2010  12.77160     0.0001\n",
       "25-05-2010  12.77150     0.0014\n",
       "24-05-2010  12.77010     0.0070\n",
       "21-05-2010  12.76310        NaN\n",
       "\n",
       "[3376 rows x 2 columns]"
      ]
     },
     "execution_count": 52,
     "metadata": {},
     "output_type": "execute_result"
    }
   ],
   "source": [
    "nippon_2"
   ]
  },
  {
   "cell_type": "code",
   "execution_count": 33,
   "id": "894e01c6-7a94-43b6-a45e-2e13dcf99947",
   "metadata": {},
   "outputs": [],
   "source": [
    "##1. plot the return and actual NAV"
   ]
  },
  {
   "cell_type": "code",
   "execution_count": 34,
   "id": "e5518e27-92d5-4dd9-be7b-89fc9b9d40a7",
   "metadata": {},
   "outputs": [],
   "source": [
    "# 2 calcute Standard deviation of the return\n"
   ]
  },
  {
   "cell_type": "code",
   "execution_count": 35,
   "id": "a53eff28-2a94-47dc-8b5c-a9f7c3c5bf08",
   "metadata": {},
   "outputs": [],
   "source": [
    "# 3 Calculate Expected return from Retrun Series"
   ]
  },
  {
   "cell_type": "code",
   "execution_count": 36,
   "id": "e56aedcb-547c-4cdf-aa61-8675622940af",
   "metadata": {},
   "outputs": [],
   "source": [
    "# 4 Calculate Sharpe Ratio ( assuming Risk free rate 6%)"
   ]
  },
  {
   "cell_type": "code",
   "execution_count": 37,
   "id": "6c07033b-f079-4b3e-8617-3fae6a3d83b9",
   "metadata": {},
   "outputs": [],
   "source": [
    "# 5 Calcualre Sortino Ratio."
   ]
  },
  {
   "cell_type": "code",
   "execution_count": null,
   "id": "863c601b-d422-43fe-aa26-e1ed9bd03d1d",
   "metadata": {},
   "outputs": [],
   "source": [
    "# 6 Calculate Beta\n",
    "#6.1 take Nifty 50 as benchmark. Take the Nifty daily values for same time frame. calcualte % return.\n",
    "#6.2 You already have Nippon Return Series.\n",
    "#6.3 Regression -- Nippon return ~ f(nifty return).. You'll get beta from Here. Interprete Beta"
   ]
  },
  {
   "cell_type": "code",
   "execution_count": 39,
   "id": "6098c6c6-e156-47d0-8c60-d9e7bcebe2cb",
   "metadata": {},
   "outputs": [],
   "source": [
    "#7 Caculate R square.\n",
    "#7.1 take Nifty return Series \n",
    "# 7.2 take Nippon Return Series\n",
    "# 7.3 calculate Correlation."
   ]
  },
  {
   "cell_type": "code",
   "execution_count": 40,
   "id": "14cec098-2010-4aef-8afc-ecab23ebd222",
   "metadata": {},
   "outputs": [],
   "source": [
    "#8 Calculate Value at Risk"
   ]
  },
  {
   "cell_type": "code",
   "execution_count": 41,
   "id": "229c221b-c5f7-4d45-be01-916534f11735",
   "metadata": {},
   "outputs": [],
   "source": [
    "# 9 calcualte Skewness Kurtosis"
   ]
  },
  {
   "cell_type": "code",
   "execution_count": null,
   "id": "ef6ed188-f306-46ad-9a12-2bc943843801",
   "metadata": {},
   "outputs": [],
   "source": []
  }
 ],
 "metadata": {
  "kernelspec": {
   "display_name": "Python 3 (ipykernel)",
   "language": "python",
   "name": "python3"
  },
  "language_info": {
   "codemirror_mode": {
    "name": "ipython",
    "version": 3
   },
   "file_extension": ".py",
   "mimetype": "text/x-python",
   "name": "python",
   "nbconvert_exporter": "python",
   "pygments_lexer": "ipython3",
   "version": "3.11.7"
  }
 },
 "nbformat": 4,
 "nbformat_minor": 5
}
