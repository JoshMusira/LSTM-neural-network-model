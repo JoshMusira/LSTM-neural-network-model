{
 "cells": [
  {
   "cell_type": "code",
   "execution_count": 1,
   "id": "cd9b4ed3-4eca-475d-adba-c3a929620c63",
   "metadata": {},
   "outputs": [],
   "source": [
    "import pandas as pd\n",
    "import numpy as np\n",
    "import datetime as dt\n",
    "import yfinance as yf\n",
    "import matplotlib.pyplot as plt\n",
    "%matplotlib inline\n"
   ]
  },
  {
   "cell_type": "code",
   "execution_count": 2,
   "id": "87b9c19a-fc00-4618-a982-6f544b5c201c",
   "metadata": {},
   "outputs": [
    {
     "data": {
      "text/html": [
       "        <script type=\"text/javascript\">\n",
       "        window.PlotlyConfig = {MathJaxConfig: 'local'};\n",
       "        if (window.MathJax && window.MathJax.Hub && window.MathJax.Hub.Config) {window.MathJax.Hub.Config({SVG: {font: \"STIX-Web\"}});}\n",
       "        if (typeof require !== 'undefined') {\n",
       "        require.undef(\"plotly\");\n",
       "        requirejs.config({\n",
       "            paths: {\n",
       "                'plotly': ['https://cdn.plot.ly/plotly-2.12.1.min']\n",
       "            }\n",
       "        });\n",
       "        require(['plotly'], function(Plotly) {\n",
       "            window._Plotly = Plotly;\n",
       "        });\n",
       "        }\n",
       "        </script>\n",
       "        "
      ]
     },
     "metadata": {},
     "output_type": "display_data"
    }
   ],
   "source": [
    "import chart_studio.plotly as py\n",
    "import plotly.graph_objs as go\n",
    "from plotly.offline import plot\n",
    "\n",
    "#for offline plotting\n",
    "from plotly.offline import download_plotlyjs, init_notebook_mode, plot, iplot\n",
    "init_notebook_mode(connected = True)\n"
   ]
  },
  {
   "cell_type": "code",
   "execution_count": 3,
   "id": "9919dbd1-7a88-477d-bd72-bb6990fcbb7a",
   "metadata": {},
   "outputs": [],
   "source": [
    "# Function to fetch historical price data from Yahoo Finance\n",
    "def fetch_stock_data(ticker_symbol, start_date, end_date):\n",
    "        # ticker_symbol: Ticker symbol of the stock.\n",
    "        # start_date: Start date in 'YYYY-MM-DD' format.\n",
    "        # end_date: End date in 'YYYY-MM-DD' format.\n",
    "\n",
    "    stock_data = yf.download(ticker_symbol, start=start_date, end=end_date)\n",
    "    return stock_data\n"
   ]
  },
  {
   "cell_type": "code",
   "execution_count": 4,
   "id": "51f74827-963c-487e-98f1-0c1e20881db6",
   "metadata": {},
   "outputs": [],
   "source": [
    "# Define Parameters\n",
    "ticker_symbol = 'CSCO'\n",
    "start_date = dt.datetime.now() - dt.timedelta(days=2*365)\n",
    "start_date = start_date.strftime('%Y-%m-%d')\n",
    "end_date = dt.datetime.now() - dt.timedelta(days=1)\n",
    "end_date = end_date.strftime('%Y-%m-%d')"
   ]
  },
  {
   "cell_type": "code",
   "execution_count": 6,
   "id": "80049166-3e5e-44d1-93df-77dd9fae0ab2",
   "metadata": {},
   "outputs": [
    {
     "name": "stderr",
     "output_type": "stream",
     "text": [
      "[*********************100%%**********************]  1 of 1 completed\n"
     ]
    },
    {
     "data": {
      "text/html": [
       "<div>\n",
       "<style scoped>\n",
       "    .dataframe tbody tr th:only-of-type {\n",
       "        vertical-align: middle;\n",
       "    }\n",
       "\n",
       "    .dataframe tbody tr th {\n",
       "        vertical-align: top;\n",
       "    }\n",
       "\n",
       "    .dataframe thead th {\n",
       "        text-align: right;\n",
       "    }\n",
       "</style>\n",
       "<table border=\"1\" class=\"dataframe\">\n",
       "  <thead>\n",
       "    <tr style=\"text-align: right;\">\n",
       "      <th></th>\n",
       "      <th>Open</th>\n",
       "      <th>High</th>\n",
       "      <th>Low</th>\n",
       "      <th>Close</th>\n",
       "      <th>Adj Close</th>\n",
       "      <th>Volume</th>\n",
       "    </tr>\n",
       "    <tr>\n",
       "      <th>Date</th>\n",
       "      <th></th>\n",
       "      <th></th>\n",
       "      <th></th>\n",
       "      <th></th>\n",
       "      <th></th>\n",
       "      <th></th>\n",
       "    </tr>\n",
       "  </thead>\n",
       "  <tbody>\n",
       "    <tr>\n",
       "      <th>2022-05-19</th>\n",
       "      <td>43.060001</td>\n",
       "      <td>43.930000</td>\n",
       "      <td>41.020000</td>\n",
       "      <td>41.720001</td>\n",
       "      <td>39.122368</td>\n",
       "      <td>97674600</td>\n",
       "    </tr>\n",
       "    <tr>\n",
       "      <th>2022-05-20</th>\n",
       "      <td>41.860001</td>\n",
       "      <td>43.000000</td>\n",
       "      <td>41.520000</td>\n",
       "      <td>42.939999</td>\n",
       "      <td>40.266399</td>\n",
       "      <td>46148700</td>\n",
       "    </tr>\n",
       "    <tr>\n",
       "      <th>2022-05-23</th>\n",
       "      <td>43.340000</td>\n",
       "      <td>43.820000</td>\n",
       "      <td>42.939999</td>\n",
       "      <td>43.349998</td>\n",
       "      <td>40.650864</td>\n",
       "      <td>27366600</td>\n",
       "    </tr>\n",
       "    <tr>\n",
       "      <th>2022-05-24</th>\n",
       "      <td>43.400002</td>\n",
       "      <td>44.060001</td>\n",
       "      <td>42.500000</td>\n",
       "      <td>43.770000</td>\n",
       "      <td>41.044720</td>\n",
       "      <td>30053900</td>\n",
       "    </tr>\n",
       "    <tr>\n",
       "      <th>2022-05-25</th>\n",
       "      <td>43.750000</td>\n",
       "      <td>44.419998</td>\n",
       "      <td>43.189999</td>\n",
       "      <td>44.000000</td>\n",
       "      <td>41.260406</td>\n",
       "      <td>25504600</td>\n",
       "    </tr>\n",
       "    <tr>\n",
       "      <th>...</th>\n",
       "      <td>...</td>\n",
       "      <td>...</td>\n",
       "      <td>...</td>\n",
       "      <td>...</td>\n",
       "      <td>...</td>\n",
       "      <td>...</td>\n",
       "    </tr>\n",
       "    <tr>\n",
       "      <th>2024-05-10</th>\n",
       "      <td>48.000000</td>\n",
       "      <td>48.099998</td>\n",
       "      <td>47.700001</td>\n",
       "      <td>48.060001</td>\n",
       "      <td>48.060001</td>\n",
       "      <td>12096900</td>\n",
       "    </tr>\n",
       "    <tr>\n",
       "      <th>2024-05-13</th>\n",
       "      <td>48.310001</td>\n",
       "      <td>48.820000</td>\n",
       "      <td>48.230000</td>\n",
       "      <td>48.680000</td>\n",
       "      <td>48.680000</td>\n",
       "      <td>15149100</td>\n",
       "    </tr>\n",
       "    <tr>\n",
       "      <th>2024-05-14</th>\n",
       "      <td>48.980000</td>\n",
       "      <td>49.180000</td>\n",
       "      <td>48.349998</td>\n",
       "      <td>48.950001</td>\n",
       "      <td>48.950001</td>\n",
       "      <td>17379700</td>\n",
       "    </tr>\n",
       "    <tr>\n",
       "      <th>2024-05-15</th>\n",
       "      <td>49.189999</td>\n",
       "      <td>49.730000</td>\n",
       "      <td>48.730000</td>\n",
       "      <td>49.669998</td>\n",
       "      <td>49.669998</td>\n",
       "      <td>37342100</td>\n",
       "    </tr>\n",
       "    <tr>\n",
       "      <th>2024-05-16</th>\n",
       "      <td>50.080002</td>\n",
       "      <td>50.110001</td>\n",
       "      <td>48.169998</td>\n",
       "      <td>48.340000</td>\n",
       "      <td>48.340000</td>\n",
       "      <td>47829400</td>\n",
       "    </tr>\n",
       "  </tbody>\n",
       "</table>\n",
       "<p>501 rows × 6 columns</p>\n",
       "</div>"
      ],
      "text/plain": [
       "                 Open       High        Low      Close  Adj Close    Volume\n",
       "Date                                                                       \n",
       "2022-05-19  43.060001  43.930000  41.020000  41.720001  39.122368  97674600\n",
       "2022-05-20  41.860001  43.000000  41.520000  42.939999  40.266399  46148700\n",
       "2022-05-23  43.340000  43.820000  42.939999  43.349998  40.650864  27366600\n",
       "2022-05-24  43.400002  44.060001  42.500000  43.770000  41.044720  30053900\n",
       "2022-05-25  43.750000  44.419998  43.189999  44.000000  41.260406  25504600\n",
       "...               ...        ...        ...        ...        ...       ...\n",
       "2024-05-10  48.000000  48.099998  47.700001  48.060001  48.060001  12096900\n",
       "2024-05-13  48.310001  48.820000  48.230000  48.680000  48.680000  15149100\n",
       "2024-05-14  48.980000  49.180000  48.349998  48.950001  48.950001  17379700\n",
       "2024-05-15  49.189999  49.730000  48.730000  49.669998  49.669998  37342100\n",
       "2024-05-16  50.080002  50.110001  48.169998  48.340000  48.340000  47829400\n",
       "\n",
       "[501 rows x 6 columns]"
      ]
     },
     "execution_count": 6,
     "metadata": {},
     "output_type": "execute_result"
    }
   ],
   "source": [
    "\n",
    "# Fetch historical price data\n",
    "stock_data = fetch_stock_data(ticker_symbol, start_date, end_date)\n",
    "stock_data\n",
    "# adj_close_prices = stock_data['Adj Close'].values"
   ]
  },
  {
   "cell_type": "code",
   "execution_count": 13,
   "id": "8efd582a-cfc3-4d39-9434-d1c5bb65f771",
   "metadata": {},
   "outputs": [
    {
     "name": "stdout",
     "output_type": "stream",
     "text": [
      "<class 'pandas.core.frame.DataFrame'>\n",
      "DatetimeIndex: 501 entries, 2022-05-18 to 2024-05-15\n",
      "Data columns (total 6 columns):\n",
      " #   Column     Non-Null Count  Dtype  \n",
      "---  ------     --------------  -----  \n",
      " 0   Open       501 non-null    float64\n",
      " 1   High       501 non-null    float64\n",
      " 2   Low        501 non-null    float64\n",
      " 3   Close      501 non-null    float64\n",
      " 4   Adj Close  501 non-null    float64\n",
      " 5   Volume     501 non-null    int64  \n",
      "dtypes: float64(5), int64(1)\n",
      "memory usage: 27.4 KB\n"
     ]
    }
   ],
   "source": [
    "#displays a summary of the DataFrame\n",
    "stock_data.info()\n"
   ]
  },
  {
   "cell_type": "code",
   "execution_count": 15,
   "id": "a7854ca0-3205-4f35-b808-44198e615c0b",
   "metadata": {},
   "outputs": [
    {
     "data": {
      "text/plain": [
       "<Axes: >"
      ]
     },
     "execution_count": 15,
     "metadata": {},
     "output_type": "execute_result"
    },
    {
     "data": {
      "image/png": "[encoded data removed]",
      "text/plain": [
       "<Figure size 640x480 with 1 Axes>"
      ]
     },
     "metadata": {},
     "output_type": "display_data"
    }
   ],
   "source": [
    "#Checlking for possible outliers in the stock dataset\n",
    "stock_data[['Open','High','Low','Close','Adj Close']].plot(kind='box')\n"
   ]
  },
  {
   "cell_type": "markdown",
   "id": "d2e2d47d-82f9-44d9-9558-98639304e1e4",
   "metadata": {},
   "source": [
    "### Note"
   ]
  },
  {
   "cell_type": "markdown",
   "id": "5bb10187-077e-4e67-805b-6986cc2d6163",
   "metadata": {},
   "source": [
    "There  are no big outtliers to worry about. We can proced the way it is."
   ]
  },
  {
   "cell_type": "code",
   "execution_count": 14,
   "id": "ff0a08f3-34aa-40e9-8bdd-fa7ecdd14af4",
   "metadata": {},
   "outputs": [],
   "source": [
    "# Setting the layout for our plot\n",
    "layout = go.Layout(\n",
    "    title='CISCO Stock Prices',  # Title of the plot\n",
    "    xaxis=dict(\n",
    "        title='Date',  # Title of the x-axis\n",
    "        titlefont=dict(\n",
    "            family='Courier New, monospace',  # Font family for the x-axis title\n",
    "            size=18,  # Font size for the x-axis title\n",
    "            color='#7f7f7f'  # Font color for the x-axis title\n",
    "        )\n",
    "    ),\n",
    "    yaxis=dict(\n",
    "        title='Price',  # Title of the y-axis\n",
    "        titlefont=dict(\n",
    "            family='Courier New, monospace',  # Font family for the y-axis title\n",
    "            size=18,  # Font size for the y-axis title\n",
    "            color='#7f7f7f'  # Font color for the y-axis title\n",
    "        )\n",
    "    )\n",
    ")\n",
    "\n",
    "# Preparing the data for the plot\n",
    "# 'x' contains the dates from the stock_data index\n",
    "# 'y' contains the closing prices from the stock_data 'Close' column\n",
    "stock_data2 = [{'x': stock_data.index, 'y': stock_data['Close']}]\n",
    "\n",
    "# Creating the figure with the specified data and layout\n",
    "plot = go.Figure(data=stock_data2, layout=layout)\n"
   ]
  },
  {
   "cell_type": "code",
   "execution_count": 18,
   "id": "2c3959eb-6be5-42bc-8cc1-61c54ab1a113",
   "metadata": {},
   "outputs": [
    {
     "data": {
      "application/vnd.plotly.v1+json": {
       "config": {
        "linkText": "Export to plot.ly",
        "plotlyServerURL": "https://plot.ly",
        "showLink": false
       },
       "data": [
        {
         "type": "scatter",
         "x": [
          "2022-05-18T00:00:00",
          "2022-05-19T00:00:00",
          "2022-05-20T00:00:00",
          "2022-05-23T00:00:00",
          "2022-05-24T00:00:00",
          "2022-05-25T00:00:00",
          "2022-05-26T00:00:00",
          "2022-05-27T00:00:00",
          "2022-05-31T00:00:00",
          "2022-06-01T00:00:00",
          "2022-06-02T00:00:00",
          "2022-06-03T00:00:00",
          "2022-06-06T00:00:00",
          "2022-06-07T00:00:00",
          "2022-06-08T00:00:00",
          "2022-06-09T00:00:00",
          "2022-06-10T00:00:00",
          "2022-06-13T00:00:00",
          "2022-06-14T00:00:00",
          "2022-06-15T00:00:00",
          "2022-06-16T00:00:00",
          "2022-06-17T00:00:00",
          "2022-06-21T00:00:00",
          "2022-06-22T00:00:00",
          "2022-06-23T00:00:00",
          "2022-06-24T00:00:00",
          "2022-06-27T00:00:00",
          "2022-06-28T00:00:00",
          "2022-06-29T00:00:00",
          "2022-06-30T00:00:00",
          "2022-07-01T00:00:00",
          "2022-07-05T00:00:00",
          "2022-07-06T00:00:00",
          "2022-07-07T00:00:00",
          "2022-07-08T00:00:00",
          "2022-07-11T00:00:00",
          "2022-07-12T00:00:00",
          "2022-07-13T00:00:00",
          "2022-07-14T00:00:00",
          "2022-07-15T00:00:00",
          "2022-07-18T00:00:00",
          "2022-07-19T00:00:00",
          "2022-07-20T00:00:00",
          "2022-07-21T00:00:00",
          "2022-07-22T00:00:00",
          "2022-07-25T00:00:00",
          "2022-07-26T00:00:00",
          "2022-07-27T00:00:00",
          "2022-07-28T00:00:00",
          "2022-07-29T00:00:00",
          "2022-08-01T00:00:00",
          "2022-08-02T00:00:00",
          "2022-08-03T00:00:00",
          "2022-08-04T00:00:00",
          "2022-08-05T00:00:00",
          "2022-08-08T00:00:00",
          "2022-08-09T00:00:00",
          "2022-08-10T00:00:00",
          "2022-08-11T00:00:00",
          "2022-08-12T00:00:00",
          "2022-08-15T00:00:00",
          "2022-08-16T00:00:00",
          "2022-08-17T00:00:00",
          "2022-08-18T00:00:00",
          "2022-08-19T00:00:00",
          "2022-08-22T00:00:00",
          "2022-08-23T00:00:00",
          "2022-08-24T00:00:00",
          "2022-08-25T00:00:00",
          "2022-08-26T00:00:00",
          "2022-08-29T00:00:00",
          "2022-08-30T00:00:00",
          "2022-08-31T00:00:00",
          "2022-09-01T00:00:00",
          "2022-09-02T00:00:00",
          "2022-09-06T00:00:00",
          "2022-09-07T00:00:00",
          "2022-09-08T00:00:00",
          "2022-09-09T00:00:00",
          "2022-09-12T00:00:00",
          "2022-09-13T00:00:00",
          "2022-09-14T00:00:00",
          "2022-09-15T00:00:00",
          "2022-09-16T00:00:00",
          "2022-09-19T00:00:00",
          "2022-09-20T00:00:00",
          "2022-09-21T00:00:00",
          "2022-09-22T00:00:00",
          "2022-09-23T00:00:00",
          "2022-09-26T00:00:00",
          "2022-09-27T00:00:00",
          "2022-09-28T00:00:00",
          "2022-09-29T00:00:00",
          "2022-09-30T00:00:00",
          "2022-10-03T00:00:00",
          "2022-10-04T00:00:00",
          "2022-10-05T00:00:00",
          "2022-10-06T00:00:00",
          "2022-10-07T00:00:00",
          "2022-10-10T00:00:00",
          "2022-10-11T00:00:00",
          "2022-10-12T00:00:00",
          "2022-10-13T00:00:00",
          "2022-10-14T00:00:00",
          "2022-10-17T00:00:00",
          "2022-10-18T00:00:00",
          "2022-10-19T00:00:00",
          "2022-10-20T00:00:00",
          "2022-10-21T00:00:00",
          "2022-10-24T00:00:00",
          "2022-10-25T00:00:00",
          "2022-10-26T00:00:00",
          "2022-10-27T00:00:00",
          "2022-10-28T00:00:00",
          "2022-10-31T00:00:00",
          "2022-11-01T00:00:00",
          "2022-11-02T00:00:00",
          "2022-11-03T00:00:00",
          "2022-11-04T00:00:00",
          "2022-11-07T00:00:00",
          "2022-11-08T00:00:00",
          "2022-11-09T00:00:00",
          "2022-11-10T00:00:00",
          "2022-11-11T00:00:00",
          "2022-11-14T00:00:00",
          "2022-11-15T00:00:00",
          "2022-11-16T00:00:00",
          "2022-11-17T00:00:00",
          "2022-11-18T00:00:00",
          "2022-11-21T00:00:00",
          "2022-11-22T00:00:00",
          "2022-11-23T00:00:00",
          "2022-11-25T00:00:00",
          "2022-11-28T00:00:00",
          "2022-11-29T00:00:00",
          "2022-11-30T00:00:00",
          "2022-12-01T00:00:00",
          "2022-12-02T00:00:00",
          "2022-12-05T00:00:00",
          "2022-12-06T00:00:00",
          "2022-12-07T00:00:00",
          "2022-12-08T00:00:00",
          "2022-12-09T00:00:00",
          "2022-12-12T00:00:00",
          "2022-12-13T00:00:00",
          "2022-12-14T00:00:00",
          "2022-12-15T00:00:00",
          "2022-12-16T00:00:00",
          "2022-12-19T00:00:00",
          "2022-12-20T00:00:00",
          "2022-12-21T00:00:00",
          "2022-12-22T00:00:00",
          "2022-12-23T00:00:00",
          "2022-12-27T00:00:00",
          "2022-12-28T00:00:00",
          "2022-12-29T00:00:00",
          "2022-12-30T00:00:00",
          "2023-01-03T00:00:00",
          "2023-01-04T00:00:00",
          "2023-01-05T00:00:00",
          "2023-01-06T00:00:00",
          "2023-01-09T00:00:00",
          "2023-01-10T00:00:00",
          "2023-01-11T00:00:00",
          "2023-01-12T00:00:00",
          "2023-01-13T00:00:00",
          "2023-01-17T00:00:00",
          "2023-01-18T00:00:00",
          "2023-01-19T00:00:00",
          "2023-01-20T00:00:00",
          "2023-01-23T00:00:00",
          "2023-01-24T00:00:00",
          "2023-01-25T00:00:00",
          "2023-01-26T00:00:00",
          "2023-01-27T00:00:00",
          "2023-01-30T00:00:00",
          "2023-01-31T00:00:00",
          "2023-02-01T00:00:00",
          "2023-02-02T00:00:00",
          "2023-02-03T00:00:00",
          "2023-02-06T00:00:00",
          "2023-02-07T00:00:00",
          "2023-02-08T00:00:00",
          "2023-02-09T00:00:00",
          "2023-02-10T00:00:00",
          "2023-02-13T00:00:00",
          "2023-02-14T00:00:00",
          "2023-02-15T00:00:00",
          "2023-02-16T00:00:00",
          "2023-02-17T00:00:00",
          "2023-02-21T00:00:00",
          "2023-02-22T00:00:00",
          "2023-02-23T00:00:00",
          "2023-02-24T00:00:00",
          "2023-02-27T00:00:00",
          "2023-02-28T00:00:00",
          "2023-03-01T00:00:00",
          "2023-03-02T00:00:00",
          "2023-03-03T00:00:00",
          "2023-03-06T00:00:00",
          "2023-03-07T00:00:00",
          "2023-03-08T00:00:00",
          "2023-03-09T00:00:00",
          "2023-03-10T00:00:00",
          "2023-03-13T00:00:00",
          "2023-03-14T00:00:00",
          "2023-03-15T00:00:00",
          "2023-03-16T00:00:00",
          "2023-03-17T00:00:00",
          "2023-03-20T00:00:00",
          "2023-03-21T00:00:00",
          "2023-03-22T00:00:00",
          "2023-03-23T00:00:00",
          "2023-03-24T00:00:00",
          "2023-03-27T00:00:00",
          "2023-03-28T00:00:00",
          "2023-03-29T00:00:00",
          "2023-03-30T00:00:00",
          "2023-03-31T00:00:00",
          "2023-04-03T00:00:00",
          "2023-04-04T00:00:00",
          "2023-04-05T00:00:00",
          "2023-04-06T00:00:00",
          "2023-04-10T00:00:00",
          "2023-04-11T00:00:00",
          "2023-04-12T00:00:00",
          "2023-04-13T00:00:00",
          "2023-04-14T00:00:00",
          "2023-04-17T00:00:00",
          "2023-04-18T00:00:00",
          "2023-04-19T00:00:00",
          "2023-04-20T00:00:00",
          "2023-04-21T00:00:00",
          "2023-04-24T00:00:00",
          "2023-04-25T00:00:00",
          "2023-04-26T00:00:00",
          "2023-04-27T00:00:00",
          "2023-04-28T00:00:00",
          "2023-05-01T00:00:00",
          "2023-05-02T00:00:00",
          "2023-05-03T00:00:00",
          "2023-05-04T00:00:00",
          "2023-05-05T00:00:00",
          "2023-05-08T00:00:00",
          "2023-05-09T00:00:00",
          "2023-05-10T00:00:00",
          "2023-05-11T00:00:00",
          "2023-05-12T00:00:00",
          "2023-05-15T00:00:00",
          "2023-05-16T00:00:00",
          "2023-05-17T00:00:00",
          "2023-05-18T00:00:00",
          "2023-05-19T00:00:00",
          "2023-05-22T00:00:00",
          "2023-05-23T00:00:00",
          "2023-05-24T00:00:00",
          "2023-05-25T00:00:00",
          "2023-05-26T00:00:00",
          "2023-05-30T00:00:00",
          "2023-05-31T00:00:00",
          "2023-06-01T00:00:00",
          "2023-06-02T00:00:00",
          "2023-06-05T00:00:00",
          "2023-06-06T00:00:00",
          "2023-06-07T00:00:00",
          "2023-06-08T00:00:00",
          "2023-06-09T00:00:00",
          "2023-06-12T00:00:00",
          "2023-06-13T00:00:00",
          "2023-06-14T00:00:00",
          "2023-06-15T00:00:00",
          "2023-06-16T00:00:00",
          "2023-06-20T00:00:00",
          "2023-06-21T00:00:00",
          "2023-06-22T00:00:00",
          "2023-06-23T00:00:00",
          "2023-06-26T00:00:00",
          "2023-06-27T00:00:00",
          "2023-06-28T00:00:00",
          "2023-06-29T00:00:00",
          "2023-06-30T00:00:00",
          "2023-07-03T00:00:00",
          "2023-07-05T00:00:00",
          "2023-07-06T00:00:00",
          "2023-07-07T00:00:00",
          "2023-07-10T00:00:00",
          "2023-07-11T00:00:00",
          "2023-07-12T00:00:00",
          "2023-07-13T00:00:00",
          "2023-07-14T00:00:00",
          "2023-07-17T00:00:00",
          "2023-07-18T00:00:00",
          "2023-07-19T00:00:00",
          "2023-07-20T00:00:00",
          "2023-07-21T00:00:00",
          "2023-07-24T00:00:00",
          "2023-07-25T00:00:00",
          "2023-07-26T00:00:00",
          "2023-07-27T00:00:00",
          "2023-07-28T00:00:00",
          "2023-07-31T00:00:00",
          "2023-08-01T00:00:00",
          "2023-08-02T00:00:00",
          "2023-08-03T00:00:00",
          "2023-08-04T00:00:00",
          "2023-08-07T00:00:00",
          "2023-08-08T00:00:00",
          "2023-08-09T00:00:00",
          "2023-08-10T00:00:00",
          "2023-08-11T00:00:00",
          "2023-08-14T00:00:00",
          "2023-08-15T00:00:00",
          "2023-08-16T00:00:00",
          "2023-08-17T00:00:00",
          "2023-08-18T00:00:00",
          "2023-08-21T00:00:00",
          "2023-08-22T00:00:00",
          "2023-08-23T00:00:00",
          "2023-08-24T00:00:00",
          "2023-08-25T00:00:00",
          "2023-08-28T00:00:00",
          "2023-08-29T00:00:00",
          "2023-08-30T00:00:00",
          "2023-08-31T00:00:00",
          "2023-09-01T00:00:00",
          "2023-09-05T00:00:00",
          "2023-09-06T00:00:00",
          "2023-09-07T00:00:00",
          "2023-09-08T00:00:00",
          "2023-09-11T00:00:00",
          "2023-09-12T00:00:00",
          "2023-09-13T00:00:00",
          "2023-09-14T00:00:00",
          "2023-09-15T00:00:00",
          "2023-09-18T00:00:00",
          "2023-09-19T00:00:00",
          "2023-09-20T00:00:00",
          "2023-09-21T00:00:00",
          "2023-09-22T00:00:00",
          "2023-09-25T00:00:00",
          "2023-09-26T00:00:00",
          "2023-09-27T00:00:00",
          "2023-09-28T00:00:00",
          "2023-09-29T00:00:00",
          "2023-10-02T00:00:00",
          "2023-10-03T00:00:00",
          "2023-10-04T00:00:00",
          "2023-10-05T00:00:00",
          "2023-10-06T00:00:00",
          "2023-10-09T00:00:00",
          "2023-10-10T00:00:00",
          "2023-10-11T00:00:00",
          "2023-10-12T00:00:00",
          "2023-10-13T00:00:00",
          "2023-10-16T00:00:00",
          "2023-10-17T00:00:00",
          "2023-10-18T00:00:00",
          "2023-10-19T00:00:00",
          "2023-10-20T00:00:00",
          "2023-10-23T00:00:00",
          "2023-10-24T00:00:00",
          "2023-10-25T00:00:00",
          "2023-10-26T00:00:00",
          "2023-10-27T00:00:00",
          "2023-10-30T00:00:00",
          "2023-10-31T00:00:00",
          "2023-11-01T00:00:00",
          "2023-11-02T00:00:00",
          "2023-11-03T00:00:00",
          "2023-11-06T00:00:00",
          "2023-11-07T00:00:00",
          "2023-11-08T00:00:00",
          "2023-11-09T00:00:00",
          "2023-11-10T00:00:00",
          "2023-11-13T00:00:00",
          "2023-11-14T00:00:00",
          "2023-11-15T00:00:00",
          "2023-11-16T00:00:00",
          "2023-11-17T00:00:00",
          "2023-11-20T00:00:00",
          "2023-11-21T00:00:00",
          "2023-11-22T00:00:00",
          "2023-11-24T00:00:00",
          "2023-11-27T00:00:00",
          "2023-11-28T00:00:00",
          "2023-11-29T00:00:00",
          "2023-11-30T00:00:00",
          "2023-12-01T00:00:00",
          "2023-12-04T00:00:00",
          "2023-12-05T00:00:00",
          "2023-12-06T00:00:00",
          "2023-12-07T00:00:00",
          "2023-12-08T00:00:00",
          "2023-12-11T00:00:00",
          "2023-12-12T00:00:00",
          "2023-12-13T00:00:00",
          "2023-12-14T00:00:00",
          "2023-12-15T00:00:00",
          "2023-12-18T00:00:00",
          "2023-12-19T00:00:00",
          "2023-12-20T00:00:00",
          "2023-12-21T00:00:00",
          "2023-12-22T00:00:00",
          "2023-12-26T00:00:00",
          "2023-12-27T00:00:00",
          "2023-12-28T00:00:00",
          "2023-12-29T00:00:00",
          "2024-01-02T00:00:00",
          "2024-01-03T00:00:00",
          "2024-01-04T00:00:00",
          "2024-01-05T00:00:00",
          "2024-01-08T00:00:00",
          "2024-01-09T00:00:00",
          "2024-01-10T00:00:00",
          "2024-01-11T00:00:00",
          "2024-01-12T00:00:00",
          "2024-01-16T00:00:00",
          "2024-01-17T00:00:00",
          "2024-01-18T00:00:00",
          "2024-01-19T00:00:00",
          "2024-01-22T00:00:00",
          "2024-01-23T00:00:00",
          "2024-01-24T00:00:00",
          "2024-01-25T00:00:00",
          "2024-01-26T00:00:00",
          "2024-01-29T00:00:00",
          "2024-01-30T00:00:00",
          "2024-01-31T00:00:00",
          "2024-02-01T00:00:00",
          "2024-02-02T00:00:00",
          "2024-02-05T00:00:00",
          "2024-02-06T00:00:00",
          "2024-02-07T00:00:00",
          "2024-02-08T00:00:00",
          "2024-02-09T00:00:00",
          "2024-02-12T00:00:00",
          "2024-02-13T00:00:00",
          "2024-02-14T00:00:00",
          "2024-02-15T00:00:00",
          "2024-02-16T00:00:00",
          "2024-02-20T00:00:00",
          "2024-02-21T00:00:00",
          "2024-02-22T00:00:00",
          "2024-02-23T00:00:00",
          "2024-02-26T00:00:00",
          "2024-02-27T00:00:00",
          "2024-02-28T00:00:00",
          "2024-02-29T00:00:00",
          "2024-03-01T00:00:00",
          "2024-03-04T00:00:00",
          "2024-03-05T00:00:00",
          "2024-03-06T00:00:00",
          "2024-03-07T00:00:00",
          "2024-03-08T00:00:00",
          "2024-03-11T00:00:00",
          "2024-03-12T00:00:00",
          "2024-03-13T00:00:00",
          "2024-03-14T00:00:00",
          "2024-03-15T00:00:00",
          "2024-03-18T00:00:00",
          "2024-03-19T00:00:00",
          "2024-03-20T00:00:00",
          "2024-03-21T00:00:00",
          "2024-03-22T00:00:00",
          "2024-03-25T00:00:00",
          "2024-03-26T00:00:00",
          "2024-03-27T00:00:00",
          "2024-03-28T00:00:00",
          "2024-04-01T00:00:00",
          "2024-04-02T00:00:00",
          "2024-04-03T00:00:00",
          "2024-04-04T00:00:00",
          "2024-04-05T00:00:00",
          "2024-04-08T00:00:00",
          "2024-04-09T00:00:00",
          "2024-04-10T00:00:00",
          "2024-04-11T00:00:00",
          "2024-04-12T00:00:00",
          "2024-04-15T00:00:00",
          "2024-04-16T00:00:00",
          "2024-04-17T00:00:00",
          "2024-04-18T00:00:00",
          "2024-04-19T00:00:00",
          "2024-04-22T00:00:00",
          "2024-04-23T00:00:00",
          "2024-04-24T00:00:00",
          "2024-04-25T00:00:00",
          "2024-04-26T00:00:00",
          "2024-04-29T00:00:00",
          "2024-04-30T00:00:00",
          "2024-05-01T00:00:00",
          "2024-05-02T00:00:00",
          "2024-05-03T00:00:00",
          "2024-05-06T00:00:00",
          "2024-05-07T00:00:00",
          "2024-05-08T00:00:00",
          "2024-05-09T00:00:00",
          "2024-05-10T00:00:00",
          "2024-05-13T00:00:00",
          "2024-05-14T00:00:00",
          "2024-05-15T00:00:00"
         ],
         "y": [
          48.36000061035156,
          41.720001220703125,
          42.939998626708984,
          43.349998474121094,
          43.77000045776367,
          44,
          44.9900016784668,
          45.619998931884766,
          45.04999923706055,
          45.22999954223633,
          45.790000915527344,
          45.25,
          45.33000183105469,
          45.56999969482422,
          44.91999816894531,
          44.2599983215332,
          43.4900016784668,
          43.2400016784668,
          42.90999984741211,
          43.79999923706055,
          43.31999969482422,
          43.38999938964844,
          44.13999938964844,
          43.56999969482422,
          42.93000030517578,
          44.099998474121094,
          43.77000045776367,
          43.060001373291016,
          42.880001068115234,
          42.63999938964844,
          42.599998474121094,
          41.959999084472656,
          42.689998626708984,
          43.220001220703125,
          43.38999938964844,
          43.25,
          42.86000061035156,
          42.70000076293945,
          42.33000183105469,
          43.06999969482422,
          42.599998474121094,
          44.029998779296875,
          44.130001068115234,
          44.58000183105469,
          44.459999084472656,
          44.34000015258789,
          43.83000183105469,
          44.63999938964844,
          45.619998931884766,
          45.369998931884766,
          45.279998779296875,
          44.91999816894531,
          45.709999084472656,
          45.380001068115234,
          45.0099983215332,
          45.02000045776367,
          44.91999816894531,
          46.02000045776367,
          45.900001525878906,
          46.61000061035156,
          46.59000015258789,
          46.77000045776367,
          46.65999984741211,
          49.369998931884766,
          48.70000076293945,
          47.709999084472656,
          47.40999984741211,
          47.06999969482422,
          47.27000045776367,
          45.88999938964844,
          45.709999084472656,
          45.2400016784668,
          44.720001220703125,
          45.290000915527344,
          44.59000015258789,
          44.470001220703125,
          45.02000045776367,
          45.369998931884766,
          45.77000045776367,
          46.400001525878906,
          44.11000061035156,
          43.959999084472656,
          43.290000915527344,
          43.29999923706055,
          43.29999923706055,
          42.58000183105469,
          41.59000015258789,
          41.150001525878906,
          40.65999984741211,
          40.58000183105469,
          40.52000045776367,
          41.34000015258789,
          40.56999969482422,
          40,
          41.290000915527344,
          41.81999969482422,
          41.9900016784668,
          41.52000045776367,
          40.27000045776367,
          39.88999938964844,
          39.58000183105469,
          39.27000045776367,
          40.61000061035156,
          40.20000076293945,
          41.29999923706055,
          41.790000915527344,
          41.880001068115234,
          41.709999084472656,
          42.79999923706055,
          43.540000915527344,
          44.36000061035156,
          44.380001068115234,
          44.41999816894531,
          45.63999938964844,
          45.43000030517578,
          45.459999084472656,
          44.56999969482422,
          43.849998474121094,
          44.52000045776367,
          44.54999923706055,
          44.61000061035156,
          43.90999984741211,
          45.65999984741211,
          44.790000915527344,
          44.7400016784668,
          44.900001525878906,
          44.38999938964844,
          46.59000015258789,
          47.790000915527344,
          47.619998931884766,
          48.380001068115234,
          48.56999969482422,
          48.400001525878906,
          48.08000183105469,
          48.279998779296875,
          49.720001220703125,
          49.970001220703125,
          49.70000076293945,
          49.33000183105469,
          48.59000015258789,
          48.18000030517578,
          48.9900016784668,
          48.459999084472656,
          49.29999923706055,
          49.63999938964844,
          49.29999923706055,
          48.150001525878906,
          47.810001373291016,
          47.400001525878906,
          47.369998931884766,
          47.65999984741211,
          47.31999969482422,
          47.47999954223633,
          47.529998779296875,
          47.06999969482422,
          47.5,
          47.63999938964844,
          47.939998626708984,
          47.54999923706055,
          46.880001068115234,
          48.31999969482422,
          48.58000183105469,
          48.810001373291016,
          49.209999084472656,
          49,
          48.880001068115234,
          48.08000183105469,
          46.900001525878906,
          46.459999084472656,
          46.779998779296875,
          47.5,
          47.810001373291016,
          47.97999954223633,
          48.34000015258789,
          48.5099983215332,
          48.220001220703125,
          48.66999816894531,
          48.56999969482422,
          49.31999969482422,
          48.630001068115234,
          47.56999969482422,
          47.84000015258789,
          46.959999084472656,
          46.72999954223633,
          47.2599983215332,
          47.86000061035156,
          47.70000076293945,
          48.45000076293945,
          50.9900016784668,
          50.77000045776367,
          49.689998626708984,
          49.310001373291016,
          49.209999084472656,
          48.47999954223633,
          48.72999954223633,
          48.41999816894531,
          48.34000015258789,
          48.529998779296875,
          49.279998779296875,
          49.41999816894531,
          48.90999984741211,
          49.11000061035156,
          48.810001373291016,
          48.560001373291016,
          48.40999984741211,
          49.04999923706055,
          49.060001373291016,
          50.119998931884766,
          50.189998626708984,
          50.939998626708984,
          50.66999816894531,
          49.459999084472656,
          49.72999954223633,
          50.5099983215332,
          50.540000915527344,
          50.38999938964844,
          51.16999816894531,
          51.43000030517578,
          52.279998779296875,
          52.310001373291016,
          51.81999969482422,
          51.81999969482422,
          51.27000045776367,
          51.33000183105469,
          50.619998931884766,
          50.11000061035156,
          50.79999923706055,
          50.540000915527344,
          50.279998779296875,
          50.310001373291016,
          48.040000915527344,
          46.58000183105469,
          47.029998779296875,
          47.38999938964844,
          47.09000015258789,
          46.540000915527344,
          46.560001373291016,
          47.25,
          47.34000015258789,
          46.36000061035156,
          45.959999084472656,
          45.70000076293945,
          46.25,
          46.34000015258789,
          46.470001220703125,
          46.709999084472656,
          46.369998931884766,
          46.709999084472656,
          47.099998474121094,
          46.91999816894531,
          47.630001068115234,
          48.20000076293945,
          49.130001068115234,
          48.81999969482422,
          48.90999984741211,
          48.40999984741211,
          49.029998779296875,
          49.86000061035156,
          50.16999816894531,
          49.66999816894531,
          49.7400016784668,
          50.02000045776367,
          50.209999084472656,
          49.810001373291016,
          49.779998779296875,
          49.68000030517578,
          49.65999984741211,
          50.47999954223633,
          50.79999923706055,
          50.959999084472656,
          51.93000030517578,
          52.06999969482422,
          51.54999923706055,
          50.849998474121094,
          51.119998931884766,
          50.33000183105469,
          50.209999084472656,
          50.86000061035156,
          50.869998931884766,
          51.209999084472656,
          51.7400016784668,
          51.81999969482422,
          51.5099983215332,
          51.11000061035156,
          50.9900016784668,
          51.400001525878906,
          52.119998931884766,
          50.7400016784668,
          51.529998779296875,
          50.380001068115234,
          50.810001373291016,
          51.2400016784668,
          52.43000030517578,
          52.369998931884766,
          52.630001068115234,
          53.11000061035156,
          53.599998474121094,
          53.220001220703125,
          53,
          52.09000015258789,
          52.040000915527344,
          52.65999984741211,
          52.58000183105469,
          53.150001525878906,
          52.630001068115234,
          53.0099983215332,
          53.060001373291016,
          52.9900016784668,
          53.369998931884766,
          53.790000915527344,
          53.880001068115234,
          53.349998474121094,
          52.959999084472656,
          54.72999954223633,
          55.040000915527344,
          55.439998626708984,
          55.459999084472656,
          55.97999954223633,
          55.2400016784668,
          55.70000076293945,
          56.20000076293945,
          56.560001373291016,
          56.810001373291016,
          57.349998474121094,
          57.84000015258789,
          57.2599983215332,
          57.15999984741211,
          56.790000915527344,
          56.66999816894531,
          56.84000015258789,
          56.38999938964844,
          56.279998779296875,
          56.369998931884766,
          56.040000915527344,
          56.11000061035156,
          55.84000015258789,
          55.5,
          53.34000015258789,
          53.56999969482422,
          53.47999954223633,
          52.709999084472656,
          53.20000076293945,
          53.880001068115234,
          53.7599983215332,
          54.38999938964844,
          53.650001525878906,
          53.45000076293945,
          53.06999969482422,
          53.45000076293945,
          53.91999816894531,
          53.869998931884766,
          53.65999984741211,
          53.849998474121094,
          53.77000045776367,
          54.15999984741211,
          53.939998626708984,
          53.77000045776367,
          53.31999969482422,
          52.93000030517578,
          52.20000076293945,
          53.0099983215332,
          52.400001525878906,
          51.369998931884766,
          51.560001373291016,
          51.56999969482422,
          52.130001068115234,
          52.189998626708984,
          52.75,
          53.0099983215332,
          53.290000915527344,
          53.130001068115234,
          53,
          52,
          52.59000015258789,
          52.22999954223633,
          53.16999816894531,
          53.279998779296875,
          48.040000915527344,
          47.7599983215332,
          48.27000045776367,
          47.79999923706055,
          48.08000183105469,
          48.36000061035156,
          47.93000030517578,
          47.849998474121094,
          48.04999923706055,
          48.380001068115234,
          48.470001220703125,
          48.04999923706055,
          47.93000030517578,
          47.70000076293945,
          48.2599983215332,
          48.380001068115234,
          49.38999938964844,
          49.33000183105469,
          49.689998626708984,
          49.439998626708984,
          49.869998931884766,
          50.2400016784668,
          50.18000030517578,
          49.79999923706055,
          49.70000076293945,
          50.09000015258789,
          50.279998779296875,
          50.439998626708984,
          50.47999954223633,
          50.52000045776367,
          50.5099983215332,
          50.5099983215332,
          50.08000183105469,
          50.09000015258789,
          50.459999084472656,
          49.90999984741211,
          50.2400016784668,
          50.439998626708984,
          50.34000015258789,
          50.59000015258789,
          50.29999923706055,
          50.75,
          51.27000045776367,
          51.56999969482422,
          51.7599983215332,
          51.310001373291016,
          52.33000183105469,
          52.13999938964844,
          52.290000915527344,
          52.2400016784668,
          50.18000030517578,
          50.18000030517578,
          50.18000030517578,
          49.5099983215332,
          49.97999954223633,
          49.77000045776367,
          49.95000076293945,
          50.130001068115234,
          49.9900016784668,
          49.63999938964844,
          50.279998779296875,
          49.060001373291016,
          48.439998626708984,
          48.279998779296875,
          48.47999954223633,
          48.56999969482422,
          48.86000061035156,
          48.400001525878906,
          48.310001373291016,
          48.060001373291016,
          48.369998931884766,
          48.400001525878906,
          49.130001068115234,
          48.95000076293945,
          49.16999816894531,
          48.900001525878906,
          49.5,
          50.220001220703125,
          50.06999969482422,
          50.11000061035156,
          49.790000915527344,
          48.93000030517578,
          49.27000045776367,
          49.13999938964844,
          49.54999923706055,
          49.880001068115234,
          49.779998779296875,
          49.68000030517578,
          49.54999923706055,
          49.77000045776367,
          49.90999984741211,
          50.040000915527344,
          49.36000061035156,
          48.7400016784668,
          48.11000061035156,
          48.54999923706055,
          48.2400016784668,
          50.0099983215332,
          49.209999084472656,
          49.529998779296875,
          48.4900016784668,
          48.2400016784668,
          47.91999816894531,
          47.790000915527344,
          48.11000061035156,
          48.31999969482422,
          48.13999938964844,
          48.31999969482422,
          48.349998474121094,
          48.099998474121094,
          47.86000061035156,
          47.779998779296875,
          46.97999954223633,
          46.84000015258789,
          46.790000915527344,
          47.119998931884766,
          47.11000061035156,
          47.279998779296875,
          48,
          47.790000915527344,
          48.060001373291016,
          48.68000030517578,
          48.95000076293945,
          49.66999816894531
         ]
        }
       ],
       "layout": {
        "autosize": true,
        "template": {
         "data": {
          "bar": [
           {
            "error_x": {
             "color": "#2a3f5f"
            },
            "error_y": {
             "color": "#2a3f5f"
            },
            "marker": {
             "line": {
              "color": "#E5ECF6",
              "width": 0.5
             },
             "pattern": {
              "fillmode": "overlay",
              "size": 10,
              "solidity": 0.2
             }
            },
            "type": "bar"
           }
          ],
          "barpolar": [
           {
            "marker": {
             "line": {
              "color": "#E5ECF6",
              "width": 0.5
             },
             "pattern": {
              "fillmode": "overlay",
              "size": 10,
              "solidity": 0.2
             }
            },
            "type": "barpolar"
           }
          ],
          "carpet": [
           {
            "aaxis": {
             "endlinecolor": "#2a3f5f",
             "gridcolor": "white",
             "linecolor": "white",
             "minorgridcolor": "white",
             "startlinecolor": "#2a3f5f"
            },
            "baxis": {
             "endlinecolor": "#2a3f5f",
             "gridcolor": "white",
             "linecolor": "white",
             "minorgridcolor": "white",
             "startlinecolor": "#2a3f5f"
            },
            "type": "carpet"
           }
          ],
          "choropleth": [
           {
            "colorbar": {
             "outlinewidth": 0,
             "ticks": ""
            },
            "type": "choropleth"
           }
          ],
          "contour": [
           {
            "colorbar": {
             "outlinewidth": 0,
             "ticks": ""
            },
            "colorscale": [
             [
              0,
              "#0d0887"
             ],
             [
              0.1111111111111111,
              "#46039f"
             ],
             [
              0.2222222222222222,
              "#7201a8"
             ],
             [
              0.3333333333333333,
              "#9c179e"
             ],
             [
              0.4444444444444444,
              "#bd3786"
             ],
             [
              0.5555555555555556,
              "#d8576b"
             ],
             [
              0.6666666666666666,
              "#ed7953"
             ],
             [
              0.7777777777777778,
              "#fb9f3a"
             ],
             [
              0.8888888888888888,
              "#fdca26"
             ],
             [
              1,
              "#f0f921"
             ]
            ],
            "type": "contour"
           }
          ],
          "contourcarpet": [
           {
            "colorbar": {
             "outlinewidth": 0,
             "ticks": ""
            },
            "type": "contourcarpet"
           }
          ],
          "heatmap": [
           {
            "colorbar": {
             "outlinewidth": 0,
             "ticks": ""
            },
            "colorscale": [
             [
              0,
              "#0d0887"
             ],
             [
              0.1111111111111111,
              "#46039f"
             ],
             [
              0.2222222222222222,
              "#7201a8"
             ],
             [
              0.3333333333333333,
              "#9c179e"
             ],
             [
              0.4444444444444444,
              "#bd3786"
             ],
             [
              0.5555555555555556,
              "#d8576b"
             ],
             [
              0.6666666666666666,
              "#ed7953"
             ],
             [
              0.7777777777777778,
              "#fb9f3a"
             ],
             [
              0.8888888888888888,
              "#fdca26"
             ],
             [
              1,
              "#f0f921"
             ]
            ],
            "type": "heatmap"
           }
          ],
          "heatmapgl": [
           {
            "colorbar": {
             "outlinewidth": 0,
             "ticks": ""
            },
            "colorscale": [
             [
              0,
              "#0d0887"
             ],
             [
              0.1111111111111111,
              "#46039f"
             ],
             [
              0.2222222222222222,
              "#7201a8"
             ],
             [
              0.3333333333333333,
              "#9c179e"
             ],
             [
              0.4444444444444444,
              "#bd3786"
             ],
             [
              0.5555555555555556,
              "#d8576b"
             ],
             [
              0.6666666666666666,
              "#ed7953"
             ],
             [
              0.7777777777777778,
              "#fb9f3a"
             ],
             [
              0.8888888888888888,
              "#fdca26"
             ],
             [
              1,
              "#f0f921"
             ]
            ],
            "type": "heatmapgl"
           }
          ],
          "histogram": [
           {
            "marker": {
             "pattern": {
              "fillmode": "overlay",
              "size": 10,
              "solidity": 0.2
             }
            },
            "type": "histogram"
           }
          ],
          "histogram2d": [
           {
            "colorbar": {
             "outlinewidth": 0,
             "ticks": ""
            },
            "colorscale": [
             [
              0,
              "#0d0887"
             ],
             [
              0.1111111111111111,
              "#46039f"
             ],
             [
              0.2222222222222222,
              "#7201a8"
             ],
             [
              0.3333333333333333,
              "#9c179e"
             ],
             [
              0.4444444444444444,
              "#bd3786"
             ],
             [
              0.5555555555555556,
              "#d8576b"
             ],
             [
              0.6666666666666666,
              "#ed7953"
             ],
             [
              0.7777777777777778,
              "#fb9f3a"
             ],
             [
              0.8888888888888888,
              "#fdca26"
             ],
             [
              1,
              "#f0f921"
             ]
            ],
            "type": "histogram2d"
           }
          ],
          "histogram2dcontour": [
           {
            "colorbar": {
             "outlinewidth": 0,
             "ticks": ""
            },
            "colorscale": [
             [
              0,
              "#0d0887"
             ],
             [
              0.1111111111111111,
              "#46039f"
             ],
             [
              0.2222222222222222,
              "#7201a8"
             ],
             [
              0.3333333333333333,
              "#9c179e"
             ],
             [
              0.4444444444444444,
              "#bd3786"
             ],
             [
              0.5555555555555556,
              "#d8576b"
             ],
             [
              0.6666666666666666,
              "#ed7953"
             ],
             [
              0.7777777777777778,
              "#fb9f3a"
             ],
             [
              0.8888888888888888,
              "#fdca26"
             ],
             [
              1,
              "#f0f921"
             ]
            ],
            "type": "histogram2dcontour"
           }
          ],
          "mesh3d": [
           {
            "colorbar": {
             "outlinewidth": 0,
             "ticks": ""
            },
            "type": "mesh3d"
           }
          ],
          "parcoords": [
           {
            "line": {
             "colorbar": {
              "outlinewidth": 0,
              "ticks": ""
             }
            },
            "type": "parcoords"
           }
          ],
          "pie": [
           {
            "automargin": true,
            "type": "pie"
           }
          ],
          "scatter": [
           {
            "fillpattern": {
             "fillmode": "overlay",
             "size": 10,
             "solidity": 0.2
            },
            "type": "scatter"
           }
          ],
          "scatter3d": [
           {
            "line": {
             "colorbar": {
              "outlinewidth": 0,
              "ticks": ""
             }
            },
            "marker": {
             "colorbar": {
              "outlinewidth": 0,
              "ticks": ""
             }
            },
            "type": "scatter3d"
           }
          ],
          "scattercarpet": [
           {
            "marker": {
             "colorbar": {
              "outlinewidth": 0,
              "ticks": ""
             }
            },
            "type": "scattercarpet"
           }
          ],
          "scattergeo": [
           {
            "marker": {
             "colorbar": {
              "outlinewidth": 0,
              "ticks": ""
             }
            },
            "type": "scattergeo"
           }
          ],
          "scattergl": [
           {
            "marker": {
             "colorbar": {
              "outlinewidth": 0,
              "ticks": ""
             }
            },
            "type": "scattergl"
           }
          ],
          "scattermapbox": [
           {
            "marker": {
             "colorbar": {
              "outlinewidth": 0,
              "ticks": ""
             }
            },
            "type": "scattermapbox"
           }
          ],
          "scatterpolar": [
           {
            "marker": {
             "colorbar": {
              "outlinewidth": 0,
              "ticks": ""
             }
            },
            "type": "scatterpolar"
           }
          ],
          "scatterpolargl": [
           {
            "marker": {
             "colorbar": {
              "outlinewidth": 0,
              "ticks": ""
             }
            },
            "type": "scatterpolargl"
           }
          ],
          "scatterternary": [
           {
            "marker": {
             "colorbar": {
              "outlinewidth": 0,
              "ticks": ""
             }
            },
            "type": "scatterternary"
           }
          ],
          "surface": [
           {
            "colorbar": {
             "outlinewidth": 0,
             "ticks": ""
            },
            "colorscale": [
             [
              0,
              "#0d0887"
             ],
             [
              0.1111111111111111,
              "#46039f"
             ],
             [
              0.2222222222222222,
              "#7201a8"
             ],
             [
              0.3333333333333333,
              "#9c179e"
             ],
             [
              0.4444444444444444,
              "#bd3786"
             ],
             [
              0.5555555555555556,
              "#d8576b"
             ],
             [
              0.6666666666666666,
              "#ed7953"
             ],
             [
              0.7777777777777778,
              "#fb9f3a"
             ],
             [
              0.8888888888888888,
              "#fdca26"
             ],
             [
              1,
              "#f0f921"
             ]
            ],
            "type": "surface"
           }
          ],
          "table": [
           {
            "cells": {
             "fill": {
              "color": "#EBF0F8"
             },
             "line": {
              "color": "white"
             }
            },
            "header": {
             "fill": {
              "color": "#C8D4E3"
             },
             "line": {
              "color": "white"
             }
            },
            "type": "table"
           }
          ]
         },
         "layout": {
          "annotationdefaults": {
           "arrowcolor": "#2a3f5f",
           "arrowhead": 0,
           "arrowwidth": 1
          },
          "autotypenumbers": "strict",
          "coloraxis": {
           "colorbar": {
            "outlinewidth": 0,
            "ticks": ""
           }
          },
          "colorscale": {
           "diverging": [
            [
             0,
             "#8e0152"
            ],
            [
             0.1,
             "#c51b7d"
            ],
            [
             0.2,
             "#de77ae"
            ],
            [
             0.3,
             "#f1b6da"
            ],
            [
             0.4,
             "#fde0ef"
            ],
            [
             0.5,
             "#f7f7f7"
            ],
            [
             0.6,
             "#e6f5d0"
            ],
            [
             0.7,
             "#b8e186"
            ],
            [
             0.8,
             "#7fbc41"
            ],
            [
             0.9,
             "#4d9221"
            ],
            [
             1,
             "#276419"
            ]
           ],
           "sequential": [
            [
             0,
             "#0d0887"
            ],
            [
             0.1111111111111111,
             "#46039f"
            ],
            [
             0.2222222222222222,
             "#7201a8"
            ],
            [
             0.3333333333333333,
             "#9c179e"
            ],
            [
             0.4444444444444444,
             "#bd3786"
            ],
            [
             0.5555555555555556,
             "#d8576b"
            ],
            [
             0.6666666666666666,
             "#ed7953"
            ],
            [
             0.7777777777777778,
             "#fb9f3a"
            ],
            [
             0.8888888888888888,
             "#fdca26"
            ],
            [
             1,
             "#f0f921"
            ]
           ],
           "sequentialminus": [
            [
             0,
             "#0d0887"
            ],
            [
             0.1111111111111111,
             "#46039f"
            ],
            [
             0.2222222222222222,
             "#7201a8"
            ],
            [
             0.3333333333333333,
             "#9c179e"
            ],
            [
             0.4444444444444444,
             "#bd3786"
            ],
            [
             0.5555555555555556,
             "#d8576b"
            ],
            [
             0.6666666666666666,
             "#ed7953"
            ],
            [
             0.7777777777777778,
             "#fb9f3a"
            ],
            [
             0.8888888888888888,
             "#fdca26"
            ],
            [
             1,
             "#f0f921"
            ]
           ]
          },
          "colorway": [
           "#636efa",
           "#EF553B",
           "#00cc96",
           "#ab63fa",
           "#FFA15A",
           "#19d3f3",
           "#FF6692",
           "#B6E880",
           "#FF97FF",
           "#FECB52"
          ],
          "font": {
           "color": "#2a3f5f"
          },
          "geo": {
           "bgcolor": "white",
           "lakecolor": "white",
           "landcolor": "#E5ECF6",
           "showlakes": true,
           "showland": true,
           "subunitcolor": "white"
          },
          "hoverlabel": {
           "align": "left"
          },
          "hovermode": "closest",
          "mapbox": {
           "style": "light"
          },
          "paper_bgcolor": "white",
          "plot_bgcolor": "#E5ECF6",
          "polar": {
           "angularaxis": {
            "gridcolor": "white",
            "linecolor": "white",
            "ticks": ""
           },
           "bgcolor": "#E5ECF6",
           "radialaxis": {
            "gridcolor": "white",
            "linecolor": "white",
            "ticks": ""
           }
          },
          "scene": {
           "xaxis": {
            "backgroundcolor": "#E5ECF6",
            "gridcolor": "white",
            "gridwidth": 2,
            "linecolor": "white",
            "showbackground": true,
            "ticks": "",
            "zerolinecolor": "white"
           },
           "yaxis": {
            "backgroundcolor": "#E5ECF6",
            "gridcolor": "white",
            "gridwidth": 2,
            "linecolor": "white",
            "showbackground": true,
            "ticks": "",
            "zerolinecolor": "white"
           },
           "zaxis": {
            "backgroundcolor": "#E5ECF6",
            "gridcolor": "white",
            "gridwidth": 2,
            "linecolor": "white",
            "showbackground": true,
            "ticks": "",
            "zerolinecolor": "white"
           }
          },
          "shapedefaults": {
           "line": {
            "color": "#2a3f5f"
           }
          },
          "ternary": {
           "aaxis": {
            "gridcolor": "white",
            "linecolor": "white",
            "ticks": ""
           },
           "baxis": {
            "gridcolor": "white",
            "linecolor": "white",
            "ticks": ""
           },
           "bgcolor": "#E5ECF6",
           "caxis": {
            "gridcolor": "white",
            "linecolor": "white",
            "ticks": ""
           }
          },
          "title": {
           "x": 0.05
          },
          "xaxis": {
           "automargin": true,
           "gridcolor": "white",
           "linecolor": "white",
           "ticks": "",
           "title": {
            "standoff": 15
           },
           "zerolinecolor": "white",
           "zerolinewidth": 2
          },
          "yaxis": {
           "automargin": true,
           "gridcolor": "white",
           "linecolor": "white",
           "ticks": "",
           "title": {
            "standoff": 15
           },
           "zerolinecolor": "white",
           "zerolinewidth": 2
          }
         }
        },
        "title": {
         "text": "CISCO Stock Prices"
        },
        "xaxis": {
         "autorange": true,
         "range": [
          "2022-05-18",
          "2024-05-15"
         ],
         "title": {
          "font": {
           "color": "#7f7f7f",
           "family": "Courier New, monospace",
           "size": 18
          },
          "text": "Date"
         },
         "type": "date"
        },
        "yaxis": {
         "autorange": true,
         "range": [
          38.238333808051216,
          58.871666802300346
         ],
         "title": {
          "font": {
           "color": "#7f7f7f",
           "family": "Courier New, monospace",
           "size": 18
          },
          "text": "Price"
         },
         "type": "linear"
        }
       }
      },
      "image/png": "[encoded data removed]",
      "text/html": [
       "<div>                            <div id=\"d329d210-8072-46da-aa2f-7793adf72b52\" class=\"plotly-graph-div\" style=\"height:525px; width:100%;\"></div>            <script type=\"text/javascript\">                require([\"plotly\"], function(Plotly) {                    window.PLOTLYENV=window.PLOTLYENV || {};                                    if (document.getElementById(\"d329d210-8072-46da-aa2f-7793adf72b52\")) {                    Plotly.newPlot(                        \"d329d210-8072-46da-aa2f-7793adf72b52\",                        [{\"x\":[\"2022-05-18T00:00:00\",\"2022-05-19T00:00:00\",\"2022-05-20T00:00:00\",\"2022-05-23T00:00:00\",\"2022-05-24T00:00:00\",\"2022-05-25T00:00:00\",\"2022-05-26T00:00:00\",\"2022-05-27T00:00:00\",\"2022-05-31T00:00:00\",\"2022-06-01T00:00:00\",\"2022-06-02T00:00:00\",\"2022-06-03T00:00:00\",\"2022-06-06T00:00:00\",\"2022-06-07T00:00:00\",\"2022-06-08T00:00:00\",\"2022-06-09T00:00:00\",\"2022-06-10T00:00:00\",\"2022-06-13T00:00:00\",\"2022-06-14T00:00:00\",\"2022-06-15T00:00:00\",\"2022-06-16T00:00:00\",\"2022-06-17T00:00:00\",\"2022-06-21T00:00:00\",\"2022-06-22T00:00:00\",\"2022-06-23T00:00:00\",\"2022-06-24T00:00:00\",\"2022-06-27T00:00:00\",\"2022-06-28T00:00:00\",\"2022-06-29T00:00:00\",\"2022-06-30T00:00:00\",\"2022-07-01T00:00:00\",\"2022-07-05T00:00:00\",\"2022-07-06T00:00:00\",\"2022-07-07T00:00:00\",\"2022-07-08T00:00:00\",\"2022-07-11T00:00:00\",\"2022-07-12T00:00:00\",\"2022-07-13T00:00:00\",\"2022-07-14T00:00:00\",\"2022-07-15T00:00:00\",\"2022-07-18T00:00:00\",\"2022-07-19T00:00:00\",\"2022-07-20T00:00:00\",\"2022-07-21T00:00:00\",\"2022-07-22T00:00:00\",\"2022-07-25T00:00:00\",\"2022-07-26T00:00:00\",\"2022-07-27T00:00:00\",\"2022-07-28T00:00:00\",\"2022-07-29T00:00:00\",\"2022-08-01T00:00:00\",\"2022-08-02T00:00:00\",\"2022-08-03T00:00:00\",\"2022-08-04T00:00:00\",\"2022-08-05T00:00:00\",\"2022-08-08T00:00:00\",\"2022-08-09T00:00:00\",\"2022-08-10T00:00:00\",\"2022-08-11T00:00:00\",\"2022-08-12T00:00:00\",\"2022-08-15T00:00:00\",\"2022-08-16T00:00:00\",\"2022-08-17T00:00:00\",\"2022-08-18T00:00:00\",\"2022-08-19T00:00:00\",\"2022-08-22T00:00:00\",\"2022-08-23T00:00:00\",\"2022-08-24T00:00:00\",\"2022-08-25T00:00:00\",\"2022-08-26T00:00:00\",\"2022-08-29T00:00:00\",\"2022-08-30T00:00:00\",\"2022-08-31T00:00:00\",\"2022-09-01T00:00:00\",\"2022-09-02T00:00:00\",\"2022-09-06T00:00:00\",\"2022-09-07T00:00:00\",\"2022-09-08T00:00:00\",\"2022-09-09T00:00:00\",\"2022-09-12T00:00:00\",\"2022-09-13T00:00:00\",\"2022-09-14T00:00:00\",\"2022-09-15T00:00:00\",\"2022-09-16T00:00:00\",\"2022-09-19T00:00:00\",\"2022-09-20T00:00:00\",\"2022-09-21T00:00:00\",\"2022-09-22T00:00:00\",\"2022-09-23T00:00:00\",\"2022-09-26T00:00:00\",\"2022-09-27T00:00:00\",\"2022-09-28T00:00:00\",\"2022-09-29T00:00:00\",\"2022-09-30T00:00:00\",\"2022-10-03T00:00:00\",\"2022-10-04T00:00:00\",\"2022-10-05T00:00:00\",\"2022-10-06T00:00:00\",\"2022-10-07T00:00:00\",\"2022-10-10T00:00:00\",\"2022-10-11T00:00:00\",\"2022-10-12T00:00:00\",\"2022-10-13T00:00:00\",\"2022-10-14T00:00:00\",\"2022-10-17T00:00:00\",\"2022-10-18T00:00:00\",\"2022-10-19T00:00:00\",\"2022-10-20T00:00:00\",\"2022-10-21T00:00:00\",\"2022-10-24T00:00:00\",\"2022-10-25T00:00:00\",\"2022-10-26T00:00:00\",\"2022-10-27T00:00:00\",\"2022-10-28T00:00:00\",\"2022-10-31T00:00:00\",\"2022-11-01T00:00:00\",\"2022-11-02T00:00:00\",\"2022-11-03T00:00:00\",\"2022-11-04T00:00:00\",\"2022-11-07T00:00:00\",\"2022-11-08T00:00:00\",\"2022-11-09T00:00:00\",\"2022-11-10T00:00:00\",\"2022-11-11T00:00:00\",\"2022-11-14T00:00:00\",\"2022-11-15T00:00:00\",\"2022-11-16T00:00:00\",\"2022-11-17T00:00:00\",\"2022-11-18T00:00:00\",\"2022-11-21T00:00:00\",\"2022-11-22T00:00:00\",\"2022-11-23T00:00:00\",\"2022-11-25T00:00:00\",\"2022-11-28T00:00:00\",\"2022-11-29T00:00:00\",\"2022-11-30T00:00:00\",\"2022-12-01T00:00:00\",\"2022-12-02T00:00:00\",\"2022-12-05T00:00:00\",\"2022-12-06T00:00:00\",\"2022-12-07T00:00:00\",\"2022-12-08T00:00:00\",\"2022-12-09T00:00:00\",\"2022-12-12T00:00:00\",\"2022-12-13T00:00:00\",\"2022-12-14T00:00:00\",\"2022-12-15T00:00:00\",\"2022-12-16T00:00:00\",\"2022-12-19T00:00:00\",\"2022-12-20T00:00:00\",\"2022-12-21T00:00:00\",\"2022-12-22T00:00:00\",\"2022-12-23T00:00:00\",\"2022-12-27T00:00:00\",\"2022-12-28T00:00:00\",\"2022-12-29T00:00:00\",\"2022-12-30T00:00:00\",\"2023-01-03T00:00:00\",\"2023-01-04T00:00:00\",\"2023-01-05T00:00:00\",\"2023-01-06T00:00:00\",\"2023-01-09T00:00:00\",\"2023-01-10T00:00:00\",\"2023-01-11T00:00:00\",\"2023-01-12T00:00:00\",\"2023-01-13T00:00:00\",\"2023-01-17T00:00:00\",\"2023-01-18T00:00:00\",\"2023-01-19T00:00:00\",\"2023-01-20T00:00:00\",\"2023-01-23T00:00:00\",\"2023-01-24T00:00:00\",\"2023-01-25T00:00:00\",\"2023-01-26T00:00:00\",\"2023-01-27T00:00:00\",\"2023-01-30T00:00:00\",\"2023-01-31T00:00:00\",\"2023-02-01T00:00:00\",\"2023-02-02T00:00:00\",\"2023-02-03T00:00:00\",\"2023-02-06T00:00:00\",\"2023-02-07T00:00:00\",\"2023-02-08T00:00:00\",\"2023-02-09T00:00:00\",\"2023-02-10T00:00:00\",\"2023-02-13T00:00:00\",\"2023-02-14T00:00:00\",\"2023-02-15T00:00:00\",\"2023-02-16T00:00:00\",\"2023-02-17T00:00:00\",\"2023-02-21T00:00:00\",\"2023-02-22T00:00:00\",\"2023-02-23T00:00:00\",\"2023-02-24T00:00:00\",\"2023-02-27T00:00:00\",\"2023-02-28T00:00:00\",\"2023-03-01T00:00:00\",\"2023-03-02T00:00:00\",\"2023-03-03T00:00:00\",\"2023-03-06T00:00:00\",\"2023-03-07T00:00:00\",\"2023-03-08T00:00:00\",\"2023-03-09T00:00:00\",\"2023-03-10T00:00:00\",\"2023-03-13T00:00:00\",\"2023-03-14T00:00:00\",\"2023-03-15T00:00:00\",\"2023-03-16T00:00:00\",\"2023-03-17T00:00:00\",\"2023-03-20T00:00:00\",\"2023-03-21T00:00:00\",\"2023-03-22T00:00:00\",\"2023-03-23T00:00:00\",\"2023-03-24T00:00:00\",\"2023-03-27T00:00:00\",\"2023-03-28T00:00:00\",\"2023-03-29T00:00:00\",\"2023-03-30T00:00:00\",\"2023-03-31T00:00:00\",\"2023-04-03T00:00:00\",\"2023-04-04T00:00:00\",\"2023-04-05T00:00:00\",\"2023-04-06T00:00:00\",\"2023-04-10T00:00:00\",\"2023-04-11T00:00:00\",\"2023-04-12T00:00:00\",\"2023-04-13T00:00:00\",\"2023-04-14T00:00:00\",\"2023-04-17T00:00:00\",\"2023-04-18T00:00:00\",\"2023-04-19T00:00:00\",\"2023-04-20T00:00:00\",\"2023-04-21T00:00:00\",\"2023-04-24T00:00:00\",\"2023-04-25T00:00:00\",\"2023-04-26T00:00:00\",\"2023-04-27T00:00:00\",\"2023-04-28T00:00:00\",\"2023-05-01T00:00:00\",\"2023-05-02T00:00:00\",\"2023-05-03T00:00:00\",\"2023-05-04T00:00:00\",\"2023-05-05T00:00:00\",\"2023-05-08T00:00:00\",\"2023-05-09T00:00:00\",\"2023-05-10T00:00:00\",\"2023-05-11T00:00:00\",\"2023-05-12T00:00:00\",\"2023-05-15T00:00:00\",\"2023-05-16T00:00:00\",\"2023-05-17T00:00:00\",\"2023-05-18T00:00:00\",\"2023-05-19T00:00:00\",\"2023-05-22T00:00:00\",\"2023-05-23T00:00:00\",\"2023-05-24T00:00:00\",\"2023-05-25T00:00:00\",\"2023-05-26T00:00:00\",\"2023-05-30T00:00:00\",\"2023-05-31T00:00:00\",\"2023-06-01T00:00:00\",\"2023-06-02T00:00:00\",\"2023-06-05T00:00:00\",\"2023-06-06T00:00:00\",\"2023-06-07T00:00:00\",\"2023-06-08T00:00:00\",\"2023-06-09T00:00:00\",\"2023-06-12T00:00:00\",\"2023-06-13T00:00:00\",\"2023-06-14T00:00:00\",\"2023-06-15T00:00:00\",\"2023-06-16T00:00:00\",\"2023-06-20T00:00:00\",\"2023-06-21T00:00:00\",\"2023-06-22T00:00:00\",\"2023-06-23T00:00:00\",\"2023-06-26T00:00:00\",\"2023-06-27T00:00:00\",\"2023-06-28T00:00:00\",\"2023-06-29T00:00:00\",\"2023-06-30T00:00:00\",\"2023-07-03T00:00:00\",\"2023-07-05T00:00:00\",\"2023-07-06T00:00:00\",\"2023-07-07T00:00:00\",\"2023-07-10T00:00:00\",\"2023-07-11T00:00:00\",\"2023-07-12T00:00:00\",\"2023-07-13T00:00:00\",\"2023-07-14T00:00:00\",\"2023-07-17T00:00:00\",\"2023-07-18T00:00:00\",\"2023-07-19T00:00:00\",\"2023-07-20T00:00:00\",\"2023-07-21T00:00:00\",\"2023-07-24T00:00:00\",\"2023-07-25T00:00:00\",\"2023-07-26T00:00:00\",\"2023-07-27T00:00:00\",\"2023-07-28T00:00:00\",\"2023-07-31T00:00:00\",\"2023-08-01T00:00:00\",\"2023-08-02T00:00:00\",\"2023-08-03T00:00:00\",\"2023-08-04T00:00:00\",\"2023-08-07T00:00:00\",\"2023-08-08T00:00:00\",\"2023-08-09T00:00:00\",\"2023-08-10T00:00:00\",\"2023-08-11T00:00:00\",\"2023-08-14T00:00:00\",\"2023-08-15T00:00:00\",\"2023-08-16T00:00:00\",\"2023-08-17T00:00:00\",\"2023-08-18T00:00:00\",\"2023-08-21T00:00:00\",\"2023-08-22T00:00:00\",\"2023-08-23T00:00:00\",\"2023-08-24T00:00:00\",\"2023-08-25T00:00:00\",\"2023-08-28T00:00:00\",\"2023-08-29T00:00:00\",\"2023-08-30T00:00:00\",\"2023-08-31T00:00:00\",\"2023-09-01T00:00:00\",\"2023-09-05T00:00:00\",\"2023-09-06T00:00:00\",\"2023-09-07T00:00:00\",\"2023-09-08T00:00:00\",\"2023-09-11T00:00:00\",\"2023-09-12T00:00:00\",\"2023-09-13T00:00:00\",\"2023-09-14T00:00:00\",\"2023-09-15T00:00:00\",\"2023-09-18T00:00:00\",\"2023-09-19T00:00:00\",\"2023-09-20T00:00:00\",\"2023-09-21T00:00:00\",\"2023-09-22T00:00:00\",\"2023-09-25T00:00:00\",\"2023-09-26T00:00:00\",\"2023-09-27T00:00:00\",\"2023-09-28T00:00:00\",\"2023-09-29T00:00:00\",\"2023-10-02T00:00:00\",\"2023-10-03T00:00:00\",\"2023-10-04T00:00:00\",\"2023-10-05T00:00:00\",\"2023-10-06T00:00:00\",\"2023-10-09T00:00:00\",\"2023-10-10T00:00:00\",\"2023-10-11T00:00:00\",\"2023-10-12T00:00:00\",\"2023-10-13T00:00:00\",\"2023-10-16T00:00:00\",\"2023-10-17T00:00:00\",\"2023-10-18T00:00:00\",\"2023-10-19T00:00:00\",\"2023-10-20T00:00:00\",\"2023-10-23T00:00:00\",\"2023-10-24T00:00:00\",\"2023-10-25T00:00:00\",\"2023-10-26T00:00:00\",\"2023-10-27T00:00:00\",\"2023-10-30T00:00:00\",\"2023-10-31T00:00:00\",\"2023-11-01T00:00:00\",\"2023-11-02T00:00:00\",\"2023-11-03T00:00:00\",\"2023-11-06T00:00:00\",\"2023-11-07T00:00:00\",\"2023-11-08T00:00:00\",\"2023-11-09T00:00:00\",\"2023-11-10T00:00:00\",\"2023-11-13T00:00:00\",\"2023-11-14T00:00:00\",\"2023-11-15T00:00:00\",\"2023-11-16T00:00:00\",\"2023-11-17T00:00:00\",\"2023-11-20T00:00:00\",\"2023-11-21T00:00:00\",\"2023-11-22T00:00:00\",\"2023-11-24T00:00:00\",\"2023-11-27T00:00:00\",\"2023-11-28T00:00:00\",\"2023-11-29T00:00:00\",\"2023-11-30T00:00:00\",\"2023-12-01T00:00:00\",\"2023-12-04T00:00:00\",\"2023-12-05T00:00:00\",\"2023-12-06T00:00:00\",\"2023-12-07T00:00:00\",\"2023-12-08T00:00:00\",\"2023-12-11T00:00:00\",\"2023-12-12T00:00:00\",\"2023-12-13T00:00:00\",\"2023-12-14T00:00:00\",\"2023-12-15T00:00:00\",\"2023-12-18T00:00:00\",\"2023-12-19T00:00:00\",\"2023-12-20T00:00:00\",\"2023-12-21T00:00:00\",\"2023-12-22T00:00:00\",\"2023-12-26T00:00:00\",\"2023-12-27T00:00:00\",\"2023-12-28T00:00:00\",\"2023-12-29T00:00:00\",\"2024-01-02T00:00:00\",\"2024-01-03T00:00:00\",\"2024-01-04T00:00:00\",\"2024-01-05T00:00:00\",\"2024-01-08T00:00:00\",\"2024-01-09T00:00:00\",\"2024-01-10T00:00:00\",\"2024-01-11T00:00:00\",\"2024-01-12T00:00:00\",\"2024-01-16T00:00:00\",\"2024-01-17T00:00:00\",\"2024-01-18T00:00:00\",\"2024-01-19T00:00:00\",\"2024-01-22T00:00:00\",\"2024-01-23T00:00:00\",\"2024-01-24T00:00:00\",\"2024-01-25T00:00:00\",\"2024-01-26T00:00:00\",\"2024-01-29T00:00:00\",\"2024-01-30T00:00:00\",\"2024-01-31T00:00:00\",\"2024-02-01T00:00:00\",\"2024-02-02T00:00:00\",\"2024-02-05T00:00:00\",\"2024-02-06T00:00:00\",\"2024-02-07T00:00:00\",\"2024-02-08T00:00:00\",\"2024-02-09T00:00:00\",\"2024-02-12T00:00:00\",\"2024-02-13T00:00:00\",\"2024-02-14T00:00:00\",\"2024-02-15T00:00:00\",\"2024-02-16T00:00:00\",\"2024-02-20T00:00:00\",\"2024-02-21T00:00:00\",\"2024-02-22T00:00:00\",\"2024-02-23T00:00:00\",\"2024-02-26T00:00:00\",\"2024-02-27T00:00:00\",\"2024-02-28T00:00:00\",\"2024-02-29T00:00:00\",\"2024-03-01T00:00:00\",\"2024-03-04T00:00:00\",\"2024-03-05T00:00:00\",\"2024-03-06T00:00:00\",\"2024-03-07T00:00:00\",\"2024-03-08T00:00:00\",\"2024-03-11T00:00:00\",\"2024-03-12T00:00:00\",\"2024-03-13T00:00:00\",\"2024-03-14T00:00:00\",\"2024-03-15T00:00:00\",\"2024-03-18T00:00:00\",\"2024-03-19T00:00:00\",\"2024-03-20T00:00:00\",\"2024-03-21T00:00:00\",\"2024-03-22T00:00:00\",\"2024-03-25T00:00:00\",\"2024-03-26T00:00:00\",\"2024-03-27T00:00:00\",\"2024-03-28T00:00:00\",\"2024-04-01T00:00:00\",\"2024-04-02T00:00:00\",\"2024-04-03T00:00:00\",\"2024-04-04T00:00:00\",\"2024-04-05T00:00:00\",\"2024-04-08T00:00:00\",\"2024-04-09T00:00:00\",\"2024-04-10T00:00:00\",\"2024-04-11T00:00:00\",\"2024-04-12T00:00:00\",\"2024-04-15T00:00:00\",\"2024-04-16T00:00:00\",\"2024-04-17T00:00:00\",\"2024-04-18T00:00:00\",\"2024-04-19T00:00:00\",\"2024-04-22T00:00:00\",\"2024-04-23T00:00:00\",\"2024-04-24T00:00:00\",\"2024-04-25T00:00:00\",\"2024-04-26T00:00:00\",\"2024-04-29T00:00:00\",\"2024-04-30T00:00:00\",\"2024-05-01T00:00:00\",\"2024-05-02T00:00:00\",\"2024-05-03T00:00:00\",\"2024-05-06T00:00:00\",\"2024-05-07T00:00:00\",\"2024-05-08T00:00:00\",\"2024-05-09T00:00:00\",\"2024-05-10T00:00:00\",\"2024-05-13T00:00:00\",\"2024-05-14T00:00:00\",\"2024-05-15T00:00:00\"],\"y\":[48.36000061035156,41.720001220703125,42.939998626708984,43.349998474121094,43.77000045776367,44.0,44.9900016784668,45.619998931884766,45.04999923706055,45.22999954223633,45.790000915527344,45.25,45.33000183105469,45.56999969482422,44.91999816894531,44.2599983215332,43.4900016784668,43.2400016784668,42.90999984741211,43.79999923706055,43.31999969482422,43.38999938964844,44.13999938964844,43.56999969482422,42.93000030517578,44.099998474121094,43.77000045776367,43.060001373291016,42.880001068115234,42.63999938964844,42.599998474121094,41.959999084472656,42.689998626708984,43.220001220703125,43.38999938964844,43.25,42.86000061035156,42.70000076293945,42.33000183105469,43.06999969482422,42.599998474121094,44.029998779296875,44.130001068115234,44.58000183105469,44.459999084472656,44.34000015258789,43.83000183105469,44.63999938964844,45.619998931884766,45.369998931884766,45.279998779296875,44.91999816894531,45.709999084472656,45.380001068115234,45.0099983215332,45.02000045776367,44.91999816894531,46.02000045776367,45.900001525878906,46.61000061035156,46.59000015258789,46.77000045776367,46.65999984741211,49.369998931884766,48.70000076293945,47.709999084472656,47.40999984741211,47.06999969482422,47.27000045776367,45.88999938964844,45.709999084472656,45.2400016784668,44.720001220703125,45.290000915527344,44.59000015258789,44.470001220703125,45.02000045776367,45.369998931884766,45.77000045776367,46.400001525878906,44.11000061035156,43.959999084472656,43.290000915527344,43.29999923706055,43.29999923706055,42.58000183105469,41.59000015258789,41.150001525878906,40.65999984741211,40.58000183105469,40.52000045776367,41.34000015258789,40.56999969482422,40.0,41.290000915527344,41.81999969482422,41.9900016784668,41.52000045776367,40.27000045776367,39.88999938964844,39.58000183105469,39.27000045776367,40.61000061035156,40.20000076293945,41.29999923706055,41.790000915527344,41.880001068115234,41.709999084472656,42.79999923706055,43.540000915527344,44.36000061035156,44.380001068115234,44.41999816894531,45.63999938964844,45.43000030517578,45.459999084472656,44.56999969482422,43.849998474121094,44.52000045776367,44.54999923706055,44.61000061035156,43.90999984741211,45.65999984741211,44.790000915527344,44.7400016784668,44.900001525878906,44.38999938964844,46.59000015258789,47.790000915527344,47.619998931884766,48.380001068115234,48.56999969482422,48.400001525878906,48.08000183105469,48.279998779296875,49.720001220703125,49.970001220703125,49.70000076293945,49.33000183105469,48.59000015258789,48.18000030517578,48.9900016784668,48.459999084472656,49.29999923706055,49.63999938964844,49.29999923706055,48.150001525878906,47.810001373291016,47.400001525878906,47.369998931884766,47.65999984741211,47.31999969482422,47.47999954223633,47.529998779296875,47.06999969482422,47.5,47.63999938964844,47.939998626708984,47.54999923706055,46.880001068115234,48.31999969482422,48.58000183105469,48.810001373291016,49.209999084472656,49.0,48.880001068115234,48.08000183105469,46.900001525878906,46.459999084472656,46.779998779296875,47.5,47.810001373291016,47.97999954223633,48.34000015258789,48.5099983215332,48.220001220703125,48.66999816894531,48.56999969482422,49.31999969482422,48.630001068115234,47.56999969482422,47.84000015258789,46.959999084472656,46.72999954223633,47.2599983215332,47.86000061035156,47.70000076293945,48.45000076293945,50.9900016784668,50.77000045776367,49.689998626708984,49.310001373291016,49.209999084472656,48.47999954223633,48.72999954223633,48.41999816894531,48.34000015258789,48.529998779296875,49.279998779296875,49.41999816894531,48.90999984741211,49.11000061035156,48.810001373291016,48.560001373291016,48.40999984741211,49.04999923706055,49.060001373291016,50.119998931884766,50.189998626708984,50.939998626708984,50.66999816894531,49.459999084472656,49.72999954223633,50.5099983215332,50.540000915527344,50.38999938964844,51.16999816894531,51.43000030517578,52.279998779296875,52.310001373291016,51.81999969482422,51.81999969482422,51.27000045776367,51.33000183105469,50.619998931884766,50.11000061035156,50.79999923706055,50.540000915527344,50.279998779296875,50.310001373291016,48.040000915527344,46.58000183105469,47.029998779296875,47.38999938964844,47.09000015258789,46.540000915527344,46.560001373291016,47.25,47.34000015258789,46.36000061035156,45.959999084472656,45.70000076293945,46.25,46.34000015258789,46.470001220703125,46.709999084472656,46.369998931884766,46.709999084472656,47.099998474121094,46.91999816894531,47.630001068115234,48.20000076293945,49.130001068115234,48.81999969482422,48.90999984741211,48.40999984741211,49.029998779296875,49.86000061035156,50.16999816894531,49.66999816894531,49.7400016784668,50.02000045776367,50.209999084472656,49.810001373291016,49.779998779296875,49.68000030517578,49.65999984741211,50.47999954223633,50.79999923706055,50.959999084472656,51.93000030517578,52.06999969482422,51.54999923706055,50.849998474121094,51.119998931884766,50.33000183105469,50.209999084472656,50.86000061035156,50.869998931884766,51.209999084472656,51.7400016784668,51.81999969482422,51.5099983215332,51.11000061035156,50.9900016784668,51.400001525878906,52.119998931884766,50.7400016784668,51.529998779296875,50.380001068115234,50.810001373291016,51.2400016784668,52.43000030517578,52.369998931884766,52.630001068115234,53.11000061035156,53.599998474121094,53.220001220703125,53.0,52.09000015258789,52.040000915527344,52.65999984741211,52.58000183105469,53.150001525878906,52.630001068115234,53.0099983215332,53.060001373291016,52.9900016784668,53.369998931884766,53.790000915527344,53.880001068115234,53.349998474121094,52.959999084472656,54.72999954223633,55.040000915527344,55.439998626708984,55.459999084472656,55.97999954223633,55.2400016784668,55.70000076293945,56.20000076293945,56.560001373291016,56.810001373291016,57.349998474121094,57.84000015258789,57.2599983215332,57.15999984741211,56.790000915527344,56.66999816894531,56.84000015258789,56.38999938964844,56.279998779296875,56.369998931884766,56.040000915527344,56.11000061035156,55.84000015258789,55.5,53.34000015258789,53.56999969482422,53.47999954223633,52.709999084472656,53.20000076293945,53.880001068115234,53.7599983215332,54.38999938964844,53.650001525878906,53.45000076293945,53.06999969482422,53.45000076293945,53.91999816894531,53.869998931884766,53.65999984741211,53.849998474121094,53.77000045776367,54.15999984741211,53.939998626708984,53.77000045776367,53.31999969482422,52.93000030517578,52.20000076293945,53.0099983215332,52.400001525878906,51.369998931884766,51.560001373291016,51.56999969482422,52.130001068115234,52.189998626708984,52.75,53.0099983215332,53.290000915527344,53.130001068115234,53.0,52.0,52.59000015258789,52.22999954223633,53.16999816894531,53.279998779296875,48.040000915527344,47.7599983215332,48.27000045776367,47.79999923706055,48.08000183105469,48.36000061035156,47.93000030517578,47.849998474121094,48.04999923706055,48.380001068115234,48.470001220703125,48.04999923706055,47.93000030517578,47.70000076293945,48.2599983215332,48.380001068115234,49.38999938964844,49.33000183105469,49.689998626708984,49.439998626708984,49.869998931884766,50.2400016784668,50.18000030517578,49.79999923706055,49.70000076293945,50.09000015258789,50.279998779296875,50.439998626708984,50.47999954223633,50.52000045776367,50.5099983215332,50.5099983215332,50.08000183105469,50.09000015258789,50.459999084472656,49.90999984741211,50.2400016784668,50.439998626708984,50.34000015258789,50.59000015258789,50.29999923706055,50.75,51.27000045776367,51.56999969482422,51.7599983215332,51.310001373291016,52.33000183105469,52.13999938964844,52.290000915527344,52.2400016784668,50.18000030517578,50.18000030517578,50.18000030517578,49.5099983215332,49.97999954223633,49.77000045776367,49.95000076293945,50.130001068115234,49.9900016784668,49.63999938964844,50.279998779296875,49.060001373291016,48.439998626708984,48.279998779296875,48.47999954223633,48.56999969482422,48.86000061035156,48.400001525878906,48.310001373291016,48.060001373291016,48.369998931884766,48.400001525878906,49.130001068115234,48.95000076293945,49.16999816894531,48.900001525878906,49.5,50.220001220703125,50.06999969482422,50.11000061035156,49.790000915527344,48.93000030517578,49.27000045776367,49.13999938964844,49.54999923706055,49.880001068115234,49.779998779296875,49.68000030517578,49.54999923706055,49.77000045776367,49.90999984741211,50.040000915527344,49.36000061035156,48.7400016784668,48.11000061035156,48.54999923706055,48.2400016784668,50.0099983215332,49.209999084472656,49.529998779296875,48.4900016784668,48.2400016784668,47.91999816894531,47.790000915527344,48.11000061035156,48.31999969482422,48.13999938964844,48.31999969482422,48.349998474121094,48.099998474121094,47.86000061035156,47.779998779296875,46.97999954223633,46.84000015258789,46.790000915527344,47.119998931884766,47.11000061035156,47.279998779296875,48.0,47.790000915527344,48.060001373291016,48.68000030517578,48.95000076293945,49.66999816894531],\"type\":\"scatter\"}],                        {\"template\":{\"data\":{\"barpolar\":[{\"marker\":{\"line\":{\"color\":\"#E5ECF6\",\"width\":0.5},\"pattern\":{\"fillmode\":\"overlay\",\"size\":10,\"solidity\":0.2}},\"type\":\"barpolar\"}],\"bar\":[{\"error_x\":{\"color\":\"#2a3f5f\"},\"error_y\":{\"color\":\"#2a3f5f\"},\"marker\":{\"line\":{\"color\":\"#E5ECF6\",\"width\":0.5},\"pattern\":{\"fillmode\":\"overlay\",\"size\":10,\"solidity\":0.2}},\"type\":\"bar\"}],\"carpet\":[{\"aaxis\":{\"endlinecolor\":\"#2a3f5f\",\"gridcolor\":\"white\",\"linecolor\":\"white\",\"minorgridcolor\":\"white\",\"startlinecolor\":\"#2a3f5f\"},\"baxis\":{\"endlinecolor\":\"#2a3f5f\",\"gridcolor\":\"white\",\"linecolor\":\"white\",\"minorgridcolor\":\"white\",\"startlinecolor\":\"#2a3f5f\"},\"type\":\"carpet\"}],\"choropleth\":[{\"colorbar\":{\"outlinewidth\":0,\"ticks\":\"\"},\"type\":\"choropleth\"}],\"contourcarpet\":[{\"colorbar\":{\"outlinewidth\":0,\"ticks\":\"\"},\"type\":\"contourcarpet\"}],\"contour\":[{\"colorbar\":{\"outlinewidth\":0,\"ticks\":\"\"},\"colorscale\":[[0.0,\"#0d0887\"],[0.1111111111111111,\"#46039f\"],[0.2222222222222222,\"#7201a8\"],[0.3333333333333333,\"#9c179e\"],[0.4444444444444444,\"#bd3786\"],[0.5555555555555556,\"#d8576b\"],[0.6666666666666666,\"#ed7953\"],[0.7777777777777778,\"#fb9f3a\"],[0.8888888888888888,\"#fdca26\"],[1.0,\"#f0f921\"]],\"type\":\"contour\"}],\"heatmapgl\":[{\"colorbar\":{\"outlinewidth\":0,\"ticks\":\"\"},\"colorscale\":[[0.0,\"#0d0887\"],[0.1111111111111111,\"#46039f\"],[0.2222222222222222,\"#7201a8\"],[0.3333333333333333,\"#9c179e\"],[0.4444444444444444,\"#bd3786\"],[0.5555555555555556,\"#d8576b\"],[0.6666666666666666,\"#ed7953\"],[0.7777777777777778,\"#fb9f3a\"],[0.8888888888888888,\"#fdca26\"],[1.0,\"#f0f921\"]],\"type\":\"heatmapgl\"}],\"heatmap\":[{\"colorbar\":{\"outlinewidth\":0,\"ticks\":\"\"},\"colorscale\":[[0.0,\"#0d0887\"],[0.1111111111111111,\"#46039f\"],[0.2222222222222222,\"#7201a8\"],[0.3333333333333333,\"#9c179e\"],[0.4444444444444444,\"#bd3786\"],[0.5555555555555556,\"#d8576b\"],[0.6666666666666666,\"#ed7953\"],[0.7777777777777778,\"#fb9f3a\"],[0.8888888888888888,\"#fdca26\"],[1.0,\"#f0f921\"]],\"type\":\"heatmap\"}],\"histogram2dcontour\":[{\"colorbar\":{\"outlinewidth\":0,\"ticks\":\"\"},\"colorscale\":[[0.0,\"#0d0887\"],[0.1111111111111111,\"#46039f\"],[0.2222222222222222,\"#7201a8\"],[0.3333333333333333,\"#9c179e\"],[0.4444444444444444,\"#bd3786\"],[0.5555555555555556,\"#d8576b\"],[0.6666666666666666,\"#ed7953\"],[0.7777777777777778,\"#fb9f3a\"],[0.8888888888888888,\"#fdca26\"],[1.0,\"#f0f921\"]],\"type\":\"histogram2dcontour\"}],\"histogram2d\":[{\"colorbar\":{\"outlinewidth\":0,\"ticks\":\"\"},\"colorscale\":[[0.0,\"#0d0887\"],[0.1111111111111111,\"#46039f\"],[0.2222222222222222,\"#7201a8\"],[0.3333333333333333,\"#9c179e\"],[0.4444444444444444,\"#bd3786\"],[0.5555555555555556,\"#d8576b\"],[0.6666666666666666,\"#ed7953\"],[0.7777777777777778,\"#fb9f3a\"],[0.8888888888888888,\"#fdca26\"],[1.0,\"#f0f921\"]],\"type\":\"histogram2d\"}],\"histogram\":[{\"marker\":{\"pattern\":{\"fillmode\":\"overlay\",\"size\":10,\"solidity\":0.2}},\"type\":\"histogram\"}],\"mesh3d\":[{\"colorbar\":{\"outlinewidth\":0,\"ticks\":\"\"},\"type\":\"mesh3d\"}],\"parcoords\":[{\"line\":{\"colorbar\":{\"outlinewidth\":0,\"ticks\":\"\"}},\"type\":\"parcoords\"}],\"pie\":[{\"automargin\":true,\"type\":\"pie\"}],\"scatter3d\":[{\"line\":{\"colorbar\":{\"outlinewidth\":0,\"ticks\":\"\"}},\"marker\":{\"colorbar\":{\"outlinewidth\":0,\"ticks\":\"\"}},\"type\":\"scatter3d\"}],\"scattercarpet\":[{\"marker\":{\"colorbar\":{\"outlinewidth\":0,\"ticks\":\"\"}},\"type\":\"scattercarpet\"}],\"scattergeo\":[{\"marker\":{\"colorbar\":{\"outlinewidth\":0,\"ticks\":\"\"}},\"type\":\"scattergeo\"}],\"scattergl\":[{\"marker\":{\"colorbar\":{\"outlinewidth\":0,\"ticks\":\"\"}},\"type\":\"scattergl\"}],\"scattermapbox\":[{\"marker\":{\"colorbar\":{\"outlinewidth\":0,\"ticks\":\"\"}},\"type\":\"scattermapbox\"}],\"scatterpolargl\":[{\"marker\":{\"colorbar\":{\"outlinewidth\":0,\"ticks\":\"\"}},\"type\":\"scatterpolargl\"}],\"scatterpolar\":[{\"marker\":{\"colorbar\":{\"outlinewidth\":0,\"ticks\":\"\"}},\"type\":\"scatterpolar\"}],\"scatter\":[{\"fillpattern\":{\"fillmode\":\"overlay\",\"size\":10,\"solidity\":0.2},\"type\":\"scatter\"}],\"scatterternary\":[{\"marker\":{\"colorbar\":{\"outlinewidth\":0,\"ticks\":\"\"}},\"type\":\"scatterternary\"}],\"surface\":[{\"colorbar\":{\"outlinewidth\":0,\"ticks\":\"\"},\"colorscale\":[[0.0,\"#0d0887\"],[0.1111111111111111,\"#46039f\"],[0.2222222222222222,\"#7201a8\"],[0.3333333333333333,\"#9c179e\"],[0.4444444444444444,\"#bd3786\"],[0.5555555555555556,\"#d8576b\"],[0.6666666666666666,\"#ed7953\"],[0.7777777777777778,\"#fb9f3a\"],[0.8888888888888888,\"#fdca26\"],[1.0,\"#f0f921\"]],\"type\":\"surface\"}],\"table\":[{\"cells\":{\"fill\":{\"color\":\"#EBF0F8\"},\"line\":{\"color\":\"white\"}},\"header\":{\"fill\":{\"color\":\"#C8D4E3\"},\"line\":{\"color\":\"white\"}},\"type\":\"table\"}]},\"layout\":{\"annotationdefaults\":{\"arrowcolor\":\"#2a3f5f\",\"arrowhead\":0,\"arrowwidth\":1},\"autotypenumbers\":\"strict\",\"coloraxis\":{\"colorbar\":{\"outlinewidth\":0,\"ticks\":\"\"}},\"colorscale\":{\"diverging\":[[0,\"#8e0152\"],[0.1,\"#c51b7d\"],[0.2,\"#de77ae\"],[0.3,\"#f1b6da\"],[0.4,\"#fde0ef\"],[0.5,\"#f7f7f7\"],[0.6,\"#e6f5d0\"],[0.7,\"#b8e186\"],[0.8,\"#7fbc41\"],[0.9,\"#4d9221\"],[1,\"#276419\"]],\"sequential\":[[0.0,\"#0d0887\"],[0.1111111111111111,\"#46039f\"],[0.2222222222222222,\"#7201a8\"],[0.3333333333333333,\"#9c179e\"],[0.4444444444444444,\"#bd3786\"],[0.5555555555555556,\"#d8576b\"],[0.6666666666666666,\"#ed7953\"],[0.7777777777777778,\"#fb9f3a\"],[0.8888888888888888,\"#fdca26\"],[1.0,\"#f0f921\"]],\"sequentialminus\":[[0.0,\"#0d0887\"],[0.1111111111111111,\"#46039f\"],[0.2222222222222222,\"#7201a8\"],[0.3333333333333333,\"#9c179e\"],[0.4444444444444444,\"#bd3786\"],[0.5555555555555556,\"#d8576b\"],[0.6666666666666666,\"#ed7953\"],[0.7777777777777778,\"#fb9f3a\"],[0.8888888888888888,\"#fdca26\"],[1.0,\"#f0f921\"]]},\"colorway\":[\"#636efa\",\"#EF553B\",\"#00cc96\",\"#ab63fa\",\"#FFA15A\",\"#19d3f3\",\"#FF6692\",\"#B6E880\",\"#FF97FF\",\"#FECB52\"],\"font\":{\"color\":\"#2a3f5f\"},\"geo\":{\"bgcolor\":\"white\",\"lakecolor\":\"white\",\"landcolor\":\"#E5ECF6\",\"showlakes\":true,\"showland\":true,\"subunitcolor\":\"white\"},\"hoverlabel\":{\"align\":\"left\"},\"hovermode\":\"closest\",\"mapbox\":{\"style\":\"light\"},\"paper_bgcolor\":\"white\",\"plot_bgcolor\":\"#E5ECF6\",\"polar\":{\"angularaxis\":{\"gridcolor\":\"white\",\"linecolor\":\"white\",\"ticks\":\"\"},\"bgcolor\":\"#E5ECF6\",\"radialaxis\":{\"gridcolor\":\"white\",\"linecolor\":\"white\",\"ticks\":\"\"}},\"scene\":{\"xaxis\":{\"backgroundcolor\":\"#E5ECF6\",\"gridcolor\":\"white\",\"gridwidth\":2,\"linecolor\":\"white\",\"showbackground\":true,\"ticks\":\"\",\"zerolinecolor\":\"white\"},\"yaxis\":{\"backgroundcolor\":\"#E5ECF6\",\"gridcolor\":\"white\",\"gridwidth\":2,\"linecolor\":\"white\",\"showbackground\":true,\"ticks\":\"\",\"zerolinecolor\":\"white\"},\"zaxis\":{\"backgroundcolor\":\"#E5ECF6\",\"gridcolor\":\"white\",\"gridwidth\":2,\"linecolor\":\"white\",\"showbackground\":true,\"ticks\":\"\",\"zerolinecolor\":\"white\"}},\"shapedefaults\":{\"line\":{\"color\":\"#2a3f5f\"}},\"ternary\":{\"aaxis\":{\"gridcolor\":\"white\",\"linecolor\":\"white\",\"ticks\":\"\"},\"baxis\":{\"gridcolor\":\"white\",\"linecolor\":\"white\",\"ticks\":\"\"},\"bgcolor\":\"#E5ECF6\",\"caxis\":{\"gridcolor\":\"white\",\"linecolor\":\"white\",\"ticks\":\"\"}},\"title\":{\"x\":0.05},\"xaxis\":{\"automargin\":true,\"gridcolor\":\"white\",\"linecolor\":\"white\",\"ticks\":\"\",\"title\":{\"standoff\":15},\"zerolinecolor\":\"white\",\"zerolinewidth\":2},\"yaxis\":{\"automargin\":true,\"gridcolor\":\"white\",\"linecolor\":\"white\",\"ticks\":\"\",\"title\":{\"standoff\":15},\"zerolinecolor\":\"white\",\"zerolinewidth\":2}}},\"title\":{\"text\":\"CISCO Stock Prices\"},\"xaxis\":{\"title\":{\"font\":{\"color\":\"#7f7f7f\",\"family\":\"Courier New, monospace\",\"size\":18},\"text\":\"Date\"}},\"yaxis\":{\"title\":{\"font\":{\"color\":\"#7f7f7f\",\"family\":\"Courier New, monospace\",\"size\":18},\"text\":\"Price\"}}},                        {\"responsive\": true}                    ).then(function(){\n",
       "                            \n",
       "var gd = document.getElementById('d329d210-8072-46da-aa2f-7793adf72b52');\n",
       "var x = new MutationObserver(function (mutations, observer) {{\n",
       "        var display = window.getComputedStyle(gd).display;\n",
       "        if (!display || display === 'none') {{\n",
       "            console.log([gd, 'removed!']);\n",
       "            Plotly.purge(gd);\n",
       "            observer.disconnect();\n",
       "        }}\n",
       "}});\n",
       "\n",
       "// Listen for the removal of the full notebook cells\n",
       "var notebookContainer = gd.closest('#notebook-container');\n",
       "if (notebookContainer) {{\n",
       "    x.observe(notebookContainer, {childList: true});\n",
       "}}\n",
       "\n",
       "// Listen for the clearing of the current output cell\n",
       "var outputEl = gd.closest('.output');\n",
       "if (outputEl) {{\n",
       "    x.observe(outputEl, {childList: true});\n",
       "}}\n",
       "\n",
       "                        })                };                });            </script>        </div>"
      ]
     },
     "metadata": {},
     "output_type": "display_data"
    }
   ],
   "source": [
    "# Plotting the figure offline \n",
    "\n",
    "iplot(plot)\n"
   ]
  },
  {
   "cell_type": "code",
   "execution_count": 8,
   "id": "7d456fb0-f70a-469a-9f30-0feb0e4676e8",
   "metadata": {},
   "outputs": [],
   "source": [
    "# Importing necessary libraries for building the regression model\n",
    "\n",
    "# Library for splitting dataset into train and test sets\n",
    "from sklearn.model_selection import train_test_split\n",
    "\n",
    "# Library for data preprocessing\n",
    "from sklearn.preprocessing import MinMaxScaler, StandardScaler\n",
    "\n",
    "# Library for model evaluation metrics\n",
    "from sklearn.metrics import mean_squared_error as mse\n",
    "from sklearn.metrics import r2_score\n"
   ]
  },
  {
   "cell_type": "code",
   "execution_count": 35,
   "id": "e3895071-2623-4d36-b843-0cbfee4dfb2b",
   "metadata": {},
   "outputs": [
    {
     "data": {
      "text/html": [
       "<div>\n",
       "<style scoped>\n",
       "    .dataframe tbody tr th:only-of-type {\n",
       "        vertical-align: middle;\n",
       "    }\n",
       "\n",
       "    .dataframe tbody tr th {\n",
       "        vertical-align: top;\n",
       "    }\n",
       "\n",
       "    .dataframe thead th {\n",
       "        text-align: right;\n",
       "    }\n",
       "</style>\n",
       "<table border=\"1\" class=\"dataframe\">\n",
       "  <thead>\n",
       "    <tr style=\"text-align: right;\">\n",
       "      <th></th>\n",
       "      <th>Open</th>\n",
       "      <th>High</th>\n",
       "      <th>Low</th>\n",
       "      <th>Close</th>\n",
       "      <th>Adj Close</th>\n",
       "      <th>Volume</th>\n",
       "    </tr>\n",
       "    <tr>\n",
       "      <th>Date</th>\n",
       "      <th></th>\n",
       "      <th></th>\n",
       "      <th></th>\n",
       "      <th></th>\n",
       "      <th></th>\n",
       "      <th></th>\n",
       "    </tr>\n",
       "  </thead>\n",
       "  <tbody>\n",
       "    <tr>\n",
       "      <th>2022-05-18</th>\n",
       "      <td>50.470001</td>\n",
       "      <td>50.470001</td>\n",
       "      <td>48.209999</td>\n",
       "      <td>48.360001</td>\n",
       "      <td>45.348930</td>\n",
       "      <td>40672700</td>\n",
       "    </tr>\n",
       "    <tr>\n",
       "      <th>2022-05-19</th>\n",
       "      <td>43.060001</td>\n",
       "      <td>43.930000</td>\n",
       "      <td>41.020000</td>\n",
       "      <td>41.720001</td>\n",
       "      <td>39.122368</td>\n",
       "      <td>97674600</td>\n",
       "    </tr>\n",
       "    <tr>\n",
       "      <th>2022-05-20</th>\n",
       "      <td>41.860001</td>\n",
       "      <td>43.000000</td>\n",
       "      <td>41.520000</td>\n",
       "      <td>42.939999</td>\n",
       "      <td>40.266396</td>\n",
       "      <td>46148700</td>\n",
       "    </tr>\n",
       "    <tr>\n",
       "      <th>2022-05-23</th>\n",
       "      <td>43.340000</td>\n",
       "      <td>43.820000</td>\n",
       "      <td>42.939999</td>\n",
       "      <td>43.349998</td>\n",
       "      <td>40.650867</td>\n",
       "      <td>27366600</td>\n",
       "    </tr>\n",
       "    <tr>\n",
       "      <th>2022-05-24</th>\n",
       "      <td>43.400002</td>\n",
       "      <td>44.060001</td>\n",
       "      <td>42.500000</td>\n",
       "      <td>43.770000</td>\n",
       "      <td>41.044724</td>\n",
       "      <td>30053900</td>\n",
       "    </tr>\n",
       "    <tr>\n",
       "      <th>...</th>\n",
       "      <td>...</td>\n",
       "      <td>...</td>\n",
       "      <td>...</td>\n",
       "      <td>...</td>\n",
       "      <td>...</td>\n",
       "      <td>...</td>\n",
       "    </tr>\n",
       "    <tr>\n",
       "      <th>2024-05-09</th>\n",
       "      <td>48.000000</td>\n",
       "      <td>48.090000</td>\n",
       "      <td>47.650002</td>\n",
       "      <td>47.790001</td>\n",
       "      <td>47.790001</td>\n",
       "      <td>12449300</td>\n",
       "    </tr>\n",
       "    <tr>\n",
       "      <th>2024-05-10</th>\n",
       "      <td>48.000000</td>\n",
       "      <td>48.099998</td>\n",
       "      <td>47.700001</td>\n",
       "      <td>48.060001</td>\n",
       "      <td>48.060001</td>\n",
       "      <td>12096900</td>\n",
       "    </tr>\n",
       "    <tr>\n",
       "      <th>2024-05-13</th>\n",
       "      <td>48.310001</td>\n",
       "      <td>48.820000</td>\n",
       "      <td>48.230000</td>\n",
       "      <td>48.680000</td>\n",
       "      <td>48.680000</td>\n",
       "      <td>15149100</td>\n",
       "    </tr>\n",
       "    <tr>\n",
       "      <th>2024-05-14</th>\n",
       "      <td>48.980000</td>\n",
       "      <td>49.180000</td>\n",
       "      <td>48.349998</td>\n",
       "      <td>48.950001</td>\n",
       "      <td>48.950001</td>\n",
       "      <td>17379700</td>\n",
       "    </tr>\n",
       "    <tr>\n",
       "      <th>2024-05-15</th>\n",
       "      <td>49.189999</td>\n",
       "      <td>49.730000</td>\n",
       "      <td>48.730000</td>\n",
       "      <td>49.669998</td>\n",
       "      <td>49.669998</td>\n",
       "      <td>37342100</td>\n",
       "    </tr>\n",
       "  </tbody>\n",
       "</table>\n",
       "<p>501 rows × 6 columns</p>\n",
       "</div>"
      ],
      "text/plain": [
       "                 Open       High        Low      Close  Adj Close    Volume\n",
       "Date                                                                       \n",
       "2022-05-18  50.470001  50.470001  48.209999  48.360001  45.348930  40672700\n",
       "2022-05-19  43.060001  43.930000  41.020000  41.720001  39.122368  97674600\n",
       "2022-05-20  41.860001  43.000000  41.520000  42.939999  40.266396  46148700\n",
       "2022-05-23  43.340000  43.820000  42.939999  43.349998  40.650867  27366600\n",
       "2022-05-24  43.400002  44.060001  42.500000  43.770000  41.044724  30053900\n",
       "...               ...        ...        ...        ...        ...       ...\n",
       "2024-05-09  48.000000  48.090000  47.650002  47.790001  47.790001  12449300\n",
       "2024-05-10  48.000000  48.099998  47.700001  48.060001  48.060001  12096900\n",
       "2024-05-13  48.310001  48.820000  48.230000  48.680000  48.680000  15149100\n",
       "2024-05-14  48.980000  49.180000  48.349998  48.950001  48.950001  17379700\n",
       "2024-05-15  49.189999  49.730000  48.730000  49.669998  49.669998  37342100\n",
       "\n",
       "[501 rows x 6 columns]"
      ]
     },
     "execution_count": 35,
     "metadata": {},
     "output_type": "execute_result"
    }
   ],
   "source": [
    "stock_data"
   ]
  },
  {
   "cell_type": "code",
   "execution_count": 9,
   "id": "8bb3cc34-86cf-42fe-bc10-e2f5b216c3a7",
   "metadata": {},
   "outputs": [],
   "source": [
    "# Split the data into train and test sets\n",
    "\n",
    "# Convert the datetime index to a numerical format (timestamp)\n",
    "X = np.array(stock_data.index.map(pd.Timestamp.timestamp)).reshape(-1, 1)\n",
    "\n",
    "# Extracting the target variable 'Close' from the DataFrame\n",
    "Y = stock_data['Close']\n",
    "\n",
    "# Splitting the data into training and testing sets\n",
    "X_train, X_test, Y_train, Y_test = train_test_split(X, Y, test_size=0.2, random_state=101)\n"
   ]
  },
  {
   "cell_type": "code",
   "execution_count": 37,
   "id": "6ebe46fc-c76f-48d2-abe5-495117e97d2c",
   "metadata": {
    "scrolled": true
   },
   "outputs": [
    {
     "data": {
      "text/plain": [
       "array([[1.6619040e+09],\n",
       "       [1.6837632e+09],\n",
       "       [1.6818624e+09],\n",
       "       [1.7019072e+09],\n",
       "       [1.6599168e+09],\n",
       "       [1.6856640e+09],\n",
       "       [1.6600896e+09],\n",
       "       [1.6970688e+09],\n",
       "       [1.6981056e+09],\n",
       "       [1.6583616e+09],\n",
       "       [1.6575840e+09],\n",
       "       [1.6843680e+09],\n",
       "       [1.6643232e+09],\n",
       "       [1.6674336e+09],\n",
       "       [1.6799616e+09],\n",
       "       [1.6778016e+09],\n",
       "       [1.6735680e+09],\n",
       "       [1.6903296e+09],\n",
       "       [1.6886016e+09],\n",
       "       [1.6708032e+09],\n",
       "       [1.6868736e+09],\n",
       "       [1.6600032e+09],\n",
       "       [1.7127936e+09],\n",
       "       [1.6872192e+09],\n",
       "       [1.7073504e+09],\n",
       "       [1.6721856e+09],\n",
       "       [1.6781472e+09],\n",
       "       [1.6595712e+09],\n",
       "       [1.7012160e+09],\n",
       "       [1.6921440e+09],\n",
       "       [1.6593984e+09],\n",
       "       [1.7120160e+09],\n",
       "       [1.6962912e+09],\n",
       "       [1.6822944e+09],\n",
       "       [1.6826400e+09],\n",
       "       [1.6927488e+09],\n",
       "       [1.7095968e+09],\n",
       "       [1.6935264e+09],\n",
       "       [1.6744320e+09],\n",
       "       [1.6862688e+09],\n",
       "       [1.6695936e+09],\n",
       "       [1.7070912e+09],\n",
       "       [1.6547328e+09],\n",
       "       [1.6545600e+09],\n",
       "       [1.6711488e+09],\n",
       "       [1.6963776e+09],\n",
       "       [1.7061408e+09],\n",
       "       [1.6550784e+09],\n",
       "       [1.6854912e+09],\n",
       "       [1.6783200e+09],\n",
       "       [1.7067456e+09],\n",
       "       [1.7019936e+09],\n",
       "       [1.6637184e+09],\n",
       "       [1.7086464e+09],\n",
       "       [1.7028576e+09],\n",
       "       [1.7095104e+09],\n",
       "       [1.6932672e+09],\n",
       "       [1.6665696e+09],\n",
       "       [1.6644960e+09],\n",
       "       [1.6901568e+09],\n",
       "       [1.7084736e+09],\n",
       "       [1.6890336e+09],\n",
       "       [1.6679520e+09],\n",
       "       [1.6540416e+09],\n",
       "       [1.6751232e+09],\n",
       "       [1.6775424e+09],\n",
       "       [1.7072640e+09],\n",
       "       [1.7107200e+09],\n",
       "       [1.6879104e+09],\n",
       "       [1.6965504e+09],\n",
       "       [1.6548192e+09],\n",
       "       [1.6759008e+09],\n",
       "       [1.7065728e+09],\n",
       "       [1.6581888e+09],\n",
       "       [1.7066592e+09],\n",
       "       [1.7000928e+09],\n",
       "       [1.6933536e+09],\n",
       "       [1.6796160e+09],\n",
       "       [1.6902432e+09],\n",
       "       [1.6934400e+09],\n",
       "       [1.7053632e+09],\n",
       "       [1.6741728e+09],\n",
       "       [1.6861824e+09],\n",
       "       [1.6923168e+09],\n",
       "       [1.6962048e+09],\n",
       "       [1.6587072e+09],\n",
       "       [1.6720992e+09],\n",
       "       [1.6617312e+09],\n",
       "       [1.6873920e+09],\n",
       "       [1.6714080e+09],\n",
       "       [1.6668288e+09],\n",
       "       [1.6974144e+09],\n",
       "       [1.6642368e+09],\n",
       "       [1.7122752e+09],\n",
       "       [1.7114112e+09],\n",
       "       [1.6626816e+09],\n",
       "       [1.6729632e+09],\n",
       "       [1.6683840e+09],\n",
       "       [1.6740000e+09],\n",
       "       [1.6867008e+09],\n",
       "       [1.6757280e+09],\n",
       "       [1.7089056e+09],\n",
       "       [1.6891200e+09],\n",
       "       [1.6605216e+09],\n",
       "       [1.6819488e+09],\n",
       "       [1.6802208e+09],\n",
       "       [1.6938720e+09],\n",
       "       [1.6696800e+09],\n",
       "       [1.6957728e+09],\n",
       "       [1.6994880e+09],\n",
       "       [1.6911072e+09],\n",
       "       [1.6656192e+09],\n",
       "       [1.6866144e+09],\n",
       "       [1.6916256e+09],\n",
       "       [1.6987104e+09],\n",
       "       [1.6792704e+09],\n",
       "       [1.6983648e+09],\n",
       "       [1.7044128e+09],\n",
       "       [1.6565472e+09],\n",
       "       [1.7054496e+09],\n",
       "       [1.7013888e+09],\n",
       "       [1.6727904e+09],\n",
       "       [1.6793568e+09],\n",
       "       [1.6830720e+09],\n",
       "       [1.6745184e+09],\n",
       "       [1.6951680e+09],\n",
       "       [1.6571520e+09],\n",
       "       [1.7125344e+09],\n",
       "       [1.6620768e+09],\n",
       "       [1.7139168e+09],\n",
       "       [1.6788384e+09],\n",
       "       [1.7096832e+09],\n",
       "       [1.7016480e+09],\n",
       "       [1.6681248e+09],\n",
       "       [1.6879968e+09],\n",
       "       [1.7071776e+09],\n",
       "       [1.6986240e+09],\n",
       "       [1.6619904e+09],\n",
       "       [1.7017344e+09],\n",
       "       [1.6553376e+09],\n",
       "       [1.6677792e+09],\n",
       "       [1.6988832e+09],\n",
       "       [1.6686432e+09],\n",
       "       [1.6919712e+09],\n",
       "       [1.6733088e+09],\n",
       "       [1.6947360e+09],\n",
       "       [1.6697664e+09],\n",
       "       [1.6977600e+09],\n",
       "       [1.6632864e+09],\n",
       "       [1.6765056e+09],\n",
       "       [1.7152992e+09],\n",
       "       [1.6849728e+09],\n",
       "       [1.7085600e+09],\n",
       "       [1.6838496e+09],\n",
       "       [1.6850592e+09],\n",
       "       [1.6914528e+09],\n",
       "       [1.7140896e+09],\n",
       "       [1.6758144e+09],\n",
       "       [1.7050176e+09],\n",
       "       [1.7097696e+09],\n",
       "       [1.6895520e+09],\n",
       "       [1.7133984e+09],\n",
       "       [1.6636320e+09],\n",
       "       [1.6946496e+09],\n",
       "       [1.6728768e+09],\n",
       "       [1.6752096e+09],\n",
       "       [1.6663104e+09],\n",
       "       [1.6832448e+09],\n",
       "       [1.6746048e+09],\n",
       "       [1.6672608e+09],\n",
       "       [1.6574976e+09],\n",
       "       [1.6576704e+09],\n",
       "       [1.6572384e+09],\n",
       "       [1.6529184e+09],\n",
       "       [1.6925760e+09],\n",
       "       [1.7121888e+09],\n",
       "       [1.6655328e+09],\n",
       "       [1.6715808e+09],\n",
       "       [1.7036352e+09],\n",
       "       [1.7004384e+09],\n",
       "       [1.7156448e+09],\n",
       "       [1.7150400e+09],\n",
       "       [1.7109792e+09],\n",
       "       [1.6560288e+09],\n",
       "       [1.7064864e+09],\n",
       "       [1.7037216e+09],\n",
       "       [1.6896384e+09],\n",
       "       [1.7144352e+09],\n",
       "       [1.7138304e+09],\n",
       "       [1.6806528e+09],\n",
       "       [1.6790112e+09],\n",
       "       [1.7010432e+09],\n",
       "       [1.7137440e+09],\n",
       "       [1.7030304e+09],\n",
       "       [1.7006112e+09],\n",
       "       [1.6557696e+09],\n",
       "       [1.6582752e+09],\n",
       "       [1.6535232e+09],\n",
       "       [1.6944768e+09],\n",
       "       [1.6638912e+09],\n",
       "       [1.6593120e+09],\n",
       "       [1.6630272e+09],\n",
       "       [1.6854048e+09],\n",
       "       [1.6922304e+09],\n",
       "       [1.6771968e+09],\n",
       "       [1.6709760e+09],\n",
       "       [1.6596576e+09],\n",
       "       [1.6820352e+09],\n",
       "       [1.6612128e+09],\n",
       "       [1.7110656e+09],\n",
       "       [1.6562880e+09],\n",
       "       [1.6716672e+09],\n",
       "       [1.6762464e+09],\n",
       "       [1.6992288e+09],\n",
       "       [1.6680384e+09],\n",
       "       [1.6649280e+09],\n",
       "       [1.6769376e+09],\n",
       "       [1.7058816e+09],\n",
       "       [1.6635456e+09],\n",
       "       [1.6708896e+09],\n",
       "       [1.6949952e+09],\n",
       "       [1.6998336e+09],\n",
       "       [1.7151264e+09],\n",
       "       [1.6867872e+09],\n",
       "       [1.6915392e+09],\n",
       "       [1.6710624e+09],\n",
       "       [1.6606080e+09],\n",
       "       [1.6776288e+09],\n",
       "       [1.6613856e+09],\n",
       "       [1.6629408e+09],\n",
       "       [1.6689888e+09],\n",
       "       [1.6905024e+09],\n",
       "       [1.6612992e+09],\n",
       "       [1.7157312e+09],\n",
       "       [1.6684704e+09],\n",
       "       [1.7041536e+09],\n",
       "       [1.6739136e+09],\n",
       "       [1.6897248e+09],\n",
       "       [1.6650144e+09],\n",
       "       [1.6908480e+09],\n",
       "       [1.6804800e+09],\n",
       "       [1.7132256e+09],\n",
       "       [1.6917120e+09],\n",
       "       [1.6964640e+09],\n",
       "       [1.6995744e+09],\n",
       "       [1.7149536e+09],\n",
       "       [1.7140032e+09],\n",
       "       [1.6756416e+09],\n",
       "       [1.6880832e+09],\n",
       "       [1.6847136e+09],\n",
       "       [1.6594848e+09],\n",
       "       [1.7047584e+09],\n",
       "       [1.7131392e+09],\n",
       "       [1.6705440e+09],\n",
       "       [1.6759872e+09],\n",
       "       [1.6999200e+09],\n",
       "       [1.6625952e+09],\n",
       "       [1.6632000e+09],\n",
       "       [1.7143488e+09],\n",
       "       [1.6801344e+09],\n",
       "       [1.6913664e+09],\n",
       "       [1.7134848e+09],\n",
       "       [1.6563744e+09],\n",
       "       [1.7121024e+09],\n",
       "       [1.6780608e+09],\n",
       "       [1.6975872e+09],\n",
       "       [1.6647552e+09],\n",
       "       [1.6848000e+09],\n",
       "       [1.6824672e+09],\n",
       "       [1.6558560e+09],\n",
       "       [1.6554240e+09],\n",
       "       [1.6714944e+09],\n",
       "       [1.6889472e+09],\n",
       "       [1.7000064e+09],\n",
       "       [1.6691616e+09],\n",
       "       [1.6587936e+09],\n",
       "       [1.6953408e+09],\n",
       "       [1.6813440e+09],\n",
       "       [1.6789248e+09],\n",
       "       [1.6733952e+09],\n",
       "       [1.6835904e+09],\n",
       "       [1.6976736e+09],\n",
       "       [1.6618176e+09],\n",
       "       [1.6987968e+09],\n",
       "       [1.7043264e+09],\n",
       "       [1.7060544e+09],\n",
       "       [1.6859232e+09],\n",
       "       [1.6678656e+09],\n",
       "       [1.7018208e+09],\n",
       "       [1.6777152e+09],\n",
       "       [1.6842816e+09],\n",
       "       [1.6546464e+09],\n",
       "       [1.6910208e+09],\n",
       "       [1.6956864e+09],\n",
       "       [1.7133120e+09],\n",
       "       [1.6532640e+09],\n",
       "       [1.6564608e+09],\n",
       "       [1.6669152e+09],\n",
       "       [1.7092512e+09],\n",
       "       [1.7024256e+09],\n",
       "       [1.6644096e+09],\n",
       "       [1.7102880e+09],\n",
       "       [1.6601760e+09],\n",
       "       [1.7090784e+09],\n",
       "       [1.7013024e+09],\n",
       "       [1.6746912e+09],\n",
       "       [1.6699392e+09],\n",
       "       [1.6798752e+09],\n",
       "       [1.6817760e+09],\n",
       "       [1.6588800e+09],\n",
       "       [1.6747776e+09],\n",
       "       [1.7108064e+09],\n",
       "       [1.6885152e+09],\n",
       "       [1.7001792e+09],\n",
       "       [1.6958592e+09],\n",
       "       [1.7102016e+09],\n",
       "       [1.7046720e+09],\n",
       "       [1.6877376e+09],\n",
       "       [1.7079552e+09],\n",
       "       [1.6541280e+09],\n",
       "       [1.6566336e+09],\n",
       "       [1.7056224e+09],\n",
       "       [1.7114976e+09],\n",
       "       [1.6770240e+09],\n",
       "       [1.7005248e+09],\n",
       "       [1.7098560e+09],\n",
       "       [1.6717536e+09],\n",
       "       [1.6971552e+09],\n",
       "       [1.6784064e+09],\n",
       "       [1.6841088e+09],\n",
       "       [1.6873056e+09],\n",
       "       [1.6703712e+09],\n",
       "       [1.6982784e+09],\n",
       "       [1.6673472e+09],\n",
       "       [1.6528320e+09],\n",
       "       [1.6907616e+09],\n",
       "       [1.7029440e+09],\n",
       "       [1.7089920e+09],\n",
       "       [1.6940448e+09],\n",
       "       [1.7032032e+09],\n",
       "       [1.7091648e+09],\n",
       "       [1.6943904e+09],\n",
       "       [1.6828992e+09],\n",
       "       [1.6898976e+09],\n",
       "       [1.6657056e+09],\n",
       "       [1.7083872e+09],\n",
       "       [1.7077824e+09],\n",
       "       [1.7113248e+09],\n",
       "       [1.6536096e+09],\n",
       "       [1.6929216e+09],\n",
       "       [1.6886880e+09],\n",
       "       [1.6653600e+09],\n",
       "       [1.6734816e+09],\n",
       "       [1.6606944e+09],\n",
       "       [1.6860960e+09],\n",
       "       [1.6829856e+09],\n",
       "       [1.7103744e+09],\n",
       "       [1.6660512e+09],\n",
       "       [1.7011296e+09],\n",
       "       [1.6959456e+09],\n",
       "       [1.6662240e+09],\n",
       "       [1.6810848e+09],\n",
       "       [1.6625088e+09],\n",
       "       [1.7023392e+09],\n",
       "       [1.6685568e+09],\n",
       "       [1.6874784e+09],\n",
       "       [1.6841952e+09],\n",
       "       [1.6941312e+09],\n",
       "       [1.6584480e+09],\n",
       "       [1.7055360e+09],\n",
       "       [1.6602624e+09],\n",
       "       [1.7126208e+09],\n",
       "       [1.7048448e+09],\n",
       "       [1.6994016e+09],\n",
       "       [1.6698528e+09],\n",
       "       [1.6667424e+09],\n",
       "       [1.6956000e+09],\n",
       "       [1.6590528e+09],\n",
       "       [1.7146080e+09],\n",
       "       [1.7128800e+09],\n",
       "       [1.7025120e+09],\n",
       "       [1.6534368e+09],\n",
       "       [1.6666560e+09],\n",
       "       [1.6771104e+09],\n",
       "       [1.6805664e+09],\n",
       "       [1.6926624e+09],\n",
       "       [1.6836768e+09],\n",
       "       [1.7062272e+09],\n",
       "       [1.7152128e+09],\n",
       "       [1.6693344e+09],\n",
       "       [1.6581024e+09],\n",
       "       [1.7108928e+09],\n",
       "       [1.7022528e+09],\n",
       "       [1.6624224e+09],\n",
       "       [1.6638048e+09],\n",
       "       [1.6607808e+09],\n",
       "       [1.6939584e+09],\n",
       "       [1.6952544e+09],\n",
       "       [1.6542144e+09],\n",
       "       [1.6969824e+09]])"
      ]
     },
     "execution_count": 37,
     "metadata": {},
     "output_type": "execute_result"
    }
   ],
   "source": [
    "X_train"
   ]
  },
  {
   "cell_type": "code",
   "execution_count": 10,
   "id": "d1f10dbb-9863-4a8b-b42e-fd8d065f207b",
   "metadata": {},
   "outputs": [],
   "source": [
    "#Feature scaling(removing the mean and scaling to a unit variance)\n",
    "scaler = StandardScaler().fit(X_train)\n"
   ]
  },
  {
   "cell_type": "code",
   "execution_count": 11,
   "id": "f57151b8-73ff-46fd-89da-d56a7dc1d4d5",
   "metadata": {},
   "outputs": [],
   "source": [
    "from sklearn.linear_model import LinearRegression\n"
   ]
  },
  {
   "cell_type": "code",
   "execution_count": 12,
   "id": "3dd3e701-9244-451b-864c-9ed72ea0c0d6",
   "metadata": {},
   "outputs": [
    {
     "data": {
      "text/html": [
       "<style>#sk-container-id-1 {color: black;background-color: white;}#sk-container-id-1 pre{padding: 0;}#sk-container-id-1 div.sk-toggleable {background-color: white;}#sk-container-id-1 label.sk-toggleable__label {cursor: pointer;display: block;width: 100%;margin-bottom: 0;padding: 0.3em;box-sizing: border-box;text-align: center;}#sk-container-id-1 label.sk-toggleable__label-arrow:before {content: \"▸\";float: left;margin-right: 0.25em;color: #696969;}#sk-container-id-1 label.sk-toggleable__label-arrow:hover:before {color: black;}#sk-container-id-1 div.sk-estimator:hover label.sk-toggleable__label-arrow:before {color: black;}#sk-container-id-1 div.sk-toggleable__content {max-height: 0;max-width: 0;overflow: hidden;text-align: left;background-color: #f0f8ff;}#sk-container-id-1 div.sk-toggleable__content pre {margin: 0.2em;color: black;border-radius: 0.25em;background-color: #f0f8ff;}#sk-container-id-1 input.sk-toggleable__control:checked~div.sk-toggleable__content {max-height: 200px;max-width: 100%;overflow: auto;}#sk-container-id-1 input.sk-toggleable__control:checked~label.sk-toggleable__label-arrow:before {content: \"▾\";}#sk-container-id-1 div.sk-estimator input.sk-toggleable__control:checked~label.sk-toggleable__label {background-color: #d4ebff;}#sk-container-id-1 div.sk-label input.sk-toggleable__control:checked~label.sk-toggleable__label {background-color: #d4ebff;}#sk-container-id-1 input.sk-hidden--visually {border: 0;clip: rect(1px 1px 1px 1px);clip: rect(1px, 1px, 1px, 1px);height: 1px;margin: -1px;overflow: hidden;padding: 0;position: absolute;width: 1px;}#sk-container-id-1 div.sk-estimator {font-family: monospace;background-color: #f0f8ff;border: 1px dotted black;border-radius: 0.25em;box-sizing: border-box;margin-bottom: 0.5em;}#sk-container-id-1 div.sk-estimator:hover {background-color: #d4ebff;}#sk-container-id-1 div.sk-parallel-item::after {content: \"\";width: 100%;border-bottom: 1px solid gray;flex-grow: 1;}#sk-container-id-1 div.sk-label:hover label.sk-toggleable__label {background-color: #d4ebff;}#sk-container-id-1 div.sk-serial::before {content: \"\";position: absolute;border-left: 1px solid gray;box-sizing: border-box;top: 0;bottom: 0;left: 50%;z-index: 0;}#sk-container-id-1 div.sk-serial {display: flex;flex-direction: column;align-items: center;background-color: white;padding-right: 0.2em;padding-left: 0.2em;position: relative;}#sk-container-id-1 div.sk-item {position: relative;z-index: 1;}#sk-container-id-1 div.sk-parallel {display: flex;align-items: stretch;justify-content: center;background-color: white;position: relative;}#sk-container-id-1 div.sk-item::before, #sk-container-id-1 div.sk-parallel-item::before {content: \"\";position: absolute;border-left: 1px solid gray;box-sizing: border-box;top: 0;bottom: 0;left: 50%;z-index: -1;}#sk-container-id-1 div.sk-parallel-item {display: flex;flex-direction: column;z-index: 1;position: relative;background-color: white;}#sk-container-id-1 div.sk-parallel-item:first-child::after {align-self: flex-end;width: 50%;}#sk-container-id-1 div.sk-parallel-item:last-child::after {align-self: flex-start;width: 50%;}#sk-container-id-1 div.sk-parallel-item:only-child::after {width: 0;}#sk-container-id-1 div.sk-dashed-wrapped {border: 1px dashed gray;margin: 0 0.4em 0.5em 0.4em;box-sizing: border-box;padding-bottom: 0.4em;background-color: white;}#sk-container-id-1 div.sk-label label {font-family: monospace;font-weight: bold;display: inline-block;line-height: 1.2em;}#sk-container-id-1 div.sk-label-container {text-align: center;}#sk-container-id-1 div.sk-container {/* jupyter's `normalize.less` sets `[hidden] { display: none; }` but bootstrap.min.css set `[hidden] { display: none !important; }` so we also need the `!important` here to be able to override the default hidden behavior on the sphinx rendered scikit-learn.org. See: https://github.com/scikit-learn/scikit-learn/issues/21755 */display: inline-block !important;position: relative;}#sk-container-id-1 div.sk-text-repr-fallback {display: none;}</style><div id=\"sk-container-id-1\" class=\"sk-top-container\"><div class=\"sk-text-repr-fallback\"><pre>LinearRegression()</pre><b>In a Jupyter environment, please rerun this cell to show the HTML representation or trust the notebook. <br />On GitHub, the HTML representation is unable to render, please try loading this page with nbviewer.org.</b></div><div class=\"sk-container\" hidden><div class=\"sk-item\"><div class=\"sk-estimator sk-toggleable\"><input class=\"sk-toggleable__control sk-hidden--visually\" id=\"sk-estimator-id-1\" type=\"checkbox\" checked><label for=\"sk-estimator-id-1\" class=\"sk-toggleable__label sk-toggleable__label-arrow\">LinearRegression</label><div class=\"sk-toggleable__content\"><pre>LinearRegression()</pre></div></div></div></div></div>"
      ],
      "text/plain": [
       "LinearRegression()"
      ]
     },
     "execution_count": 12,
     "metadata": {},
     "output_type": "execute_result"
    }
   ],
   "source": [
    "# Creating the linear regression model\n",
    "\n",
    "# Initializing the LinearRegression model\n",
    "lm = LinearRegression()\n",
    "\n",
    "# Fitting the linear regression model to the training data\n",
    "lm.fit(X_train, Y_train)\n"
   ]
  },
  {
   "cell_type": "code",
   "execution_count": 17,
   "id": "7d345ad9-bbb5-4ca3-9ac1-f7fd00999fb2",
   "metadata": {},
   "outputs": [],
   "source": [
    "# Plotting actual and predicted values for the train dataset\n",
    "\n",
    "# Creating a scatter plot for actual values\n",
    "trace0 = go.Scatter(\n",
    "    x = X_train.T[0],  # X-axis: Day\n",
    "    y = Y_train,       # Y-axis: Actual values\n",
    "    mode = 'markers',\n",
    "    name = 'Actual'\n",
    ")\n",
    "\n",
    "# Creating a line plot for predicted values\n",
    "trace1 = go.Scatter(\n",
    "    x = X_train.T[0],                       # X-axis: Day\n",
    "    y = lm.predict(X_train).T,              # Y-axis: Predicted values\n",
    "    mode = 'lines',\n",
    "    name = 'Predicted'\n",
    ")\n",
    "\n",
    "# Combining the traces for the plot\n",
    "stock_data3 = [trace0, trace1]\n",
    "\n",
    "# Setting the layout for the plot.\n",
    "layout.xaxis.title.text = 'Day'  # Setting the title for the x-axis\n",
    "\n",
    "# Creating the figure with the specified data and layout\n",
    "plot2 = go.Figure(data=stock_data3, layout=layout)\n"
   ]
  },
  {
   "cell_type": "code",
   "execution_count": 18,
   "id": "04c14c16-f7ed-46cc-8786-9cdf847a0866",
   "metadata": {},
   "outputs": [
    {
     "data": {
      "application/vnd.plotly.v1+json": {
       "config": {
        "linkText": "Export to plot.ly",
        "plotlyServerURL": "https://plot.ly",
        "showLink": false
       },
       "data": [
        {
         "mode": "markers",
         "name": "Actual",
         "type": "scatter",
         "x": [
          1661990400,
          1683849600,
          1681948800,
          1701993600,
          1660003200,
          1685923200,
          1660176000,
          1697155200,
          1698192000,
          1658448000,
          1657670400,
          1684454400,
          1664409600,
          1667520000,
          1680048000,
          1678060800,
          1673913600,
          1690416000,
          1688688000,
          1670889600,
          1687219200,
          1660089600,
          1712880000,
          1687305600,
          1707436800,
          1672272000,
          1678233600,
          1659657600,
          1701302400,
          1692230400,
          1659484800,
          1712102400,
          1696377600,
          1682380800,
          1682899200,
          1692835200,
          1709683200,
          1693872000,
          1674518400,
          1686528000,
          1669680000,
          1707177600,
          1654819200,
          1654646400,
          1671408000,
          1696464000,
          1706227200,
          1655164800,
          1685577600,
          1678406400,
          1706832000,
          1702252800,
          1663804800,
          1708905600,
          1702944000,
          1709596800,
          1693353600,
          1666656000,
          1664755200,
          1690243200,
          1708560000,
          1689120000,
          1668038400,
          1654128000,
          1675209600,
          1677628800,
          1707350400,
          1710806400,
          1687996800,
          1696809600,
          1655078400,
          1675987200,
          1706659200,
          1658275200,
          1706745600,
          1700179200,
          1693440000,
          1679875200,
          1690329600,
          1693526400,
          1705449600,
          1674432000,
          1686268800,
          1692576000,
          1696291200,
          1658793600,
          1672185600,
          1661817600,
          1687478400,
          1671494400,
          1666915200,
          1697500800,
          1664323200,
          1712534400,
          1711497600,
          1662940800,
          1673222400,
          1668470400,
          1674086400,
          1686787200,
          1675814400,
          1708992000,
          1689206400,
          1660608000,
          1682035200,
          1680480000,
          1693958400,
          1669766400,
          1695859200,
          1699574400,
          1691366400,
          1665705600,
          1686700800,
          1691712000,
          1698796800,
          1679356800,
          1698624000,
          1704672000,
          1656633600,
          1705536000,
          1701648000,
          1672876800,
          1679443200,
          1683158400,
          1674604800,
          1695254400,
          1657238400,
          1712620800,
          1662422400,
          1714003200,
          1678924800,
          1709769600,
          1701734400,
          1668384000,
          1688083200,
          1707264000,
          1698710400,
          1662076800,
          1701820800,
          1655424000,
          1667865600,
          1698969600,
          1668729600,
          1692057600,
          1673395200,
          1694995200,
          1669852800,
          1698019200,
          1663545600,
          1676592000,
          1715558400,
          1685059200,
          1708646400,
          1684108800,
          1685404800,
          1691539200,
          1714348800,
          1675900800,
          1705363200,
          1709856000,
          1689638400,
          1713484800,
          1663718400,
          1694736000,
          1672963200,
          1675296000,
          1666569600,
          1683504000,
          1674691200,
          1667347200,
          1657584000,
          1657756800,
          1657497600,
          1653004800,
          1692662400,
          1712275200,
          1665619200,
          1671667200,
          1703721600,
          1700524800,
          1715731200,
          1715126400,
          1711065600,
          1656288000,
          1706572800,
          1703808000,
          1689724800,
          1714521600,
          1713916800,
          1680739200,
          1679270400,
          1701129600,
          1713830400,
          1703116800,
          1700784000,
          1655856000,
          1658361600,
          1653609600,
          1694563200,
          1664150400,
          1659398400,
          1663113600,
          1685491200,
          1692316800,
          1677456000,
          1671062400,
          1659916800,
          1682294400,
          1661299200,
          1711324800,
          1656374400,
          1671753600,
          1676332800,
          1699315200,
          1668124800,
          1665014400,
          1677024000,
          1705968000,
          1663632000,
          1670976000,
          1695081600,
          1699920000,
          1715212800,
          1686873600,
          1691625600,
          1671148800,
          1660694400,
          1677715200,
          1661472000,
          1663027200,
          1669075200,
          1690761600,
          1661385600,
          1715817600,
          1668556800,
          1704240000,
          1674000000,
          1689811200,
          1665100800,
          1690934400,
          1680566400,
          1713312000,
          1691971200,
          1696550400,
          1699833600,
          1715040000,
          1714089600,
          1675728000,
          1688342400,
          1684800000,
          1659571200,
          1704844800,
          1713225600,
          1670803200,
          1676246400,
          1700006400,
          1662681600,
          1663286400,
          1714435200,
          1680220800,
          1691452800,
          1713744000,
          1656460800,
          1712188800,
          1678147200,
          1697673600,
          1664841600,
          1684886400,
          1682553600,
          1655942400,
          1655769600,
          1671580800,
          1689033600,
          1700092800,
          1669334400,
          1658880000,
          1695600000,
          1681430400,
          1679011200,
          1673481600,
          1683676800,
          1697760000,
          1661904000,
          1698883200,
          1704412800,
          1706140800,
          1686009600,
          1667952000,
          1701907200,
          1677801600,
          1684368000,
          1654732800,
          1691107200,
          1695772800,
          1713398400,
          1653350400,
          1656547200,
          1667174400,
          1709510400,
          1702512000,
          1664496000,
          1710374400,
          1660262400,
          1709164800,
          1701388800,
          1674777600,
          1670198400,
          1679961600,
          1681862400,
          1658966400,
          1675036800,
          1710892800,
          1688601600,
          1700438400,
          1695945600,
          1710288000,
          1704758400,
          1687824000,
          1708041600,
          1654214400,
          1656979200,
          1705881600,
          1711584000,
          1677110400,
          1700611200,
          1710115200,
          1672099200,
          1697414400,
          1678665600,
          1684195200,
          1687392000,
          1670457600,
          1698364800,
          1667433600,
          1652918400,
          1690848000,
          1703030400,
          1709078400,
          1694131200,
          1703548800,
          1709251200,
          1694476800,
          1682985600,
          1690156800,
          1665964800,
          1708473600,
          1707868800,
          1711411200,
          1653955200,
          1693180800,
          1688947200,
          1665446400,
          1673568000,
          1660780800,
          1686182400,
          1683072000,
          1710460800,
          1666137600,
          1701216000,
          1696204800,
          1666310400,
          1681171200,
          1662595200,
          1702425600,
          1668643200,
          1687737600,
          1684281600,
          1694390400,
          1658707200,
          1705622400,
          1660521600,
          1712707200,
          1704931200,
          1699488000,
          1669939200,
          1666828800,
          1695686400,
          1659312000,
          1714694400,
          1713139200,
          1702598400,
          1653523200,
          1666742400,
          1677196800,
          1680652800,
          1692748800,
          1683763200,
          1706486400,
          1715299200,
          1669593600,
          1658188800,
          1710979200,
          1702339200,
          1662508800,
          1663891200,
          1660867200,
          1694044800,
          1695340800,
          1654473600,
          1697068800
         ],
         "y": [
          45.290000915527344,
          46.709999084472656,
          46.58000183105469,
          48.380001068115234,
          44.91999816894531,
          50.209999084472656,
          45.900001525878906,
          53.77000045776367,
          52.400001525878906,
          44.459999084472656,
          42.70000076293945,
          49.130001068115234,
          40.56999969482422,
          44.52000045776367,
          51.16999816894531,
          49.41999816894531,
          48.08000183105469,
          53,
          50.9900016784668,
          49.63999938964844,
          51.54999923706055,
          46.02000045776367,
          48.4900016784668,
          50.849998474121094,
          50.130001068115234,
          47.5,
          49.11000061035156,
          45.0099983215332,
          48.380001068115234,
          54.72999954223633,
          45.709999084472656,
          48.7400016784668,
          53.45000076293945,
          47.09000015258789,
          47.34000015258789,
          55.2400016784668,
          49.16999816894531,
          57.2599983215332,
          47.810001373291016,
          50.47999954223633,
          48.279998779296875,
          49.97999954223633,
          43.4900016784668,
          44.91999816894531,
          47.400001525878906,
          53.06999969482422,
          52.13999938964844,
          42.90999984741211,
          49.7400016784668,
          48.560001373291016,
          50.18000030517578,
          49.38999938964844,
          41.150001525878906,
          48.400001525878906,
          50.18000030517578,
          48.95000076293945,
          56.810001373291016,
          44.36000061035156,
          41.290000915527344,
          53.599998474121094,
          48.56999969482422,
          50.7400016784668,
          45.65999984741211,
          45.790000915527344,
          48.56999969482422,
          48.34000015258789,
          49.95000076293945,
          49.13999938964844,
          51.209999084472656,
          53.91999816894531,
          43.2400016784668,
          47.2599983215332,
          50.18000030517578,
          44.130001068115234,
          50.18000030517578,
          47.7599983215332,
          57.349998474121094,
          50.540000915527344,
          53.220001220703125,
          57.84000015258789,
          50.29999923706055,
          47.5,
          49.65999984741211,
          55.439998626708984,
          53.650001525878906,
          43.83000183105469,
          47.06999969482422,
          45.2400016784668,
          50.33000183105469,
          47.369998931884766,
          45.63999938964844,
          53.939998626708984,
          41.34000015258789,
          48.2400016784668,
          49.77000045776367,
          46.400001525878906,
          48.58000183105469,
          44.900001525878906,
          46.459999084472656,
          51.93000030517578,
          46.959999084472656,
          48.310001373291016,
          51.529998779296875,
          46.77000045776367,
          47.029998779296875,
          52.310001373291016,
          57.15999984741211,
          49.720001220703125,
          53.880001068115234,
          52.59000015258789,
          53.0099983215332,
          40.20000076293945,
          50.959999084472656,
          53.790000915527344,
          52.189998626708984,
          50.66999816894531,
          51.56999969482422,
          50.459999084472656,
          42.599998474121094,
          50.75,
          48.04999923706055,
          46.880001068115234,
          49.459999084472656,
          45.70000076293945,
          47.97999954223633,
          53.34000015258789,
          43.38999938964844,
          50.0099983215332,
          44.470001220703125,
          48.099998474121094,
          50.119998931884766,
          48.900001525878906,
          47.93000030517578,
          44.7400016784668,
          51.7400016784668,
          49.77000045776367,
          52.130001068115234,
          44.59000015258789,
          47.70000076293945,
          43.38999938964844,
          44.61000061035156,
          53.0099983215332,
          47.790000915527344,
          53.349998474121094,
          49.209999084472656,
          56.11000061035156,
          49.970001220703125,
          52.20000076293945,
          43.29999923706055,
          50.77000045776367,
          48.68000030517578,
          49.86000061035156,
          48.86000061035156,
          47.099998474121094,
          50.16999816894531,
          52.9900016784668,
          47.779998779296875,
          46.72999954223633,
          50.59000015258789,
          49.5,
          51.2400016784668,
          48.31999969482422,
          41.59000015258789,
          56.040000915527344,
          48.31999969482422,
          49.31999969482422,
          43.540000915527344,
          46.34000015258789,
          48.34000015258789,
          44.56999969482422,
          42.86000061035156,
          42.33000183105469,
          43.25,
          42.939998626708984,
          55.459999084472656,
          48.54999923706055,
          40.61000061035156,
          47.31999969482422,
          50.47999954223633,
          47.79999923706055,
          49.66999816894531,
          48,
          49.779998779296875,
          43.77000045776367,
          52.2400016784668,
          50.52000045776367,
          52.43000030517578,
          46.84000015258789,
          48.349998474121094,
          51.27000045776367,
          50.939998626708984,
          47.849998474121094,
          48.31999969482422,
          49.70000076293945,
          48.36000061035156,
          43.56999969482422,
          44.58000183105469,
          45.619998931884766,
          56.279998779296875,
          40.58000183105469,
          44.91999816894531,
          43.959999084472656,
          49.66999816894531,
          55.040000915527344,
          48.72999954223633,
          48.150001525878906,
          45.02000045776367,
          47.38999938964844,
          47.06999969482422,
          49.68000030517578,
          43.060001373291016,
          47.47999954223633,
          47.70000076293945,
          53.130001068115234,
          44.790000915527344,
          41.52000045776367,
          49.310001373291016,
          51.7599983215332,
          42.58000183105469,
          49.29999923706055,
          55.84000015258789,
          53.16999816894531,
          47.790000915527344,
          52.06999969482422,
          53.369998931884766,
          47.810001373291016,
          46.65999984741211,
          48.529998779296875,
          45.88999938964844,
          44.11000061035156,
          48.380001068115234,
          52.040000915527344,
          47.27000045776367,
          48.34000015258789,
          44.38999938964844,
          50.5099983215332,
          46.900001525878906,
          52.369998931884766,
          40.27000045776367,
          52.58000183105469,
          51.81999969482422,
          47.790000915527344,
          53.880001068115234,
          53.45000076293945,
          52.22999954223633,
          47.279998779296875,
          47.86000061035156,
          47.84000015258789,
          51.81999969482422,
          48.90999984741211,
          45.380001068115234,
          50.2400016784668,
          47.91999816894531,
          49.29999923706055,
          47.86000061035156,
          53.279998779296875,
          45.77000045776367,
          43.29999923706055,
          46.97999954223633,
          52.279998779296875,
          53.060001373291016,
          48.13999938964844,
          42.880001068115234,
          48.11000061035156,
          48.90999984741211,
          53.31999969482422,
          41.81999969482422,
          48.40999984741211,
          46.560001373291016,
          42.93000030517578,
          44.13999938964844,
          47.65999984741211,
          52.119998931884766,
          48.040000915527344,
          48.400001525878906,
          44.63999938964844,
          53.47999954223633,
          50.540000915527344,
          50.189998626708984,
          49,
          46.709999084472656,
          52.93000030517578,
          44.720001220703125,
          52.75,
          50.09000015258789,
          52.33000183105469,
          49.810001373291016,
          43.90999984741211,
          48.2599983215332,
          49.279998779296875,
          48.20000076293945,
          44.2599983215332,
          52.630001068115234,
          53.20000076293945,
          48.11000061035156,
          43.77000045776367,
          42.63999938964844,
          45.43000030517578,
          49.130001068115234,
          49.439998626708984,
          40,
          49.790000915527344,
          46.61000061035156,
          48.369998931884766,
          48.470001220703125,
          48.5099983215332,
          49.33000183105469,
          50.38999938964844,
          48.040000915527344,
          45.619998931884766,
          48.220001220703125,
          49.54999923706055,
          51.11000061035156,
          48.27000045776367,
          53.7599983215332,
          50.11000061035156,
          49.90999984741211,
          50.86000061035156,
          48.439998626708984,
          45.25,
          41.959999084472656,
          51.56999969482422,
          49.90999984741211,
          49.209999084472656,
          48.08000183105469,
          50.220001220703125,
          47.529998779296875,
          54.15999984741211,
          48.40999984741211,
          46.91999816894531,
          51.119998931884766,
          48.9900016784668,
          51.560001373291016,
          43.849998474121094,
          41.720001220703125,
          52.65999984741211,
          49.79999923706055,
          48.060001373291016,
          56.66999816894531,
          50.279998779296875,
          48.400001525878906,
          56.38999938964844,
          46.36000061035156,
          53.11000061035156,
          41.29999923706055,
          48.47999954223633,
          50.279998779296875,
          49.54999923706055,
          45.04999923706055,
          56.20000076293945,
          51.400001525878906,
          39.58000183105469,
          48.880001068115234,
          49.369998931884766,
          49.68000030517578,
          45.959999084472656,
          48.93000030517578,
          41.880001068115234,
          48.04999923706055,
          54.38999938964844,
          42.79999923706055,
          50.619998931884766,
          45.369998931884766,
          49.689998626708984,
          46.59000015258789,
          50.209999084472656,
          47.630001068115234,
          56.84000015258789,
          44.34000015258789,
          51.27000045776367,
          46.59000015258789,
          49.209999084472656,
          50.439998626708984,
          52,
          49.70000076293945,
          44.41999816894531,
          52.709999084472656,
          45.279998779296875,
          47.119998931884766,
          48.2400016784668,
          49.869998931884766,
          44.9900016784668,
          44.380001068115234,
          48.47999954223633,
          51.81999969482422,
          55.97999954223633,
          46.369998931884766,
          52.290000915527344,
          48.060001373291016,
          48.08000183105469,
          44.029998779296875,
          49.880001068115234,
          49.33000183105469,
          45.02000045776367,
          40.65999984741211,
          48.70000076293945,
          56.790000915527344,
          53.56999969482422,
          45.33000183105469,
          53.849998474121094
         ]
        },
        {
         "mode": "lines",
         "name": "Predicted",
         "type": "scatter",
         "x": [
          1661990400,
          1683849600,
          1681948800,
          1701993600,
          1660003200,
          1685923200,
          1660176000,
          1697155200,
          1698192000,
          1658448000,
          1657670400,
          1684454400,
          1664409600,
          1667520000,
          1680048000,
          1678060800,
          1673913600,
          1690416000,
          1688688000,
          1670889600,
          1687219200,
          1660089600,
          1712880000,
          1687305600,
          1707436800,
          1672272000,
          1678233600,
          1659657600,
          1701302400,
          1692230400,
          1659484800,
          1712102400,
          1696377600,
          1682380800,
          1682899200,
          1692835200,
          1709683200,
          1693872000,
          1674518400,
          1686528000,
          1669680000,
          1707177600,
          1654819200,
          1654646400,
          1671408000,
          1696464000,
          1706227200,
          1655164800,
          1685577600,
          1678406400,
          1706832000,
          1702252800,
          1663804800,
          1708905600,
          1702944000,
          1709596800,
          1693353600,
          1666656000,
          1664755200,
          1690243200,
          1708560000,
          1689120000,
          1668038400,
          1654128000,
          1675209600,
          1677628800,
          1707350400,
          1710806400,
          1687996800,
          1696809600,
          1655078400,
          1675987200,
          1706659200,
          1658275200,
          1706745600,
          1700179200,
          1693440000,
          1679875200,
          1690329600,
          1693526400,
          1705449600,
          1674432000,
          1686268800,
          1692576000,
          1696291200,
          1658793600,
          1672185600,
          1661817600,
          1687478400,
          1671494400,
          1666915200,
          1697500800,
          1664323200,
          1712534400,
          1711497600,
          1662940800,
          1673222400,
          1668470400,
          1674086400,
          1686787200,
          1675814400,
          1708992000,
          1689206400,
          1660608000,
          1682035200,
          1680480000,
          1693958400,
          1669766400,
          1695859200,
          1699574400,
          1691366400,
          1665705600,
          1686700800,
          1691712000,
          1698796800,
          1679356800,
          1698624000,
          1704672000,
          1656633600,
          1705536000,
          1701648000,
          1672876800,
          1679443200,
          1683158400,
          1674604800,
          1695254400,
          1657238400,
          1712620800,
          1662422400,
          1714003200,
          1678924800,
          1709769600,
          1701734400,
          1668384000,
          1688083200,
          1707264000,
          1698710400,
          1662076800,
          1701820800,
          1655424000,
          1667865600,
          1698969600,
          1668729600,
          1692057600,
          1673395200,
          1694995200,
          1669852800,
          1698019200,
          1663545600,
          1676592000,
          1715558400,
          1685059200,
          1708646400,
          1684108800,
          1685404800,
          1691539200,
          1714348800,
          1675900800,
          1705363200,
          1709856000,
          1689638400,
          1713484800,
          1663718400,
          1694736000,
          1672963200,
          1675296000,
          1666569600,
          1683504000,
          1674691200,
          1667347200,
          1657584000,
          1657756800,
          1657497600,
          1653004800,
          1692662400,
          1712275200,
          1665619200,
          1671667200,
          1703721600,
          1700524800,
          1715731200,
          1715126400,
          1711065600,
          1656288000,
          1706572800,
          1703808000,
          1689724800,
          1714521600,
          1713916800,
          1680739200,
          1679270400,
          1701129600,
          1713830400,
          1703116800,
          1700784000,
          1655856000,
          1658361600,
          1653609600,
          1694563200,
          1664150400,
          1659398400,
          1663113600,
          1685491200,
          1692316800,
          1677456000,
          1671062400,
          1659916800,
          1682294400,
          1661299200,
          1711324800,
          1656374400,
          1671753600,
          1676332800,
          1699315200,
          1668124800,
          1665014400,
          1677024000,
          1705968000,
          1663632000,
          1670976000,
          1695081600,
          1699920000,
          1715212800,
          1686873600,
          1691625600,
          1671148800,
          1660694400,
          1677715200,
          1661472000,
          1663027200,
          1669075200,
          1690761600,
          1661385600,
          1715817600,
          1668556800,
          1704240000,
          1674000000,
          1689811200,
          1665100800,
          1690934400,
          1680566400,
          1713312000,
          1691971200,
          1696550400,
          1699833600,
          1715040000,
          1714089600,
          1675728000,
          1688342400,
          1684800000,
          1659571200,
          1704844800,
          1713225600,
          1670803200,
          1676246400,
          1700006400,
          1662681600,
          1663286400,
          1714435200,
          1680220800,
          1691452800,
          1713744000,
          1656460800,
          1712188800,
          1678147200,
          1697673600,
          1664841600,
          1684886400,
          1682553600,
          1655942400,
          1655769600,
          1671580800,
          1689033600,
          1700092800,
          1669334400,
          1658880000,
          1695600000,
          1681430400,
          1679011200,
          1673481600,
          1683676800,
          1697760000,
          1661904000,
          1698883200,
          1704412800,
          1706140800,
          1686009600,
          1667952000,
          1701907200,
          1677801600,
          1684368000,
          1654732800,
          1691107200,
          1695772800,
          1713398400,
          1653350400,
          1656547200,
          1667174400,
          1709510400,
          1702512000,
          1664496000,
          1710374400,
          1660262400,
          1709164800,
          1701388800,
          1674777600,
          1670198400,
          1679961600,
          1681862400,
          1658966400,
          1675036800,
          1710892800,
          1688601600,
          1700438400,
          1695945600,
          1710288000,
          1704758400,
          1687824000,
          1708041600,
          1654214400,
          1656979200,
          1705881600,
          1711584000,
          1677110400,
          1700611200,
          1710115200,
          1672099200,
          1697414400,
          1678665600,
          1684195200,
          1687392000,
          1670457600,
          1698364800,
          1667433600,
          1652918400,
          1690848000,
          1703030400,
          1709078400,
          1694131200,
          1703548800,
          1709251200,
          1694476800,
          1682985600,
          1690156800,
          1665964800,
          1708473600,
          1707868800,
          1711411200,
          1653955200,
          1693180800,
          1688947200,
          1665446400,
          1673568000,
          1660780800,
          1686182400,
          1683072000,
          1710460800,
          1666137600,
          1701216000,
          1696204800,
          1666310400,
          1681171200,
          1662595200,
          1702425600,
          1668643200,
          1687737600,
          1684281600,
          1694390400,
          1658707200,
          1705622400,
          1660521600,
          1712707200,
          1704931200,
          1699488000,
          1669939200,
          1666828800,
          1695686400,
          1659312000,
          1714694400,
          1713139200,
          1702598400,
          1653523200,
          1666742400,
          1677196800,
          1680652800,
          1692748800,
          1683763200,
          1706486400,
          1715299200,
          1669593600,
          1658188800,
          1710979200,
          1702339200,
          1662508800,
          1663891200,
          1660867200,
          1694044800,
          1695340800,
          1654473600,
          1697068800
         ],
         "y": [
          45.89094824844739,
          48.529701241673536,
          48.30024445965387,
          50.71997052458855,
          45.65106161269955,
          48.78001773114954,
          45.67192132015589,
          50.13589871581121,
          50.26105696054921,
          45.46332424559253,
          45.369455562039036,
          48.60271021777072,
          46.18298415283604,
          46.55845888705005,
          48.0707876776342,
          47.83090104188639,
          47.33026806293438,
          49.3223701250142,
          49.113773050450874,
          46.96522318244854,
          48.93646553707205,
          45.66149146642772,
          52.03413209433754,
          48.94689539080022,
          51.37705130946304,
          47.13210084209922,
          47.8517607493427,
          45.60934219778687,
          50.63653169476322,
          49.5413970533057,
          45.588482490330534,
          51.94026341078404,
          50.04203003225771,
          48.352393728294714,
          48.4149728506637,
          49.614406029402886,
          51.648227506395386,
          49.73956427414089,
          47.403277039031536,
          48.8530267072467,
          46.8192052302542,
          51.345761748278534,
          45.025270389009535,
          45.004410681553225,
          47.027802304817556,
          50.05245988598588,
          51.2310333572687,
          45.06698980392221,
          48.738298316236865,
          47.87262045679904,
          51.304042333365885,
          50.751260085773055,
          46.109975176738885,
          51.55435882284189,
          50.83469891559838,
          51.63779765266722,
          49.67698515177187,
          46.45416034976839,
          46.22470356774872,
          49.301510417557864,
          51.512639407929214,
          49.16592231909172,
          46.62103800941904,
          44.94183155918421,
          47.48671586885689,
          47.778751773245546,
          51.36662145573487,
          51.78381560486156,
          49.03033422062555,
          50.09417930089853,
          45.05655995019404,
          47.580584552410386,
          51.28318262590955,
          45.44246453813622,
          51.293612479637716,
          50.50094359629705,
          49.68741500550004,
          48.04992797017789,
          49.31194027128603,
          49.69784485922821,
          51.137164673715205,
          47.39284718530337,
          48.82173714606222,
          49.58311646821838,
          50.031600178529544,
          45.50504366050521,
          47.12167098837105,
          45.87008854099105,
          48.96775509825653,
          47.038232158545725,
          46.485449910952866,
          50.177618130723886,
          46.17255429910787,
          51.99241267942489,
          51.867254434686885,
          46.00567663945722,
          47.246829233109054,
          46.673187278059885,
          47.35112777039072,
          48.884316268431206,
          47.55972484495405,
          51.56478867657003,
          49.17635217281989,
          45.72407058879671,
          48.31067431338204,
          48.12293694627505,
          49.74999412786906,
          46.82963508398237,
          49.9794509098887,
          50.42793462019989,
          49.43709851602404,
          46.33943195875855,
          48.87388641470304,
          49.478817930936714,
          50.33406593664637,
          47.987348847808875,
          50.31320622919006,
          51.04329599016171,
          45.24429731730103,
          51.147594527443374,
          50.67825110967587,
          47.20510981819638,
          47.997778701537044,
          48.44626241184821,
          47.413706892759706,
          49.90644193379154,
          45.31730629339822,
          52.00284253315306,
          45.943097517088205,
          52.16972019280371,
          47.93519957916806,
          51.658657360123556,
          50.68868096340404,
          46.662757424331716,
          49.04076407435372,
          51.3561916020067,
          50.3236360829182,
          45.901378102175556,
          50.69911081713221,
          45.09827936510672,
          46.6001783019627,
          50.35492564410271,
          46.70447683924439,
          49.52053734584939,
          47.26768894056539,
          49.87515237260703,
          46.84006493771054,
          50.24019725309287,
          46.07868561555438,
          47.65359352850754,
          52.3574575599107,
          48.67571919386788,
          51.52306926165738,
          48.56099080285804,
          48.717438608780554,
          49.457958223480375,
          52.211439607716386,
          47.57015469868222,
          51.126734819987036,
          51.669087213851725,
          49.22850144146071,
          52.10714107043472,
          46.099545323010716,
          49.843862811422554,
          47.215539671924546,
          47.49714572258503,
          46.44373049604022,
          48.48798182676089,
          47.424136746487875,
          46.53759917959371,
          45.35902570831087,
          45.379885415767205,
          45.348595854582726,
          44.806243460718036,
          49.59354632194655,
          51.96112311824038,
          46.32900210503038,
          47.059091866002035,
          50.928567599151876,
          50.542663011209726,
          52.37831726736704,
          52.30530829126988,
          51.81510516604604,
          45.202577902388384,
          51.27275277218138,
          50.938997452880045,
          49.23893129518888,
          52.232299315172725,
          52.15929033907554,
          48.154226507459555,
          47.976918994080705,
          50.61567198730688,
          52.14886048534737,
          50.85555862305472,
          50.573952572394205,
          45.15042863374754,
          45.45289439186439,
          44.87925243681522,
          49.823003103966215,
          46.151694591651534,
          45.578052636602365,
          46.02653634691356,
          48.727868462508724,
          49.55182690703387,
          47.75789206578921,
          46.98608288990488,
          45.64063175897138,
          48.341963874566545,
          45.80750941862203,
          51.846394727230546,
          45.21300775611655,
          47.069521719730204,
          47.622303967323035,
          50.396645059015384,
          46.63146786314721,
          46.2559931289332,
          47.70574279714839,
          51.19974379608422,
          46.08911546928255,
          46.97565303617671,
          49.8855822263352,
          50.46965403511254,
          52.31573814499805,
          48.894746122159376,
          49.468388077208544,
          46.99651274363305,
          45.734500442524876,
          47.789181626973715,
          45.82836912607837,
          46.01610649318539,
          46.74619625415704,
          49.36408953992688,
          45.8179392723502,
          52.38874712109521,
          46.683617131788054,
          50.99114672152089,
          47.34069791666255,
          49.249361148917046,
          46.26642298266137,
          49.38494924738322,
          48.133366800003216,
          52.08628136297838,
          49.51010749212122,
          50.06288973971405,
          50.45922418138437,
          52.29487843754171,
          52.18015004653188,
          47.54929499122588,
          49.072053635538225,
          48.64442963268337,
          45.598912344058704,
          51.06415569761805,
          52.075851509250214,
          46.95479332872037,
          47.611874113594865,
          50.48008388884071,
          45.97438707827271,
          46.04739605436987,
          52.221869461444555,
          48.09164738509054,
          49.447528369752206,
          52.1384306316192,
          45.22343760984472,
          51.95069326451221,
          47.84133089561453,
          50.198477838180224,
          46.23513342147689,
          48.65485948641154,
          48.37325343575105,
          45.16085848747571,
          45.13999878001937,
          47.048662012273866,
          49.15549246536355,
          50.49051374256888,
          46.77748581534155,
          45.51547351423338,
          49.94816134870422,
          48.23766533728488,
          47.945629432896226,
          47.27811879429353,
          48.508841534217225,
          50.208907691908365,
          45.88051839471922,
          50.34449579037454,
          51.0120064289772,
          51.22060350354053,
          48.79044758487771,
          46.61060815569087,
          50.70954067086038,
          47.799611480701884,
          48.59228036404255,
          45.014840535281365,
          49.40580895483956,
          49.96902105616056,
          52.09671121670655,
          44.847962875630714,
          45.23386746357289,
          46.516739472137374,
          51.62736779893905,
          50.782549646957534,
          46.19341400656421,
          51.73166633622071,
          45.68235117388406,
          51.58564838402637,
          50.64696154849139,
          47.434566600216044,
          46.881784352623214,
          48.06035782390603,
          48.2898146059257,
          45.52590336796155,
          47.46585616140055,
          51.7942454585897,
          49.103343196722705,
          50.532233157481556,
          49.98988076361687,
          51.72123648249254,
          51.05372584388988,
          49.00947451316921,
          51.4500602855602,
          44.95226141291238,
          45.28601673221371,
          51.18931394235605,
          51.877684288415054,
          47.71617265087656,
          50.55309286493787,
          51.700376775036204,
          47.11124113464288,
          50.16718827699572,
          47.90391001798355,
          48.57142065658621,
          48.95732524452839,
          46.91307391380772,
          50.28191666800555,
          46.54802903332188,
          44.79581360698987,
          49.37451939365505,
          50.84512876932655,
          51.5752185302982,
          49.77085383532537,
          50.90770789169554,
          51.59607823775454,
          49.812573250238046,
          48.42540270439187,
          49.29108056382972,
          46.37072151994303,
          51.502209554201045,
          51.42920057810389,
          51.856824580958715,
          44.92097185172787,
          49.656125444315535,
          49.14506261163538,
          46.308142397574045,
          47.2885486480217,
          45.744930296253045,
          48.81130729233405,
          48.43583255812004,
          51.74209618994888,
          46.39158122739937,
          50.62610184103505,
          50.021170324801375,
          46.41244093485571,
          48.20637577610037,
          45.963957224544544,
          50.772119793229365,
          46.69404698551622,
          48.99904465944104,
          48.58185051031438,
          49.80214339650988,
          45.49461380677704,
          51.15802438117154,
          45.71364073506854,
          52.0132723868812,
          51.07458555134622,
          50.41750476647172,
          46.850494791438706,
          46.475020057224725,
          49.95859120243239,
          45.567622782874224,
          52.253159022629035,
          52.065421655522044,
          50.7929795006857,
          44.86882258308705,
          46.464590203496556,
          47.7266025046047,
          48.143796653731386,
          49.60397617567472,
          48.519271387945366,
          51.26232291845321,
          52.32616799872622,
          46.80877537652606,
          45.43203468440805,
          51.80467531231787,
          50.761689939501224,
          45.953527370816374,
          46.120405030467055,
          45.755360149981215,
          49.7604239815972,
          49.91687178751971,
          44.983550974096886,
          50.12546886208304
         ]
        }
       ],
       "layout": {
        "autosize": true,
        "template": {
         "data": {
          "bar": [
           {
            "error_x": {
             "color": "#2a3f5f"
            },
            "error_y": {
             "color": "#2a3f5f"
            },
            "marker": {
             "line": {
              "color": "#E5ECF6",
              "width": 0.5
             },
             "pattern": {
              "fillmode": "overlay",
              "size": 10,
              "solidity": 0.2
             }
            },
            "type": "bar"
           }
          ],
          "barpolar": [
           {
            "marker": {
             "line": {
              "color": "#E5ECF6",
              "width": 0.5
             },
             "pattern": {
              "fillmode": "overlay",
              "size": 10,
              "solidity": 0.2
             }
            },
            "type": "barpolar"
           }
          ],
          "carpet": [
           {
            "aaxis": {
             "endlinecolor": "#2a3f5f",
             "gridcolor": "white",
             "linecolor": "white",
             "minorgridcolor": "white",
             "startlinecolor": "#2a3f5f"
            },
            "baxis": {
             "endlinecolor": "#2a3f5f",
             "gridcolor": "white",
             "linecolor": "white",
             "minorgridcolor": "white",
             "startlinecolor": "#2a3f5f"
            },
            "type": "carpet"
           }
          ],
          "choropleth": [
           {
            "colorbar": {
             "outlinewidth": 0,
             "ticks": ""
            },
            "type": "choropleth"
           }
          ],
          "contour": [
           {
            "colorbar": {
             "outlinewidth": 0,
             "ticks": ""
            },
            "colorscale": [
             [
              0,
              "#0d0887"
             ],
             [
              0.1111111111111111,
              "#46039f"
             ],
             [
              0.2222222222222222,
              "#7201a8"
             ],
             [
              0.3333333333333333,
              "#9c179e"
             ],
             [
              0.4444444444444444,
              "#bd3786"
             ],
             [
              0.5555555555555556,
              "#d8576b"
             ],
             [
              0.6666666666666666,
              "#ed7953"
             ],
             [
              0.7777777777777778,
              "#fb9f3a"
             ],
             [
              0.8888888888888888,
              "#fdca26"
             ],
             [
              1,
              "#f0f921"
             ]
            ],
            "type": "contour"
           }
          ],
          "contourcarpet": [
           {
            "colorbar": {
             "outlinewidth": 0,
             "ticks": ""
            },
            "type": "contourcarpet"
           }
          ],
          "heatmap": [
           {
            "colorbar": {
             "outlinewidth": 0,
             "ticks": ""
            },
            "colorscale": [
             [
              0,
              "#0d0887"
             ],
             [
              0.1111111111111111,
              "#46039f"
             ],
             [
              0.2222222222222222,
              "#7201a8"
             ],
             [
              0.3333333333333333,
              "#9c179e"
             ],
             [
              0.4444444444444444,
              "#bd3786"
             ],
             [
              0.5555555555555556,
              "#d8576b"
             ],
             [
              0.6666666666666666,
              "#ed7953"
             ],
             [
              0.7777777777777778,
              "#fb9f3a"
             ],
             [
              0.8888888888888888,
              "#fdca26"
             ],
             [
              1,
              "#f0f921"
             ]
            ],
            "type": "heatmap"
           }
          ],
          "heatmapgl": [
           {
            "colorbar": {
             "outlinewidth": 0,
             "ticks": ""
            },
            "colorscale": [
             [
              0,
              "#0d0887"
             ],
             [
              0.1111111111111111,
              "#46039f"
             ],
             [
              0.2222222222222222,
              "#7201a8"
             ],
             [
              0.3333333333333333,
              "#9c179e"
             ],
             [
              0.4444444444444444,
              "#bd3786"
             ],
             [
              0.5555555555555556,
              "#d8576b"
             ],
             [
              0.6666666666666666,
              "#ed7953"
             ],
             [
              0.7777777777777778,
              "#fb9f3a"
             ],
             [
              0.8888888888888888,
              "#fdca26"
             ],
             [
              1,
              "#f0f921"
             ]
            ],
            "type": "heatmapgl"
           }
          ],
          "histogram": [
           {
            "marker": {
             "pattern": {
              "fillmode": "overlay",
              "size": 10,
              "solidity": 0.2
             }
            },
            "type": "histogram"
           }
          ],
          "histogram2d": [
           {
            "colorbar": {
             "outlinewidth": 0,
             "ticks": ""
            },
            "colorscale": [
             [
              0,
              "#0d0887"
             ],
             [
              0.1111111111111111,
              "#46039f"
             ],
             [
              0.2222222222222222,
              "#7201a8"
             ],
             [
              0.3333333333333333,
              "#9c179e"
             ],
             [
              0.4444444444444444,
              "#bd3786"
             ],
             [
              0.5555555555555556,
              "#d8576b"
             ],
             [
              0.6666666666666666,
              "#ed7953"
             ],
             [
              0.7777777777777778,
              "#fb9f3a"
             ],
             [
              0.8888888888888888,
              "#fdca26"
             ],
             [
              1,
              "#f0f921"
             ]
            ],
            "type": "histogram2d"
           }
          ],
          "histogram2dcontour": [
           {
            "colorbar": {
             "outlinewidth": 0,
             "ticks": ""
            },
            "colorscale": [
             [
              0,
              "#0d0887"
             ],
             [
              0.1111111111111111,
              "#46039f"
             ],
             [
              0.2222222222222222,
              "#7201a8"
             ],
             [
              0.3333333333333333,
              "#9c179e"
             ],
             [
              0.4444444444444444,
              "#bd3786"
             ],
             [
              0.5555555555555556,
              "#d8576b"
             ],
             [
              0.6666666666666666,
              "#ed7953"
             ],
             [
              0.7777777777777778,
              "#fb9f3a"
             ],
             [
              0.8888888888888888,
              "#fdca26"
             ],
             [
              1,
              "#f0f921"
             ]
            ],
            "type": "histogram2dcontour"
           }
          ],
          "mesh3d": [
           {
            "colorbar": {
             "outlinewidth": 0,
             "ticks": ""
            },
            "type": "mesh3d"
           }
          ],
          "parcoords": [
           {
            "line": {
             "colorbar": {
              "outlinewidth": 0,
              "ticks": ""
             }
            },
            "type": "parcoords"
           }
          ],
          "pie": [
           {
            "automargin": true,
            "type": "pie"
           }
          ],
          "scatter": [
           {
            "fillpattern": {
             "fillmode": "overlay",
             "size": 10,
             "solidity": 0.2
            },
            "type": "scatter"
           }
          ],
          "scatter3d": [
           {
            "line": {
             "colorbar": {
              "outlinewidth": 0,
              "ticks": ""
             }
            },
            "marker": {
             "colorbar": {
              "outlinewidth": 0,
              "ticks": ""
             }
            },
            "type": "scatter3d"
           }
          ],
          "scattercarpet": [
           {
            "marker": {
             "colorbar": {
              "outlinewidth": 0,
              "ticks": ""
             }
            },
            "type": "scattercarpet"
           }
          ],
          "scattergeo": [
           {
            "marker": {
             "colorbar": {
              "outlinewidth": 0,
              "ticks": ""
             }
            },
            "type": "scattergeo"
           }
          ],
          "scattergl": [
           {
            "marker": {
             "colorbar": {
              "outlinewidth": 0,
              "ticks": ""
             }
            },
            "type": "scattergl"
           }
          ],
          "scattermapbox": [
           {
            "marker": {
             "colorbar": {
              "outlinewidth": 0,
              "ticks": ""
             }
            },
            "type": "scattermapbox"
           }
          ],
          "scatterpolar": [
           {
            "marker": {
             "colorbar": {
              "outlinewidth": 0,
              "ticks": ""
             }
            },
            "type": "scatterpolar"
           }
          ],
          "scatterpolargl": [
           {
            "marker": {
             "colorbar": {
              "outlinewidth": 0,
              "ticks": ""
             }
            },
            "type": "scatterpolargl"
           }
          ],
          "scatterternary": [
           {
            "marker": {
             "colorbar": {
              "outlinewidth": 0,
              "ticks": ""
             }
            },
            "type": "scatterternary"
           }
          ],
          "surface": [
           {
            "colorbar": {
             "outlinewidth": 0,
             "ticks": ""
            },
            "colorscale": [
             [
              0,
              "#0d0887"
             ],
             [
              0.1111111111111111,
              "#46039f"
             ],
             [
              0.2222222222222222,
              "#7201a8"
             ],
             [
              0.3333333333333333,
              "#9c179e"
             ],
             [
              0.4444444444444444,
              "#bd3786"
             ],
             [
              0.5555555555555556,
              "#d8576b"
             ],
             [
              0.6666666666666666,
              "#ed7953"
             ],
             [
              0.7777777777777778,
              "#fb9f3a"
             ],
             [
              0.8888888888888888,
              "#fdca26"
             ],
             [
              1,
              "#f0f921"
             ]
            ],
            "type": "surface"
           }
          ],
          "table": [
           {
            "cells": {
             "fill": {
              "color": "#EBF0F8"
             },
             "line": {
              "color": "white"
             }
            },
            "header": {
             "fill": {
              "color": "#C8D4E3"
             },
             "line": {
              "color": "white"
             }
            },
            "type": "table"
           }
          ]
         },
         "layout": {
          "annotationdefaults": {
           "arrowcolor": "#2a3f5f",
           "arrowhead": 0,
           "arrowwidth": 1
          },
          "autotypenumbers": "strict",
          "coloraxis": {
           "colorbar": {
            "outlinewidth": 0,
            "ticks": ""
           }
          },
          "colorscale": {
           "diverging": [
            [
             0,
             "#8e0152"
            ],
            [
             0.1,
             "#c51b7d"
            ],
            [
             0.2,
             "#de77ae"
            ],
            [
             0.3,
             "#f1b6da"
            ],
            [
             0.4,
             "#fde0ef"
            ],
            [
             0.5,
             "#f7f7f7"
            ],
            [
             0.6,
             "#e6f5d0"
            ],
            [
             0.7,
             "#b8e186"
            ],
            [
             0.8,
             "#7fbc41"
            ],
            [
             0.9,
             "#4d9221"
            ],
            [
             1,
             "#276419"
            ]
           ],
           "sequential": [
            [
             0,
             "#0d0887"
            ],
            [
             0.1111111111111111,
             "#46039f"
            ],
            [
             0.2222222222222222,
             "#7201a8"
            ],
            [
             0.3333333333333333,
             "#9c179e"
            ],
            [
             0.4444444444444444,
             "#bd3786"
            ],
            [
             0.5555555555555556,
             "#d8576b"
            ],
            [
             0.6666666666666666,
             "#ed7953"
            ],
            [
             0.7777777777777778,
             "#fb9f3a"
            ],
            [
             0.8888888888888888,
             "#fdca26"
            ],
            [
             1,
             "#f0f921"
            ]
           ],
           "sequentialminus": [
            [
             0,
             "#0d0887"
            ],
            [
             0.1111111111111111,
             "#46039f"
            ],
            [
             0.2222222222222222,
             "#7201a8"
            ],
            [
             0.3333333333333333,
             "#9c179e"
            ],
            [
             0.4444444444444444,
             "#bd3786"
            ],
            [
             0.5555555555555556,
             "#d8576b"
            ],
            [
             0.6666666666666666,
             "#ed7953"
            ],
            [
             0.7777777777777778,
             "#fb9f3a"
            ],
            [
             0.8888888888888888,
             "#fdca26"
            ],
            [
             1,
             "#f0f921"
            ]
           ]
          },
          "colorway": [
           "#636efa",
           "#EF553B",
           "#00cc96",
           "#ab63fa",
           "#FFA15A",
           "#19d3f3",
           "#FF6692",
           "#B6E880",
           "#FF97FF",
           "#FECB52"
          ],
          "font": {
           "color": "#2a3f5f"
          },
          "geo": {
           "bgcolor": "white",
           "lakecolor": "white",
           "landcolor": "#E5ECF6",
           "showlakes": true,
           "showland": true,
           "subunitcolor": "white"
          },
          "hoverlabel": {
           "align": "left"
          },
          "hovermode": "closest",
          "mapbox": {
           "style": "light"
          },
          "paper_bgcolor": "white",
          "plot_bgcolor": "#E5ECF6",
          "polar": {
           "angularaxis": {
            "gridcolor": "white",
            "linecolor": "white",
            "ticks": ""
           },
           "bgcolor": "#E5ECF6",
           "radialaxis": {
            "gridcolor": "white",
            "linecolor": "white",
            "ticks": ""
           }
          },
          "scene": {
           "xaxis": {
            "backgroundcolor": "#E5ECF6",
            "gridcolor": "white",
            "gridwidth": 2,
            "linecolor": "white",
            "showbackground": true,
            "ticks": "",
            "zerolinecolor": "white"
           },
           "yaxis": {
            "backgroundcolor": "#E5ECF6",
            "gridcolor": "white",
            "gridwidth": 2,
            "linecolor": "white",
            "showbackground": true,
            "ticks": "",
            "zerolinecolor": "white"
           },
           "zaxis": {
            "backgroundcolor": "#E5ECF6",
            "gridcolor": "white",
            "gridwidth": 2,
            "linecolor": "white",
            "showbackground": true,
            "ticks": "",
            "zerolinecolor": "white"
           }
          },
          "shapedefaults": {
           "line": {
            "color": "#2a3f5f"
           }
          },
          "ternary": {
           "aaxis": {
            "gridcolor": "white",
            "linecolor": "white",
            "ticks": ""
           },
           "baxis": {
            "gridcolor": "white",
            "linecolor": "white",
            "ticks": ""
           },
           "bgcolor": "#E5ECF6",
           "caxis": {
            "gridcolor": "white",
            "linecolor": "white",
            "ticks": ""
           }
          },
          "title": {
           "x": 0.05
          },
          "xaxis": {
           "automargin": true,
           "gridcolor": "white",
           "linecolor": "white",
           "ticks": "",
           "title": {
            "standoff": 15
           },
           "zerolinecolor": "white",
           "zerolinewidth": 2
          },
          "yaxis": {
           "automargin": true,
           "gridcolor": "white",
           "linecolor": "white",
           "ticks": "",
           "title": {
            "standoff": 15
           },
           "zerolinecolor": "white",
           "zerolinewidth": 2
          }
         }
        },
        "title": {
         "text": "CISCO Stock Prices"
        },
        "xaxis": {
         "autorange": true,
         "range": [
          1649095948.9297783,
          1719640051.0702217
         ],
         "title": {
          "font": {
           "color": "#7f7f7f",
           "family": "Courier New, monospace",
           "size": 18
          },
          "text": "Day"
         },
         "type": "linear"
        },
        "yaxis": {
         "autorange": true,
         "range": [
          38.07310876568544,
          59.34689321795714
         ],
         "title": {
          "font": {
           "color": "#7f7f7f",
           "family": "Courier New, monospace",
           "size": 18
          },
          "text": "Price"
         },
         "type": "linear"
        }
       }
      },
      "image/png": "[encoded data removed]",
      "text/html": [
       "<div>                            <div id=\"55fbcc46-d4bd-4718-89ff-ea2aeb710ff1\" class=\"plotly-graph-div\" style=\"height:525px; width:100%;\"></div>            <script type=\"text/javascript\">                require([\"plotly\"], function(Plotly) {                    window.PLOTLYENV=window.PLOTLYENV || {};                                    if (document.getElementById(\"55fbcc46-d4bd-4718-89ff-ea2aeb710ff1\")) {                    Plotly.newPlot(                        \"55fbcc46-d4bd-4718-89ff-ea2aeb710ff1\",                        [{\"mode\":\"markers\",\"name\":\"Actual\",\"x\":[1661990400.0,1683849600.0,1681948800.0,1701993600.0,1660003200.0,1685923200.0,1660176000.0,1697155200.0,1698192000.0,1658448000.0,1657670400.0,1684454400.0,1664409600.0,1667520000.0,1680048000.0,1678060800.0,1673913600.0,1690416000.0,1688688000.0,1670889600.0,1687219200.0,1660089600.0,1712880000.0,1687305600.0,1707436800.0,1672272000.0,1678233600.0,1659657600.0,1701302400.0,1692230400.0,1659484800.0,1712102400.0,1696377600.0,1682380800.0,1682899200.0,1692835200.0,1709683200.0,1693872000.0,1674518400.0,1686528000.0,1669680000.0,1707177600.0,1654819200.0,1654646400.0,1671408000.0,1696464000.0,1706227200.0,1655164800.0,1685577600.0,1678406400.0,1706832000.0,1702252800.0,1663804800.0,1708905600.0,1702944000.0,1709596800.0,1693353600.0,1666656000.0,1664755200.0,1690243200.0,1708560000.0,1689120000.0,1668038400.0,1654128000.0,1675209600.0,1677628800.0,1707350400.0,1710806400.0,1687996800.0,1696809600.0,1655078400.0,1675987200.0,1706659200.0,1658275200.0,1706745600.0,1700179200.0,1693440000.0,1679875200.0,1690329600.0,1693526400.0,1705449600.0,1674432000.0,1686268800.0,1692576000.0,1696291200.0,1658793600.0,1672185600.0,1661817600.0,1687478400.0,1671494400.0,1666915200.0,1697500800.0,1664323200.0,1712534400.0,1711497600.0,1662940800.0,1673222400.0,1668470400.0,1674086400.0,1686787200.0,1675814400.0,1708992000.0,1689206400.0,1660608000.0,1682035200.0,1680480000.0,1693958400.0,1669766400.0,1695859200.0,1699574400.0,1691366400.0,1665705600.0,1686700800.0,1691712000.0,1698796800.0,1679356800.0,1698624000.0,1704672000.0,1656633600.0,1705536000.0,1701648000.0,1672876800.0,1679443200.0,1683158400.0,1674604800.0,1695254400.0,1657238400.0,1712620800.0,1662422400.0,1714003200.0,1678924800.0,1709769600.0,1701734400.0,1668384000.0,1688083200.0,1707264000.0,1698710400.0,1662076800.0,1701820800.0,1655424000.0,1667865600.0,1698969600.0,1668729600.0,1692057600.0,1673395200.0,1694995200.0,1669852800.0,1698019200.0,1663545600.0,1676592000.0,1715558400.0,1685059200.0,1708646400.0,1684108800.0,1685404800.0,1691539200.0,1714348800.0,1675900800.0,1705363200.0,1709856000.0,1689638400.0,1713484800.0,1663718400.0,1694736000.0,1672963200.0,1675296000.0,1666569600.0,1683504000.0,1674691200.0,1667347200.0,1657584000.0,1657756800.0,1657497600.0,1653004800.0,1692662400.0,1712275200.0,1665619200.0,1671667200.0,1703721600.0,1700524800.0,1715731200.0,1715126400.0,1711065600.0,1656288000.0,1706572800.0,1703808000.0,1689724800.0,1714521600.0,1713916800.0,1680739200.0,1679270400.0,1701129600.0,1713830400.0,1703116800.0,1700784000.0,1655856000.0,1658361600.0,1653609600.0,1694563200.0,1664150400.0,1659398400.0,1663113600.0,1685491200.0,1692316800.0,1677456000.0,1671062400.0,1659916800.0,1682294400.0,1661299200.0,1711324800.0,1656374400.0,1671753600.0,1676332800.0,1699315200.0,1668124800.0,1665014400.0,1677024000.0,1705968000.0,1663632000.0,1670976000.0,1695081600.0,1699920000.0,1715212800.0,1686873600.0,1691625600.0,1671148800.0,1660694400.0,1677715200.0,1661472000.0,1663027200.0,1669075200.0,1690761600.0,1661385600.0,1715817600.0,1668556800.0,1704240000.0,1674000000.0,1689811200.0,1665100800.0,1690934400.0,1680566400.0,1713312000.0,1691971200.0,1696550400.0,1699833600.0,1715040000.0,1714089600.0,1675728000.0,1688342400.0,1684800000.0,1659571200.0,1704844800.0,1713225600.0,1670803200.0,1676246400.0,1700006400.0,1662681600.0,1663286400.0,1714435200.0,1680220800.0,1691452800.0,1713744000.0,1656460800.0,1712188800.0,1678147200.0,1697673600.0,1664841600.0,1684886400.0,1682553600.0,1655942400.0,1655769600.0,1671580800.0,1689033600.0,1700092800.0,1669334400.0,1658880000.0,1695600000.0,1681430400.0,1679011200.0,1673481600.0,1683676800.0,1697760000.0,1661904000.0,1698883200.0,1704412800.0,1706140800.0,1686009600.0,1667952000.0,1701907200.0,1677801600.0,1684368000.0,1654732800.0,1691107200.0,1695772800.0,1713398400.0,1653350400.0,1656547200.0,1667174400.0,1709510400.0,1702512000.0,1664496000.0,1710374400.0,1660262400.0,1709164800.0,1701388800.0,1674777600.0,1670198400.0,1679961600.0,1681862400.0,1658966400.0,1675036800.0,1710892800.0,1688601600.0,1700438400.0,1695945600.0,1710288000.0,1704758400.0,1687824000.0,1708041600.0,1654214400.0,1656979200.0,1705881600.0,1711584000.0,1677110400.0,1700611200.0,1710115200.0,1672099200.0,1697414400.0,1678665600.0,1684195200.0,1687392000.0,1670457600.0,1698364800.0,1667433600.0,1652918400.0,1690848000.0,1703030400.0,1709078400.0,1694131200.0,1703548800.0,1709251200.0,1694476800.0,1682985600.0,1690156800.0,1665964800.0,1708473600.0,1707868800.0,1711411200.0,1653955200.0,1693180800.0,1688947200.0,1665446400.0,1673568000.0,1660780800.0,1686182400.0,1683072000.0,1710460800.0,1666137600.0,1701216000.0,1696204800.0,1666310400.0,1681171200.0,1662595200.0,1702425600.0,1668643200.0,1687737600.0,1684281600.0,1694390400.0,1658707200.0,1705622400.0,1660521600.0,1712707200.0,1704931200.0,1699488000.0,1669939200.0,1666828800.0,1695686400.0,1659312000.0,1714694400.0,1713139200.0,1702598400.0,1653523200.0,1666742400.0,1677196800.0,1680652800.0,1692748800.0,1683763200.0,1706486400.0,1715299200.0,1669593600.0,1658188800.0,1710979200.0,1702339200.0,1662508800.0,1663891200.0,1660867200.0,1694044800.0,1695340800.0,1654473600.0,1697068800.0],\"y\":[45.290000915527344,46.709999084472656,46.58000183105469,48.380001068115234,44.91999816894531,50.209999084472656,45.900001525878906,53.77000045776367,52.400001525878906,44.459999084472656,42.70000076293945,49.130001068115234,40.56999969482422,44.52000045776367,51.16999816894531,49.41999816894531,48.08000183105469,53.0,50.9900016784668,49.63999938964844,51.54999923706055,46.02000045776367,48.4900016784668,50.849998474121094,50.130001068115234,47.5,49.11000061035156,45.0099983215332,48.380001068115234,54.72999954223633,45.709999084472656,48.7400016784668,53.45000076293945,47.09000015258789,47.34000015258789,55.2400016784668,49.16999816894531,57.2599983215332,47.810001373291016,50.47999954223633,48.279998779296875,49.97999954223633,43.4900016784668,44.91999816894531,47.400001525878906,53.06999969482422,52.13999938964844,42.90999984741211,49.7400016784668,48.560001373291016,50.18000030517578,49.38999938964844,41.150001525878906,48.400001525878906,50.18000030517578,48.95000076293945,56.810001373291016,44.36000061035156,41.290000915527344,53.599998474121094,48.56999969482422,50.7400016784668,45.65999984741211,45.790000915527344,48.56999969482422,48.34000015258789,49.95000076293945,49.13999938964844,51.209999084472656,53.91999816894531,43.2400016784668,47.2599983215332,50.18000030517578,44.130001068115234,50.18000030517578,47.7599983215332,57.349998474121094,50.540000915527344,53.220001220703125,57.84000015258789,50.29999923706055,47.5,49.65999984741211,55.439998626708984,53.650001525878906,43.83000183105469,47.06999969482422,45.2400016784668,50.33000183105469,47.369998931884766,45.63999938964844,53.939998626708984,41.34000015258789,48.2400016784668,49.77000045776367,46.400001525878906,48.58000183105469,44.900001525878906,46.459999084472656,51.93000030517578,46.959999084472656,48.310001373291016,51.529998779296875,46.77000045776367,47.029998779296875,52.310001373291016,57.15999984741211,49.720001220703125,53.880001068115234,52.59000015258789,53.0099983215332,40.20000076293945,50.959999084472656,53.790000915527344,52.189998626708984,50.66999816894531,51.56999969482422,50.459999084472656,42.599998474121094,50.75,48.04999923706055,46.880001068115234,49.459999084472656,45.70000076293945,47.97999954223633,53.34000015258789,43.38999938964844,50.0099983215332,44.470001220703125,48.099998474121094,50.119998931884766,48.900001525878906,47.93000030517578,44.7400016784668,51.7400016784668,49.77000045776367,52.130001068115234,44.59000015258789,47.70000076293945,43.38999938964844,44.61000061035156,53.0099983215332,47.790000915527344,53.349998474121094,49.209999084472656,56.11000061035156,49.970001220703125,52.20000076293945,43.29999923706055,50.77000045776367,48.68000030517578,49.86000061035156,48.86000061035156,47.099998474121094,50.16999816894531,52.9900016784668,47.779998779296875,46.72999954223633,50.59000015258789,49.5,51.2400016784668,48.31999969482422,41.59000015258789,56.040000915527344,48.31999969482422,49.31999969482422,43.540000915527344,46.34000015258789,48.34000015258789,44.56999969482422,42.86000061035156,42.33000183105469,43.25,42.939998626708984,55.459999084472656,48.54999923706055,40.61000061035156,47.31999969482422,50.47999954223633,47.79999923706055,49.66999816894531,48.0,49.779998779296875,43.77000045776367,52.2400016784668,50.52000045776367,52.43000030517578,46.84000015258789,48.349998474121094,51.27000045776367,50.939998626708984,47.849998474121094,48.31999969482422,49.70000076293945,48.36000061035156,43.56999969482422,44.58000183105469,45.619998931884766,56.279998779296875,40.58000183105469,44.91999816894531,43.959999084472656,49.66999816894531,55.040000915527344,48.72999954223633,48.150001525878906,45.02000045776367,47.38999938964844,47.06999969482422,49.68000030517578,43.060001373291016,47.47999954223633,47.70000076293945,53.130001068115234,44.790000915527344,41.52000045776367,49.310001373291016,51.7599983215332,42.58000183105469,49.29999923706055,55.84000015258789,53.16999816894531,47.790000915527344,52.06999969482422,53.369998931884766,47.810001373291016,46.65999984741211,48.529998779296875,45.88999938964844,44.11000061035156,48.380001068115234,52.040000915527344,47.27000045776367,48.34000015258789,44.38999938964844,50.5099983215332,46.900001525878906,52.369998931884766,40.27000045776367,52.58000183105469,51.81999969482422,47.790000915527344,53.880001068115234,53.45000076293945,52.22999954223633,47.279998779296875,47.86000061035156,47.84000015258789,51.81999969482422,48.90999984741211,45.380001068115234,50.2400016784668,47.91999816894531,49.29999923706055,47.86000061035156,53.279998779296875,45.77000045776367,43.29999923706055,46.97999954223633,52.279998779296875,53.060001373291016,48.13999938964844,42.880001068115234,48.11000061035156,48.90999984741211,53.31999969482422,41.81999969482422,48.40999984741211,46.560001373291016,42.93000030517578,44.13999938964844,47.65999984741211,52.119998931884766,48.040000915527344,48.400001525878906,44.63999938964844,53.47999954223633,50.540000915527344,50.189998626708984,49.0,46.709999084472656,52.93000030517578,44.720001220703125,52.75,50.09000015258789,52.33000183105469,49.810001373291016,43.90999984741211,48.2599983215332,49.279998779296875,48.20000076293945,44.2599983215332,52.630001068115234,53.20000076293945,48.11000061035156,43.77000045776367,42.63999938964844,45.43000030517578,49.130001068115234,49.439998626708984,40.0,49.790000915527344,46.61000061035156,48.369998931884766,48.470001220703125,48.5099983215332,49.33000183105469,50.38999938964844,48.040000915527344,45.619998931884766,48.220001220703125,49.54999923706055,51.11000061035156,48.27000045776367,53.7599983215332,50.11000061035156,49.90999984741211,50.86000061035156,48.439998626708984,45.25,41.959999084472656,51.56999969482422,49.90999984741211,49.209999084472656,48.08000183105469,50.220001220703125,47.529998779296875,54.15999984741211,48.40999984741211,46.91999816894531,51.119998931884766,48.9900016784668,51.560001373291016,43.849998474121094,41.720001220703125,52.65999984741211,49.79999923706055,48.060001373291016,56.66999816894531,50.279998779296875,48.400001525878906,56.38999938964844,46.36000061035156,53.11000061035156,41.29999923706055,48.47999954223633,50.279998779296875,49.54999923706055,45.04999923706055,56.20000076293945,51.400001525878906,39.58000183105469,48.880001068115234,49.369998931884766,49.68000030517578,45.959999084472656,48.93000030517578,41.880001068115234,48.04999923706055,54.38999938964844,42.79999923706055,50.619998931884766,45.369998931884766,49.689998626708984,46.59000015258789,50.209999084472656,47.630001068115234,56.84000015258789,44.34000015258789,51.27000045776367,46.59000015258789,49.209999084472656,50.439998626708984,52.0,49.70000076293945,44.41999816894531,52.709999084472656,45.279998779296875,47.119998931884766,48.2400016784668,49.869998931884766,44.9900016784668,44.380001068115234,48.47999954223633,51.81999969482422,55.97999954223633,46.369998931884766,52.290000915527344,48.060001373291016,48.08000183105469,44.029998779296875,49.880001068115234,49.33000183105469,45.02000045776367,40.65999984741211,48.70000076293945,56.790000915527344,53.56999969482422,45.33000183105469,53.849998474121094],\"type\":\"scatter\"},{\"mode\":\"lines\",\"name\":\"Predicted\",\"x\":[1661990400.0,1683849600.0,1681948800.0,1701993600.0,1660003200.0,1685923200.0,1660176000.0,1697155200.0,1698192000.0,1658448000.0,1657670400.0,1684454400.0,1664409600.0,1667520000.0,1680048000.0,1678060800.0,1673913600.0,1690416000.0,1688688000.0,1670889600.0,1687219200.0,1660089600.0,1712880000.0,1687305600.0,1707436800.0,1672272000.0,1678233600.0,1659657600.0,1701302400.0,1692230400.0,1659484800.0,1712102400.0,1696377600.0,1682380800.0,1682899200.0,1692835200.0,1709683200.0,1693872000.0,1674518400.0,1686528000.0,1669680000.0,1707177600.0,1654819200.0,1654646400.0,1671408000.0,1696464000.0,1706227200.0,1655164800.0,1685577600.0,1678406400.0,1706832000.0,1702252800.0,1663804800.0,1708905600.0,1702944000.0,1709596800.0,1693353600.0,1666656000.0,1664755200.0,1690243200.0,1708560000.0,1689120000.0,1668038400.0,1654128000.0,1675209600.0,1677628800.0,1707350400.0,1710806400.0,1687996800.0,1696809600.0,1655078400.0,1675987200.0,1706659200.0,1658275200.0,1706745600.0,1700179200.0,1693440000.0,1679875200.0,1690329600.0,1693526400.0,1705449600.0,1674432000.0,1686268800.0,1692576000.0,1696291200.0,1658793600.0,1672185600.0,1661817600.0,1687478400.0,1671494400.0,1666915200.0,1697500800.0,1664323200.0,1712534400.0,1711497600.0,1662940800.0,1673222400.0,1668470400.0,1674086400.0,1686787200.0,1675814400.0,1708992000.0,1689206400.0,1660608000.0,1682035200.0,1680480000.0,1693958400.0,1669766400.0,1695859200.0,1699574400.0,1691366400.0,1665705600.0,1686700800.0,1691712000.0,1698796800.0,1679356800.0,1698624000.0,1704672000.0,1656633600.0,1705536000.0,1701648000.0,1672876800.0,1679443200.0,1683158400.0,1674604800.0,1695254400.0,1657238400.0,1712620800.0,1662422400.0,1714003200.0,1678924800.0,1709769600.0,1701734400.0,1668384000.0,1688083200.0,1707264000.0,1698710400.0,1662076800.0,1701820800.0,1655424000.0,1667865600.0,1698969600.0,1668729600.0,1692057600.0,1673395200.0,1694995200.0,1669852800.0,1698019200.0,1663545600.0,1676592000.0,1715558400.0,1685059200.0,1708646400.0,1684108800.0,1685404800.0,1691539200.0,1714348800.0,1675900800.0,1705363200.0,1709856000.0,1689638400.0,1713484800.0,1663718400.0,1694736000.0,1672963200.0,1675296000.0,1666569600.0,1683504000.0,1674691200.0,1667347200.0,1657584000.0,1657756800.0,1657497600.0,1653004800.0,1692662400.0,1712275200.0,1665619200.0,1671667200.0,1703721600.0,1700524800.0,1715731200.0,1715126400.0,1711065600.0,1656288000.0,1706572800.0,1703808000.0,1689724800.0,1714521600.0,1713916800.0,1680739200.0,1679270400.0,1701129600.0,1713830400.0,1703116800.0,1700784000.0,1655856000.0,1658361600.0,1653609600.0,1694563200.0,1664150400.0,1659398400.0,1663113600.0,1685491200.0,1692316800.0,1677456000.0,1671062400.0,1659916800.0,1682294400.0,1661299200.0,1711324800.0,1656374400.0,1671753600.0,1676332800.0,1699315200.0,1668124800.0,1665014400.0,1677024000.0,1705968000.0,1663632000.0,1670976000.0,1695081600.0,1699920000.0,1715212800.0,1686873600.0,1691625600.0,1671148800.0,1660694400.0,1677715200.0,1661472000.0,1663027200.0,1669075200.0,1690761600.0,1661385600.0,1715817600.0,1668556800.0,1704240000.0,1674000000.0,1689811200.0,1665100800.0,1690934400.0,1680566400.0,1713312000.0,1691971200.0,1696550400.0,1699833600.0,1715040000.0,1714089600.0,1675728000.0,1688342400.0,1684800000.0,1659571200.0,1704844800.0,1713225600.0,1670803200.0,1676246400.0,1700006400.0,1662681600.0,1663286400.0,1714435200.0,1680220800.0,1691452800.0,1713744000.0,1656460800.0,1712188800.0,1678147200.0,1697673600.0,1664841600.0,1684886400.0,1682553600.0,1655942400.0,1655769600.0,1671580800.0,1689033600.0,1700092800.0,1669334400.0,1658880000.0,1695600000.0,1681430400.0,1679011200.0,1673481600.0,1683676800.0,1697760000.0,1661904000.0,1698883200.0,1704412800.0,1706140800.0,1686009600.0,1667952000.0,1701907200.0,1677801600.0,1684368000.0,1654732800.0,1691107200.0,1695772800.0,1713398400.0,1653350400.0,1656547200.0,1667174400.0,1709510400.0,1702512000.0,1664496000.0,1710374400.0,1660262400.0,1709164800.0,1701388800.0,1674777600.0,1670198400.0,1679961600.0,1681862400.0,1658966400.0,1675036800.0,1710892800.0,1688601600.0,1700438400.0,1695945600.0,1710288000.0,1704758400.0,1687824000.0,1708041600.0,1654214400.0,1656979200.0,1705881600.0,1711584000.0,1677110400.0,1700611200.0,1710115200.0,1672099200.0,1697414400.0,1678665600.0,1684195200.0,1687392000.0,1670457600.0,1698364800.0,1667433600.0,1652918400.0,1690848000.0,1703030400.0,1709078400.0,1694131200.0,1703548800.0,1709251200.0,1694476800.0,1682985600.0,1690156800.0,1665964800.0,1708473600.0,1707868800.0,1711411200.0,1653955200.0,1693180800.0,1688947200.0,1665446400.0,1673568000.0,1660780800.0,1686182400.0,1683072000.0,1710460800.0,1666137600.0,1701216000.0,1696204800.0,1666310400.0,1681171200.0,1662595200.0,1702425600.0,1668643200.0,1687737600.0,1684281600.0,1694390400.0,1658707200.0,1705622400.0,1660521600.0,1712707200.0,1704931200.0,1699488000.0,1669939200.0,1666828800.0,1695686400.0,1659312000.0,1714694400.0,1713139200.0,1702598400.0,1653523200.0,1666742400.0,1677196800.0,1680652800.0,1692748800.0,1683763200.0,1706486400.0,1715299200.0,1669593600.0,1658188800.0,1710979200.0,1702339200.0,1662508800.0,1663891200.0,1660867200.0,1694044800.0,1695340800.0,1654473600.0,1697068800.0],\"y\":[45.89094824844739,48.529701241673536,48.30024445965387,50.71997052458855,45.65106161269955,48.78001773114954,45.67192132015589,50.13589871581121,50.26105696054921,45.46332424559253,45.369455562039036,48.60271021777072,46.18298415283604,46.55845888705005,48.0707876776342,47.83090104188639,47.33026806293438,49.3223701250142,49.113773050450874,46.96522318244854,48.93646553707205,45.66149146642772,52.03413209433754,48.94689539080022,51.37705130946304,47.13210084209922,47.8517607493427,45.60934219778687,50.63653169476322,49.5413970533057,45.588482490330534,51.94026341078404,50.04203003225771,48.352393728294714,48.4149728506637,49.614406029402886,51.648227506395386,49.73956427414089,47.403277039031536,48.8530267072467,46.8192052302542,51.345761748278534,45.025270389009535,45.004410681553225,47.027802304817556,50.05245988598588,51.2310333572687,45.06698980392221,48.738298316236865,47.87262045679904,51.304042333365885,50.751260085773055,46.109975176738885,51.55435882284189,50.83469891559838,51.63779765266722,49.67698515177187,46.45416034976839,46.22470356774872,49.301510417557864,51.512639407929214,49.16592231909172,46.62103800941904,44.94183155918421,47.48671586885689,47.778751773245546,51.36662145573487,51.78381560486156,49.03033422062555,50.09417930089853,45.05655995019404,47.580584552410386,51.28318262590955,45.44246453813622,51.293612479637716,50.50094359629705,49.68741500550004,48.04992797017789,49.31194027128603,49.69784485922821,51.137164673715205,47.39284718530337,48.82173714606222,49.58311646821838,50.031600178529544,45.50504366050521,47.12167098837105,45.87008854099105,48.96775509825653,47.038232158545725,46.485449910952866,50.177618130723886,46.17255429910787,51.99241267942489,51.867254434686885,46.00567663945722,47.246829233109054,46.673187278059885,47.35112777039072,48.884316268431206,47.55972484495405,51.56478867657003,49.17635217281989,45.72407058879671,48.31067431338204,48.12293694627505,49.74999412786906,46.82963508398237,49.9794509098887,50.42793462019989,49.43709851602404,46.33943195875855,48.87388641470304,49.478817930936714,50.33406593664637,47.987348847808875,50.31320622919006,51.04329599016171,45.24429731730103,51.147594527443374,50.67825110967587,47.20510981819638,47.997778701537044,48.44626241184821,47.413706892759706,49.90644193379154,45.31730629339822,52.00284253315306,45.943097517088205,52.16972019280371,47.93519957916806,51.658657360123556,50.68868096340404,46.662757424331716,49.04076407435372,51.3561916020067,50.3236360829182,45.901378102175556,50.69911081713221,45.09827936510672,46.6001783019627,50.35492564410271,46.70447683924439,49.52053734584939,47.26768894056539,49.87515237260703,46.84006493771054,50.24019725309287,46.07868561555438,47.65359352850754,52.3574575599107,48.67571919386788,51.52306926165738,48.56099080285804,48.717438608780554,49.457958223480375,52.211439607716386,47.57015469868222,51.126734819987036,51.669087213851725,49.22850144146071,52.10714107043472,46.099545323010716,49.843862811422554,47.215539671924546,47.49714572258503,46.44373049604022,48.48798182676089,47.424136746487875,46.53759917959371,45.35902570831087,45.379885415767205,45.348595854582726,44.806243460718036,49.59354632194655,51.96112311824038,46.32900210503038,47.059091866002035,50.928567599151876,50.542663011209726,52.37831726736704,52.30530829126988,51.81510516604604,45.202577902388384,51.27275277218138,50.938997452880045,49.23893129518888,52.232299315172725,52.15929033907554,48.154226507459555,47.976918994080705,50.61567198730688,52.14886048534737,50.85555862305472,50.573952572394205,45.15042863374754,45.45289439186439,44.87925243681522,49.823003103966215,46.151694591651534,45.578052636602365,46.02653634691356,48.727868462508724,49.55182690703387,47.75789206578921,46.98608288990488,45.64063175897138,48.341963874566545,45.80750941862203,51.846394727230546,45.21300775611655,47.069521719730204,47.622303967323035,50.396645059015384,46.63146786314721,46.2559931289332,47.70574279714839,51.19974379608422,46.08911546928255,46.97565303617671,49.8855822263352,50.46965403511254,52.31573814499805,48.894746122159376,49.468388077208544,46.99651274363305,45.734500442524876,47.789181626973715,45.82836912607837,46.01610649318539,46.74619625415704,49.36408953992688,45.8179392723502,52.38874712109521,46.683617131788054,50.99114672152089,47.34069791666255,49.249361148917046,46.26642298266137,49.38494924738322,48.133366800003216,52.08628136297838,49.51010749212122,50.06288973971405,50.45922418138437,52.29487843754171,52.18015004653188,47.54929499122588,49.072053635538225,48.64442963268337,45.598912344058704,51.06415569761805,52.075851509250214,46.95479332872037,47.611874113594865,50.48008388884071,45.97438707827271,46.04739605436987,52.221869461444555,48.09164738509054,49.447528369752206,52.1384306316192,45.22343760984472,51.95069326451221,47.84133089561453,50.198477838180224,46.23513342147689,48.65485948641154,48.37325343575105,45.16085848747571,45.13999878001937,47.048662012273866,49.15549246536355,50.49051374256888,46.77748581534155,45.51547351423338,49.94816134870422,48.23766533728488,47.945629432896226,47.27811879429353,48.508841534217225,50.208907691908365,45.88051839471922,50.34449579037454,51.0120064289772,51.22060350354053,48.79044758487771,46.61060815569087,50.70954067086038,47.799611480701884,48.59228036404255,45.014840535281365,49.40580895483956,49.96902105616056,52.09671121670655,44.847962875630714,45.23386746357289,46.516739472137374,51.62736779893905,50.782549646957534,46.19341400656421,51.73166633622071,45.68235117388406,51.58564838402637,50.64696154849139,47.434566600216044,46.881784352623214,48.06035782390603,48.2898146059257,45.52590336796155,47.46585616140055,51.7942454585897,49.103343196722705,50.532233157481556,49.98988076361687,51.72123648249254,51.05372584388988,49.00947451316921,51.4500602855602,44.95226141291238,45.28601673221371,51.18931394235605,51.877684288415054,47.71617265087656,50.55309286493787,51.700376775036204,47.11124113464288,50.16718827699572,47.90391001798355,48.57142065658621,48.95732524452839,46.91307391380772,50.28191666800555,46.54802903332188,44.79581360698987,49.37451939365505,50.84512876932655,51.5752185302982,49.77085383532537,50.90770789169554,51.59607823775454,49.812573250238046,48.42540270439187,49.29108056382972,46.37072151994303,51.502209554201045,51.42920057810389,51.856824580958715,44.92097185172787,49.656125444315535,49.14506261163538,46.308142397574045,47.2885486480217,45.744930296253045,48.81130729233405,48.43583255812004,51.74209618994888,46.39158122739937,50.62610184103505,50.021170324801375,46.41244093485571,48.20637577610037,45.963957224544544,50.772119793229365,46.69404698551622,48.99904465944104,48.58185051031438,49.80214339650988,45.49461380677704,51.15802438117154,45.71364073506854,52.0132723868812,51.07458555134622,50.41750476647172,46.850494791438706,46.475020057224725,49.95859120243239,45.567622782874224,52.253159022629035,52.065421655522044,50.7929795006857,44.86882258308705,46.464590203496556,47.7266025046047,48.143796653731386,49.60397617567472,48.519271387945366,51.26232291845321,52.32616799872622,46.80877537652606,45.43203468440805,51.80467531231787,50.761689939501224,45.953527370816374,46.120405030467055,45.755360149981215,49.7604239815972,49.91687178751971,44.983550974096886,50.12546886208304],\"type\":\"scatter\"}],                        {\"template\":{\"data\":{\"barpolar\":[{\"marker\":{\"line\":{\"color\":\"#E5ECF6\",\"width\":0.5},\"pattern\":{\"fillmode\":\"overlay\",\"size\":10,\"solidity\":0.2}},\"type\":\"barpolar\"}],\"bar\":[{\"error_x\":{\"color\":\"#2a3f5f\"},\"error_y\":{\"color\":\"#2a3f5f\"},\"marker\":{\"line\":{\"color\":\"#E5ECF6\",\"width\":0.5},\"pattern\":{\"fillmode\":\"overlay\",\"size\":10,\"solidity\":0.2}},\"type\":\"bar\"}],\"carpet\":[{\"aaxis\":{\"endlinecolor\":\"#2a3f5f\",\"gridcolor\":\"white\",\"linecolor\":\"white\",\"minorgridcolor\":\"white\",\"startlinecolor\":\"#2a3f5f\"},\"baxis\":{\"endlinecolor\":\"#2a3f5f\",\"gridcolor\":\"white\",\"linecolor\":\"white\",\"minorgridcolor\":\"white\",\"startlinecolor\":\"#2a3f5f\"},\"type\":\"carpet\"}],\"choropleth\":[{\"colorbar\":{\"outlinewidth\":0,\"ticks\":\"\"},\"type\":\"choropleth\"}],\"contourcarpet\":[{\"colorbar\":{\"outlinewidth\":0,\"ticks\":\"\"},\"type\":\"contourcarpet\"}],\"contour\":[{\"colorbar\":{\"outlinewidth\":0,\"ticks\":\"\"},\"colorscale\":[[0.0,\"#0d0887\"],[0.1111111111111111,\"#46039f\"],[0.2222222222222222,\"#7201a8\"],[0.3333333333333333,\"#9c179e\"],[0.4444444444444444,\"#bd3786\"],[0.5555555555555556,\"#d8576b\"],[0.6666666666666666,\"#ed7953\"],[0.7777777777777778,\"#fb9f3a\"],[0.8888888888888888,\"#fdca26\"],[1.0,\"#f0f921\"]],\"type\":\"contour\"}],\"heatmapgl\":[{\"colorbar\":{\"outlinewidth\":0,\"ticks\":\"\"},\"colorscale\":[[0.0,\"#0d0887\"],[0.1111111111111111,\"#46039f\"],[0.2222222222222222,\"#7201a8\"],[0.3333333333333333,\"#9c179e\"],[0.4444444444444444,\"#bd3786\"],[0.5555555555555556,\"#d8576b\"],[0.6666666666666666,\"#ed7953\"],[0.7777777777777778,\"#fb9f3a\"],[0.8888888888888888,\"#fdca26\"],[1.0,\"#f0f921\"]],\"type\":\"heatmapgl\"}],\"heatmap\":[{\"colorbar\":{\"outlinewidth\":0,\"ticks\":\"\"},\"colorscale\":[[0.0,\"#0d0887\"],[0.1111111111111111,\"#46039f\"],[0.2222222222222222,\"#7201a8\"],[0.3333333333333333,\"#9c179e\"],[0.4444444444444444,\"#bd3786\"],[0.5555555555555556,\"#d8576b\"],[0.6666666666666666,\"#ed7953\"],[0.7777777777777778,\"#fb9f3a\"],[0.8888888888888888,\"#fdca26\"],[1.0,\"#f0f921\"]],\"type\":\"heatmap\"}],\"histogram2dcontour\":[{\"colorbar\":{\"outlinewidth\":0,\"ticks\":\"\"},\"colorscale\":[[0.0,\"#0d0887\"],[0.1111111111111111,\"#46039f\"],[0.2222222222222222,\"#7201a8\"],[0.3333333333333333,\"#9c179e\"],[0.4444444444444444,\"#bd3786\"],[0.5555555555555556,\"#d8576b\"],[0.6666666666666666,\"#ed7953\"],[0.7777777777777778,\"#fb9f3a\"],[0.8888888888888888,\"#fdca26\"],[1.0,\"#f0f921\"]],\"type\":\"histogram2dcontour\"}],\"histogram2d\":[{\"colorbar\":{\"outlinewidth\":0,\"ticks\":\"\"},\"colorscale\":[[0.0,\"#0d0887\"],[0.1111111111111111,\"#46039f\"],[0.2222222222222222,\"#7201a8\"],[0.3333333333333333,\"#9c179e\"],[0.4444444444444444,\"#bd3786\"],[0.5555555555555556,\"#d8576b\"],[0.6666666666666666,\"#ed7953\"],[0.7777777777777778,\"#fb9f3a\"],[0.8888888888888888,\"#fdca26\"],[1.0,\"#f0f921\"]],\"type\":\"histogram2d\"}],\"histogram\":[{\"marker\":{\"pattern\":{\"fillmode\":\"overlay\",\"size\":10,\"solidity\":0.2}},\"type\":\"histogram\"}],\"mesh3d\":[{\"colorbar\":{\"outlinewidth\":0,\"ticks\":\"\"},\"type\":\"mesh3d\"}],\"parcoords\":[{\"line\":{\"colorbar\":{\"outlinewidth\":0,\"ticks\":\"\"}},\"type\":\"parcoords\"}],\"pie\":[{\"automargin\":true,\"type\":\"pie\"}],\"scatter3d\":[{\"line\":{\"colorbar\":{\"outlinewidth\":0,\"ticks\":\"\"}},\"marker\":{\"colorbar\":{\"outlinewidth\":0,\"ticks\":\"\"}},\"type\":\"scatter3d\"}],\"scattercarpet\":[{\"marker\":{\"colorbar\":{\"outlinewidth\":0,\"ticks\":\"\"}},\"type\":\"scattercarpet\"}],\"scattergeo\":[{\"marker\":{\"colorbar\":{\"outlinewidth\":0,\"ticks\":\"\"}},\"type\":\"scattergeo\"}],\"scattergl\":[{\"marker\":{\"colorbar\":{\"outlinewidth\":0,\"ticks\":\"\"}},\"type\":\"scattergl\"}],\"scattermapbox\":[{\"marker\":{\"colorbar\":{\"outlinewidth\":0,\"ticks\":\"\"}},\"type\":\"scattermapbox\"}],\"scatterpolargl\":[{\"marker\":{\"colorbar\":{\"outlinewidth\":0,\"ticks\":\"\"}},\"type\":\"scatterpolargl\"}],\"scatterpolar\":[{\"marker\":{\"colorbar\":{\"outlinewidth\":0,\"ticks\":\"\"}},\"type\":\"scatterpolar\"}],\"scatter\":[{\"fillpattern\":{\"fillmode\":\"overlay\",\"size\":10,\"solidity\":0.2},\"type\":\"scatter\"}],\"scatterternary\":[{\"marker\":{\"colorbar\":{\"outlinewidth\":0,\"ticks\":\"\"}},\"type\":\"scatterternary\"}],\"surface\":[{\"colorbar\":{\"outlinewidth\":0,\"ticks\":\"\"},\"colorscale\":[[0.0,\"#0d0887\"],[0.1111111111111111,\"#46039f\"],[0.2222222222222222,\"#7201a8\"],[0.3333333333333333,\"#9c179e\"],[0.4444444444444444,\"#bd3786\"],[0.5555555555555556,\"#d8576b\"],[0.6666666666666666,\"#ed7953\"],[0.7777777777777778,\"#fb9f3a\"],[0.8888888888888888,\"#fdca26\"],[1.0,\"#f0f921\"]],\"type\":\"surface\"}],\"table\":[{\"cells\":{\"fill\":{\"color\":\"#EBF0F8\"},\"line\":{\"color\":\"white\"}},\"header\":{\"fill\":{\"color\":\"#C8D4E3\"},\"line\":{\"color\":\"white\"}},\"type\":\"table\"}]},\"layout\":{\"annotationdefaults\":{\"arrowcolor\":\"#2a3f5f\",\"arrowhead\":0,\"arrowwidth\":1},\"autotypenumbers\":\"strict\",\"coloraxis\":{\"colorbar\":{\"outlinewidth\":0,\"ticks\":\"\"}},\"colorscale\":{\"diverging\":[[0,\"#8e0152\"],[0.1,\"#c51b7d\"],[0.2,\"#de77ae\"],[0.3,\"#f1b6da\"],[0.4,\"#fde0ef\"],[0.5,\"#f7f7f7\"],[0.6,\"#e6f5d0\"],[0.7,\"#b8e186\"],[0.8,\"#7fbc41\"],[0.9,\"#4d9221\"],[1,\"#276419\"]],\"sequential\":[[0.0,\"#0d0887\"],[0.1111111111111111,\"#46039f\"],[0.2222222222222222,\"#7201a8\"],[0.3333333333333333,\"#9c179e\"],[0.4444444444444444,\"#bd3786\"],[0.5555555555555556,\"#d8576b\"],[0.6666666666666666,\"#ed7953\"],[0.7777777777777778,\"#fb9f3a\"],[0.8888888888888888,\"#fdca26\"],[1.0,\"#f0f921\"]],\"sequentialminus\":[[0.0,\"#0d0887\"],[0.1111111111111111,\"#46039f\"],[0.2222222222222222,\"#7201a8\"],[0.3333333333333333,\"#9c179e\"],[0.4444444444444444,\"#bd3786\"],[0.5555555555555556,\"#d8576b\"],[0.6666666666666666,\"#ed7953\"],[0.7777777777777778,\"#fb9f3a\"],[0.8888888888888888,\"#fdca26\"],[1.0,\"#f0f921\"]]},\"colorway\":[\"#636efa\",\"#EF553B\",\"#00cc96\",\"#ab63fa\",\"#FFA15A\",\"#19d3f3\",\"#FF6692\",\"#B6E880\",\"#FF97FF\",\"#FECB52\"],\"font\":{\"color\":\"#2a3f5f\"},\"geo\":{\"bgcolor\":\"white\",\"lakecolor\":\"white\",\"landcolor\":\"#E5ECF6\",\"showlakes\":true,\"showland\":true,\"subunitcolor\":\"white\"},\"hoverlabel\":{\"align\":\"left\"},\"hovermode\":\"closest\",\"mapbox\":{\"style\":\"light\"},\"paper_bgcolor\":\"white\",\"plot_bgcolor\":\"#E5ECF6\",\"polar\":{\"angularaxis\":{\"gridcolor\":\"white\",\"linecolor\":\"white\",\"ticks\":\"\"},\"bgcolor\":\"#E5ECF6\",\"radialaxis\":{\"gridcolor\":\"white\",\"linecolor\":\"white\",\"ticks\":\"\"}},\"scene\":{\"xaxis\":{\"backgroundcolor\":\"#E5ECF6\",\"gridcolor\":\"white\",\"gridwidth\":2,\"linecolor\":\"white\",\"showbackground\":true,\"ticks\":\"\",\"zerolinecolor\":\"white\"},\"yaxis\":{\"backgroundcolor\":\"#E5ECF6\",\"gridcolor\":\"white\",\"gridwidth\":2,\"linecolor\":\"white\",\"showbackground\":true,\"ticks\":\"\",\"zerolinecolor\":\"white\"},\"zaxis\":{\"backgroundcolor\":\"#E5ECF6\",\"gridcolor\":\"white\",\"gridwidth\":2,\"linecolor\":\"white\",\"showbackground\":true,\"ticks\":\"\",\"zerolinecolor\":\"white\"}},\"shapedefaults\":{\"line\":{\"color\":\"#2a3f5f\"}},\"ternary\":{\"aaxis\":{\"gridcolor\":\"white\",\"linecolor\":\"white\",\"ticks\":\"\"},\"baxis\":{\"gridcolor\":\"white\",\"linecolor\":\"white\",\"ticks\":\"\"},\"bgcolor\":\"#E5ECF6\",\"caxis\":{\"gridcolor\":\"white\",\"linecolor\":\"white\",\"ticks\":\"\"}},\"title\":{\"x\":0.05},\"xaxis\":{\"automargin\":true,\"gridcolor\":\"white\",\"linecolor\":\"white\",\"ticks\":\"\",\"title\":{\"standoff\":15},\"zerolinecolor\":\"white\",\"zerolinewidth\":2},\"yaxis\":{\"automargin\":true,\"gridcolor\":\"white\",\"linecolor\":\"white\",\"ticks\":\"\",\"title\":{\"standoff\":15},\"zerolinecolor\":\"white\",\"zerolinewidth\":2}}},\"title\":{\"text\":\"CISCO Stock Prices\"},\"xaxis\":{\"title\":{\"font\":{\"color\":\"#7f7f7f\",\"family\":\"Courier New, monospace\",\"size\":18},\"text\":\"Day\"}},\"yaxis\":{\"title\":{\"font\":{\"color\":\"#7f7f7f\",\"family\":\"Courier New, monospace\",\"size\":18},\"text\":\"Price\"}}},                        {\"responsive\": true}                    ).then(function(){\n",
       "                            \n",
       "var gd = document.getElementById('55fbcc46-d4bd-4718-89ff-ea2aeb710ff1');\n",
       "var x = new MutationObserver(function (mutations, observer) {{\n",
       "        var display = window.getComputedStyle(gd).display;\n",
       "        if (!display || display === 'none') {{\n",
       "            console.log([gd, 'removed!']);\n",
       "            Plotly.purge(gd);\n",
       "            observer.disconnect();\n",
       "        }}\n",
       "}});\n",
       "\n",
       "// Listen for the removal of the full notebook cells\n",
       "var notebookContainer = gd.closest('#notebook-container');\n",
       "if (notebookContainer) {{\n",
       "    x.observe(notebookContainer, {childList: true});\n",
       "}}\n",
       "\n",
       "// Listen for the clearing of the current output cell\n",
       "var outputEl = gd.closest('.output');\n",
       "if (outputEl) {{\n",
       "    x.observe(outputEl, {childList: true});\n",
       "}}\n",
       "\n",
       "                        })                };                });            </script>        </div>"
      ]
     },
     "metadata": {},
     "output_type": "display_data"
    }
   ],
   "source": [
    "iplot(plot2)"
   ]
  },
  {
   "cell_type": "code",
   "execution_count": null,
   "id": "f464d33d-7cd6-4505-adfb-e12647e30853",
   "metadata": {},
   "outputs": [],
   "source": [
    "# Calculate scoress for model evaluation\n",
    "scores = f'''\n",
    "{'Metric'.ljust(10)}{'Train'.center(20)}{'Test'.center(20)}\n",
    "{'r2_score'.ljust(10)}{r2_score(Ytrain,lm.predict(X_train))\\t{r2_score(Y_test, lm.predict(X_test))}\n",
    "{'MSE'.ljust(10)}{mse(Y_train,lm.predict))}\\t{mse(Y_test, lm.predict(X_test))}\n",
    "'''\n",
    "print(score)"
   ]
  },
  {
   "cell_type": "code",
   "execution_count": null,
   "id": "4bccf9ab-96b0-4860-a4cd-b788f75a9e6f",
   "metadata": {},
   "outputs": [],
   "source": []
  },
  {
   "cell_type": "code",
   "execution_count": 41,
   "id": "bbdf5429-d9ed-4190-a0aa-3379575e462e",
   "metadata": {},
   "outputs": [
    {
     "name": "stdout",
     "output_type": "stream",
     "text": [
      "\n",
      "Metric           Train                Test        \n",
      "r2_score   0.3696444968865261 0.42846188074534686 \n",
      "MSE         8.24496861958342   7.485255892609668  \n",
      "\n"
     ]
    }
   ],
   "source": [
    "# Calculate R-squared scores for training and testing sets\n",
    "r2_train = r2_score(Y_train, lm.predict(X_train))\n",
    "r2_test = r2_score(Y_test, lm.predict(X_test))\n",
    "\n",
    "# Calculate Mean Squared Error for training and testing sets\n",
    "mse_train = mse(Y_train, lm.predict(X_train))\n",
    "mse_test = mse(Y_test, lm.predict(X_test))\n",
    "\n",
    "# Format the scores into a readable string\n",
    "scores = f'''\n",
    "{'Metric'.ljust(10)}{'Train'.center(20)}{'Test'.center(20)}\n",
    "{'r2_score'.ljust(10)}{str(r2_train).center(20)}{str(r2_test).center(20)}\n",
    "{'MSE'.ljust(10)}{str(mse_train).center(20)}{str(mse_test).center(20)}\n",
    "'''\n",
    "\n",
    "# Print the formatted scores\n",
    "print(scores)"
   ]
  },
  {
   "cell_type": "code",
   "execution_count": null,
   "id": "b9384b5f-8083-4d37-9059-b1aef13d6eb6",
   "metadata": {},
   "outputs": [],
   "source": []
  },
  {
   "cell_type": "code",
   "execution_count": null,
   "id": "19d196ad-b7d0-4fb9-8638-e64b2b17bd3e",
   "metadata": {},
   "outputs": [],
   "source": []
  },
  {
   "cell_type": "code",
   "execution_count": null,
   "id": "3606bf60-b6fa-469a-8144-0d8bdaa97938",
   "metadata": {},
   "outputs": [],
   "source": []
  },
  {
   "cell_type": "code",
   "execution_count": null,
   "id": "7db40bab-9a12-4822-9c54-749694f6b338",
   "metadata": {},
   "outputs": [],
   "source": []
  }
 ],
 "metadata": {
  "kernelspec": {
   "display_name": "Python 3 (ipykernel)",
   "language": "python",
   "name": "python3"
  },
  "language_info": {
   "codemirror_mode": {
    "name": "ipython",
    "version": 3
   },
   "file_extension": ".py",
   "mimetype": "text/x-python",
   "name": "python",
   "nbconvert_exporter": "python",
   "pygments_lexer": "ipython3",
   "version": "3.11.7"
  }
 },
 "nbformat": 4,
 "nbformat_minor": 5
}
