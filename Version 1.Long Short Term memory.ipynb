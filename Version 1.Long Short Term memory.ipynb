{
 "cells": [
  {
   "cell_type": "code",
   "execution_count": 1,
   "id": "e9d0a168-2847-425f-99ad-bc47f7d7158e",
   "metadata": {},
   "outputs": [],
   "source": [
    "import pandas as pd\n",
    "import numpy as np\n",
    "import datetime as dt\n",
    "import yfinance as yf\n",
    "import matplotlib.pyplot as plt\n",
    "from sklearn.preprocessing import MinMaxScaler\n",
    "from keras.models import Sequential\n",
    "from keras.layers import Dense, LSTM, Dropout\n"
   ]
  },
  {
   "cell_type": "code",
   "execution_count": 2,
   "id": "f351c7be-9cb1-4d46-9fc3-fcb755c374c3",
   "metadata": {},
   "outputs": [],
   "source": [
    "# Function to fetch historical price data from Yahoo Finance\n",
    "def fetch_stock_data(ticker_symbol, start_date, end_date):\n",
    "\n",
    "    stock_data = yf.download(ticker_symbol, start=start_date, end=end_date)\n",
    "    return stock_data\n"
   ]
  },
  {
   "cell_type": "code",
   "execution_count": 3,
   "id": "a95ddab7-a0a3-4ec0-afe4-a796ef65bd74",
   "metadata": {},
   "outputs": [],
   "source": [
    "# Define Parameters\n",
    "ticker_symbol = 'NVDA'\n",
    "start_date = (dt.datetime.now() - dt.timedelta(days=2*365)).strftime('%Y-%m-%d')\n",
    "end_date = (dt.datetime.now() - dt.timedelta(days=1)).strftime('%Y-%m-%d')\n"
   ]
  },
  {
   "cell_type": "code",
   "execution_count": 4,
   "id": "6106f9ce-22fa-417d-8e5b-f98bfa8c5b97",
   "metadata": {},
   "outputs": [
    {
     "name": "stderr",
     "output_type": "stream",
     "text": [
      "[*********************100%%**********************]  1 of 1 completed\n"
     ]
    },
    {
     "data": {
      "text/html": [
       "<div>\n",
       "<style scoped>\n",
       "    .dataframe tbody tr th:only-of-type {\n",
       "        vertical-align: middle;\n",
       "    }\n",
       "\n",
       "    .dataframe tbody tr th {\n",
       "        vertical-align: top;\n",
       "    }\n",
       "\n",
       "    .dataframe thead th {\n",
       "        text-align: right;\n",
       "    }\n",
       "</style>\n",
       "<table border=\"1\" class=\"dataframe\">\n",
       "  <thead>\n",
       "    <tr style=\"text-align: right;\">\n",
       "      <th></th>\n",
       "      <th>Open</th>\n",
       "      <th>High</th>\n",
       "      <th>Low</th>\n",
       "      <th>Close</th>\n",
       "      <th>Adj Close</th>\n",
       "      <th>Volume</th>\n",
       "    </tr>\n",
       "    <tr>\n",
       "      <th>Date</th>\n",
       "      <th></th>\n",
       "      <th></th>\n",
       "      <th></th>\n",
       "      <th></th>\n",
       "      <th></th>\n",
       "      <th></th>\n",
       "    </tr>\n",
       "  </thead>\n",
       "  <tbody>\n",
       "    <tr>\n",
       "      <th>2022-05-23</th>\n",
       "      <td>162.740005</td>\n",
       "      <td>169.149994</td>\n",
       "      <td>161.789993</td>\n",
       "      <td>168.979996</td>\n",
       "      <td>168.768112</td>\n",
       "      <td>63988900</td>\n",
       "    </tr>\n",
       "    <tr>\n",
       "      <th>2022-05-24</th>\n",
       "      <td>165.100006</td>\n",
       "      <td>165.970001</td>\n",
       "      <td>157.800003</td>\n",
       "      <td>161.539993</td>\n",
       "      <td>161.337418</td>\n",
       "      <td>58855000</td>\n",
       "    </tr>\n",
       "    <tr>\n",
       "      <th>2022-05-25</th>\n",
       "      <td>160.199997</td>\n",
       "      <td>171.110001</td>\n",
       "      <td>160.000000</td>\n",
       "      <td>169.750000</td>\n",
       "      <td>169.537155</td>\n",
       "      <td>78113200</td>\n",
       "    </tr>\n",
       "    <tr>\n",
       "      <th>2022-05-26</th>\n",
       "      <td>160.360001</td>\n",
       "      <td>180.919998</td>\n",
       "      <td>160.220001</td>\n",
       "      <td>178.509995</td>\n",
       "      <td>178.286148</td>\n",
       "      <td>99657500</td>\n",
       "    </tr>\n",
       "    <tr>\n",
       "      <th>2022-05-27</th>\n",
       "      <td>181.860001</td>\n",
       "      <td>188.809998</td>\n",
       "      <td>181.000000</td>\n",
       "      <td>188.110001</td>\n",
       "      <td>187.874100</td>\n",
       "      <td>73837900</td>\n",
       "    </tr>\n",
       "    <tr>\n",
       "      <th>...</th>\n",
       "      <td>...</td>\n",
       "      <td>...</td>\n",
       "      <td>...</td>\n",
       "      <td>...</td>\n",
       "      <td>...</td>\n",
       "      <td>...</td>\n",
       "    </tr>\n",
       "    <tr>\n",
       "      <th>2024-05-13</th>\n",
       "      <td>904.780029</td>\n",
       "      <td>909.979980</td>\n",
       "      <td>885.289978</td>\n",
       "      <td>903.989990</td>\n",
       "      <td>903.989990</td>\n",
       "      <td>28968000</td>\n",
       "    </tr>\n",
       "    <tr>\n",
       "      <th>2024-05-14</th>\n",
       "      <td>895.989990</td>\n",
       "      <td>916.510010</td>\n",
       "      <td>889.340027</td>\n",
       "      <td>913.559998</td>\n",
       "      <td>913.559998</td>\n",
       "      <td>29650700</td>\n",
       "    </tr>\n",
       "    <tr>\n",
       "      <th>2024-05-15</th>\n",
       "      <td>924.719971</td>\n",
       "      <td>948.619995</td>\n",
       "      <td>915.989990</td>\n",
       "      <td>946.299988</td>\n",
       "      <td>946.299988</td>\n",
       "      <td>41773500</td>\n",
       "    </tr>\n",
       "    <tr>\n",
       "      <th>2024-05-16</th>\n",
       "      <td>949.099976</td>\n",
       "      <td>958.190002</td>\n",
       "      <td>941.030029</td>\n",
       "      <td>943.590027</td>\n",
       "      <td>943.590027</td>\n",
       "      <td>32395200</td>\n",
       "    </tr>\n",
       "    <tr>\n",
       "      <th>2024-05-17</th>\n",
       "      <td>943.690002</td>\n",
       "      <td>947.400024</td>\n",
       "      <td>918.059998</td>\n",
       "      <td>924.789978</td>\n",
       "      <td>924.789978</td>\n",
       "      <td>35969100</td>\n",
       "    </tr>\n",
       "  </tbody>\n",
       "</table>\n",
       "<p>500 rows × 6 columns</p>\n",
       "</div>"
      ],
      "text/plain": [
       "                  Open        High         Low       Close   Adj Close  \\\n",
       "Date                                                                     \n",
       "2022-05-23  162.740005  169.149994  161.789993  168.979996  168.768112   \n",
       "2022-05-24  165.100006  165.970001  157.800003  161.539993  161.337418   \n",
       "2022-05-25  160.199997  171.110001  160.000000  169.750000  169.537155   \n",
       "2022-05-26  160.360001  180.919998  160.220001  178.509995  178.286148   \n",
       "2022-05-27  181.860001  188.809998  181.000000  188.110001  187.874100   \n",
       "...                ...         ...         ...         ...         ...   \n",
       "2024-05-13  904.780029  909.979980  885.289978  903.989990  903.989990   \n",
       "2024-05-14  895.989990  916.510010  889.340027  913.559998  913.559998   \n",
       "2024-05-15  924.719971  948.619995  915.989990  946.299988  946.299988   \n",
       "2024-05-16  949.099976  958.190002  941.030029  943.590027  943.590027   \n",
       "2024-05-17  943.690002  947.400024  918.059998  924.789978  924.789978   \n",
       "\n",
       "              Volume  \n",
       "Date                  \n",
       "2022-05-23  63988900  \n",
       "2022-05-24  58855000  \n",
       "2022-05-25  78113200  \n",
       "2022-05-26  99657500  \n",
       "2022-05-27  73837900  \n",
       "...              ...  \n",
       "2024-05-13  28968000  \n",
       "2024-05-14  29650700  \n",
       "2024-05-15  41773500  \n",
       "2024-05-16  32395200  \n",
       "2024-05-17  35969100  \n",
       "\n",
       "[500 rows x 6 columns]"
      ]
     },
     "execution_count": 4,
     "metadata": {},
     "output_type": "execute_result"
    }
   ],
   "source": [
    "\n",
    "# Fetch historical price data\n",
    "stock_data = fetch_stock_data(ticker_symbol, start_date, end_date)\n",
    "stock_data\n"
   ]
  },
  {
   "cell_type": "code",
   "execution_count": 5,
   "id": "50286e17-e775-443d-952a-d50bd85b7e2f",
   "metadata": {},
   "outputs": [
    {
     "name": "stdout",
     "output_type": "stream",
     "text": [
      "<class 'pandas.core.frame.DataFrame'>\n",
      "DatetimeIndex: 500 entries, 2022-05-23 to 2024-05-17\n",
      "Data columns (total 6 columns):\n",
      " #   Column     Non-Null Count  Dtype  \n",
      "---  ------     --------------  -----  \n",
      " 0   Open       500 non-null    float64\n",
      " 1   High       500 non-null    float64\n",
      " 2   Low        500 non-null    float64\n",
      " 3   Close      500 non-null    float64\n",
      " 4   Adj Close  500 non-null    float64\n",
      " 5   Volume     500 non-null    int64  \n",
      "dtypes: float64(5), int64(1)\n",
      "memory usage: 27.3 KB\n"
     ]
    }
   ],
   "source": [
    "#displays a summary of the DataFrame\n",
    "stock_data.info()\n"
   ]
  },
  {
   "cell_type": "code",
   "execution_count": 6,
   "id": "439a8f1d-ed5d-406a-b7bc-e6d977bff0d0",
   "metadata": {},
   "outputs": [],
   "source": [
    "# Retrieve data in 'Close' column  and reshape to 2D array\n",
    "train_data = stock_data['Close'].values.reshape(-1, 1)\n"
   ]
  },
  {
   "cell_type": "code",
   "execution_count": 7,
   "id": "91bca397-dba6-4d23-a13f-947735e5699f",
   "metadata": {},
   "outputs": [],
   "source": [
    "# Scale the training data\n",
    "sc = MinMaxScaler(feature_range=(0, 1))\n",
    "train_data_scaled = sc.fit_transform(train_data)\n"
   ]
  },
  {
   "cell_type": "code",
   "execution_count": 9,
   "id": "1a5b2a33-1430-4ca0-8fbe-15ec7d9f9782",
   "metadata": {},
   "outputs": [],
   "source": [
    "# Prepare training data with timesteps\n",
    "x_train = []\n",
    "y_train = []\n",
    "for i in range(60, len(train_data_scaled)):\n",
    "    x_train.append(train_data_scaled[i-60:i, 0])\n",
    "    y_train.append(train_data_scaled[i, 0])\n",
    "\n",
    "x_train, y_train = np.array(x_train), np.array(y_train)\n"
   ]
  },
  {
   "cell_type": "code",
   "execution_count": 10,
   "id": "68c61a31-7957-487c-bd55-7352d14c0e5a",
   "metadata": {},
   "outputs": [],
   "source": [
    "# Reshape x_train to be 3-dimensional => LSTM  expect 3D which are (samples, timesteps, features)\n",
    "x_train = np.reshape(x_train, (x_train.shape[0], x_train.shape[1], 1))\n"
   ]
  },
  {
   "cell_type": "code",
   "execution_count": 11,
   "id": "69e405d4-03fa-4d31-af2d-8589e25845c4",
   "metadata": {},
   "outputs": [],
   "source": [
    "\n",
    "# Build the LSTM model\n",
    "from keras.layers import Input\n",
    "\n",
    "model = Sequential()\n",
    "model.add(Input(shape=(x_train.shape[1], 1)))\n",
    "model.add(LSTM(units=100, return_sequences=True))\n",
    "model.add(Dropout(0.2))\n",
    "\n",
    "model.add(LSTM(units=100, return_sequences=True))\n",
    "model.add(Dropout(0.2))\n",
    "\n",
    "model.add(LSTM(units=100, return_sequences=True))\n",
    "model.add(Dropout(0.2))\n",
    "\n",
    "model.add(LSTM(units=100))\n",
    "model.add(Dropout(0.2))\n",
    "\n",
    "model.add(Dense(units=1))\n",
    "model.compile(optimizer='adam', loss='mean_squared_error')\n"
   ]
  },
  {
   "cell_type": "code",
   "execution_count": 29,
   "id": "49679c94-3c43-45b8-9829-67d56368c32a",
   "metadata": {},
   "outputs": [
    {
     "name": "stdout",
     "output_type": "stream",
     "text": [
      "Epoch 1/80\n",
      "11/11 - 2s - 153ms/step - loss: 0.0013 - val_loss: 0.0333\n",
      "Epoch 2/80\n",
      "11/11 - 2s - 141ms/step - loss: 0.0012 - val_loss: 0.0300\n",
      "Epoch 3/80\n",
      "11/11 - 2s - 141ms/step - loss: 0.0010 - val_loss: 0.0346\n",
      "Epoch 4/80\n",
      "11/11 - 2s - 150ms/step - loss: 0.0013 - val_loss: 0.0258\n",
      "Epoch 5/80\n",
      "11/11 - 2s - 166ms/step - loss: 0.0014 - val_loss: 0.0294\n",
      "Epoch 6/80\n",
      "11/11 - 2s - 226ms/step - loss: 0.0011 - val_loss: 0.0406\n",
      "Epoch 7/80\n",
      "11/11 - 2s - 150ms/step - loss: 0.0010 - val_loss: 0.0237\n",
      "Epoch 8/80\n",
      "11/11 - 2s - 150ms/step - loss: 0.0012 - val_loss: 0.0387\n",
      "Epoch 9/80\n",
      "11/11 - 2s - 151ms/step - loss: 9.6367e-04 - val_loss: 0.0367\n",
      "Epoch 10/80\n",
      "11/11 - 2s - 146ms/step - loss: 9.8166e-04 - val_loss: 0.0339\n",
      "Epoch 11/80\n",
      "11/11 - 2s - 141ms/step - loss: 0.0011 - val_loss: 0.0473\n",
      "Epoch 12/80\n",
      "11/11 - 2s - 143ms/step - loss: 0.0011 - val_loss: 0.0334\n",
      "Epoch 13/80\n",
      "11/11 - 1s - 136ms/step - loss: 0.0012 - val_loss: 0.0192\n",
      "Epoch 14/80\n",
      "11/11 - 1s - 133ms/step - loss: 0.0011 - val_loss: 0.0405\n",
      "Epoch 15/80\n",
      "11/11 - 2s - 143ms/step - loss: 0.0012 - val_loss: 0.0282\n",
      "Epoch 16/80\n",
      "11/11 - 2s - 153ms/step - loss: 0.0010 - val_loss: 0.0301\n",
      "Epoch 17/80\n",
      "11/11 - 2s - 147ms/step - loss: 9.6655e-04 - val_loss: 0.0380\n",
      "Epoch 18/80\n",
      "11/11 - 2s - 151ms/step - loss: 0.0010 - val_loss: 0.0238\n",
      "Epoch 19/80\n",
      "11/11 - 2s - 163ms/step - loss: 9.8414e-04 - val_loss: 0.0214\n",
      "Epoch 20/80\n",
      "11/11 - 3s - 228ms/step - loss: 0.0012 - val_loss: 0.0195\n",
      "Epoch 21/80\n",
      "11/11 - 1s - 136ms/step - loss: 0.0013 - val_loss: 0.0439\n",
      "Epoch 22/80\n",
      "11/11 - 2s - 138ms/step - loss: 0.0012 - val_loss: 0.0277\n",
      "Epoch 23/80\n",
      "11/11 - 1s - 136ms/step - loss: 8.4673e-04 - val_loss: 0.0340\n",
      "Epoch 24/80\n",
      "11/11 - 2s - 139ms/step - loss: 0.0010 - val_loss: 0.0505\n",
      "Epoch 25/80\n",
      "11/11 - 3s - 251ms/step - loss: 0.0013 - val_loss: 0.0314\n",
      "Epoch 26/80\n",
      "11/11 - 2s - 154ms/step - loss: 0.0012 - val_loss: 0.0168\n",
      "Epoch 27/80\n",
      "11/11 - 2s - 154ms/step - loss: 0.0010 - val_loss: 0.0324\n",
      "Epoch 28/80\n",
      "11/11 - 2s - 148ms/step - loss: 7.6081e-04 - val_loss: 0.0372\n",
      "Epoch 29/80\n",
      "11/11 - 2s - 141ms/step - loss: 8.8031e-04 - val_loss: 0.0260\n",
      "Epoch 30/80\n",
      "11/11 - 2s - 146ms/step - loss: 8.5896e-04 - val_loss: 0.0306\n",
      "Epoch 31/80\n",
      "11/11 - 2s - 141ms/step - loss: 7.6217e-04 - val_loss: 0.0327\n",
      "Epoch 32/80\n",
      "11/11 - 2s - 174ms/step - loss: 7.4574e-04 - val_loss: 0.0346\n",
      "Epoch 33/80\n",
      "11/11 - 2s - 148ms/step - loss: 9.0074e-04 - val_loss: 0.0275\n",
      "Epoch 34/80\n",
      "11/11 - 2s - 158ms/step - loss: 7.9463e-04 - val_loss: 0.0395\n",
      "Epoch 35/80\n",
      "11/11 - 2s - 161ms/step - loss: 9.2050e-04 - val_loss: 0.0274\n",
      "Epoch 36/80\n",
      "11/11 - 2s - 165ms/step - loss: 7.0323e-04 - val_loss: 0.0290\n",
      "Epoch 37/80\n",
      "11/11 - 2s - 158ms/step - loss: 7.3301e-04 - val_loss: 0.0158\n",
      "Epoch 38/80\n",
      "11/11 - 2s - 154ms/step - loss: 8.2818e-04 - val_loss: 0.0338\n",
      "Epoch 39/80\n",
      "11/11 - 3s - 234ms/step - loss: 9.4544e-04 - val_loss: 0.0400\n",
      "Epoch 40/80\n",
      "11/11 - 2s - 150ms/step - loss: 8.7616e-04 - val_loss: 0.0265\n",
      "Epoch 41/80\n",
      "11/11 - 2s - 149ms/step - loss: 8.0660e-04 - val_loss: 0.0380\n",
      "Epoch 42/80\n",
      "11/11 - 2s - 154ms/step - loss: 8.8633e-04 - val_loss: 0.0299\n",
      "Epoch 43/80\n",
      "11/11 - 2s - 157ms/step - loss: 6.4633e-04 - val_loss: 0.0203\n",
      "Epoch 44/80\n",
      "11/11 - 2s - 157ms/step - loss: 8.1639e-04 - val_loss: 0.0334\n",
      "Epoch 45/80\n",
      "11/11 - 2s - 159ms/step - loss: 8.9282e-04 - val_loss: 0.0300\n",
      "Epoch 46/80\n",
      "11/11 - 2s - 161ms/step - loss: 7.6951e-04 - val_loss: 0.0180\n",
      "Epoch 47/80\n",
      "11/11 - 2s - 160ms/step - loss: 8.5862e-04 - val_loss: 0.0198\n",
      "Epoch 48/80\n",
      "11/11 - 2s - 155ms/step - loss: 9.6270e-04 - val_loss: 0.0294\n",
      "Epoch 49/80\n",
      "11/11 - 2s - 146ms/step - loss: 8.9343e-04 - val_loss: 0.0415\n",
      "Epoch 50/80\n",
      "11/11 - 2s - 144ms/step - loss: 7.1939e-04 - val_loss: 0.0339\n",
      "Epoch 51/80\n",
      "11/11 - 3s - 251ms/step - loss: 7.4587e-04 - val_loss: 0.0245\n",
      "Epoch 52/80\n",
      "11/11 - 2s - 163ms/step - loss: 7.6923e-04 - val_loss: 0.0221\n",
      "Epoch 53/80\n",
      "11/11 - 2s - 164ms/step - loss: 6.3337e-04 - val_loss: 0.0253\n",
      "Epoch 54/80\n",
      "11/11 - 3s - 243ms/step - loss: 7.0184e-04 - val_loss: 0.0218\n",
      "Epoch 55/80\n",
      "11/11 - 2s - 221ms/step - loss: 7.7426e-04 - val_loss: 0.0306\n",
      "Epoch 56/80\n",
      "11/11 - 2s - 140ms/step - loss: 6.7800e-04 - val_loss: 0.0230\n",
      "Epoch 57/80\n",
      "11/11 - 2s - 139ms/step - loss: 7.5643e-04 - val_loss: 0.0192\n",
      "Epoch 58/80\n",
      "11/11 - 2s - 145ms/step - loss: 8.5622e-04 - val_loss: 0.0194\n",
      "Epoch 59/80\n",
      "11/11 - 2s - 139ms/step - loss: 5.8527e-04 - val_loss: 0.0187\n",
      "Epoch 60/80\n",
      "11/11 - 2s - 153ms/step - loss: 7.6376e-04 - val_loss: 0.0286\n",
      "Epoch 61/80\n",
      "11/11 - 2s - 173ms/step - loss: 8.2630e-04 - val_loss: 0.0346\n",
      "Epoch 62/80\n",
      "11/11 - 2s - 179ms/step - loss: 8.0146e-04 - val_loss: 0.0249\n",
      "Epoch 63/80\n",
      "11/11 - 3s - 230ms/step - loss: 8.9682e-04 - val_loss: 0.0099\n",
      "Epoch 64/80\n",
      "11/11 - 2s - 141ms/step - loss: 9.5800e-04 - val_loss: 0.0170\n",
      "Epoch 65/80\n",
      "11/11 - 2s - 145ms/step - loss: 7.3972e-04 - val_loss: 0.0258\n",
      "Epoch 66/80\n",
      "11/11 - 2s - 142ms/step - loss: 6.6247e-04 - val_loss: 0.0285\n",
      "Epoch 67/80\n",
      "11/11 - 2s - 154ms/step - loss: 7.0862e-04 - val_loss: 0.0373\n",
      "Epoch 68/80\n",
      "11/11 - 2s - 154ms/step - loss: 6.6680e-04 - val_loss: 0.0322\n",
      "Epoch 69/80\n",
      "11/11 - 2s - 158ms/step - loss: 6.3612e-04 - val_loss: 0.0224\n",
      "Epoch 70/80\n",
      "11/11 - 2s - 154ms/step - loss: 5.9102e-04 - val_loss: 0.0217\n",
      "Epoch 71/80\n",
      "11/11 - 2s - 147ms/step - loss: 6.4957e-04 - val_loss: 0.0191\n",
      "Epoch 72/80\n",
      "11/11 - 2s - 156ms/step - loss: 6.6885e-04 - val_loss: 0.0189\n",
      "Epoch 73/80\n",
      "11/11 - 2s - 153ms/step - loss: 6.0177e-04 - val_loss: 0.0233\n",
      "Epoch 74/80\n",
      "11/11 - 2s - 153ms/step - loss: 6.9090e-04 - val_loss: 0.0235\n",
      "Epoch 75/80\n",
      "11/11 - 2s - 137ms/step - loss: 6.0268e-04 - val_loss: 0.0268\n",
      "Epoch 76/80\n",
      "11/11 - 2s - 138ms/step - loss: 6.4952e-04 - val_loss: 0.0367\n",
      "Epoch 77/80\n",
      "11/11 - 2s - 138ms/step - loss: 6.7897e-04 - val_loss: 0.0217\n",
      "Epoch 78/80\n",
      "11/11 - 2s - 146ms/step - loss: 5.7031e-04 - val_loss: 0.0209\n",
      "Epoch 79/80\n",
      "11/11 - 2s - 156ms/step - loss: 5.5912e-04 - val_loss: 0.0213\n",
      "Epoch 80/80\n",
      "11/11 - 2s - 156ms/step - loss: 5.7445e-04 - val_loss: 0.0253\n"
     ]
    }
   ],
   "source": [
    "# Train the model with validation split\n",
    "hist = model.fit(x_train, y_train, epochs=80, batch_size=32, validation_split=0.2, verbose=2)\n"
   ]
  },
  {
   "cell_type": "code",
   "execution_count": 30,
   "id": "8d477f46-8fb4-42d9-9db7-31da72eb3f2a",
   "metadata": {},
   "outputs": [
    {
     "data": {
      "image/png": "[encoded data removed]",
      "text/plain": [
       "<Figure size 640x480 with 1 Axes>"
      ]
     },
     "metadata": {},
     "output_type": "display_data"
    }
   ],
   "source": [
    "# Plot training and validation loss\n",
    "plt.plot(hist.history['loss'], label='Train Loss')\n",
    "plt.plot(hist.history['val_loss'], label='Validation Loss')\n",
    "plt.title('Training and Validation Loss')\n",
    "plt.ylabel('Loss')\n",
    "plt.xlabel('Epoch')\n",
    "plt.legend()\n",
    "plt.show()"
   ]
  },
  {
   "cell_type": "code",
   "execution_count": 31,
   "id": "a6cc0960-1c6a-4010-a7ad-087f24161daf",
   "metadata": {},
   "outputs": [],
   "source": [
    "# Use the same stock for testing\n",
    "test_data = stock_data['Close'].values.reshape(-1, 1)\n",
    "# Split into actual training and testing datasets\n",
    "train_size = int(len(test_data) * 0.8)\n",
    "train_data, test_data = test_data[:train_size], test_data[train_size:]\n"
   ]
  },
  {
   "cell_type": "code",
   "execution_count": 32,
   "id": "22e71881-b7dc-4959-954e-739dacf92e9f",
   "metadata": {},
   "outputs": [],
   "source": [
    "# Scale the testing data using the same scaler fitted on training data\n",
    "test_data_scaled = sc.transform(test_data)\n"
   ]
  },
  {
   "cell_type": "code",
   "execution_count": 26,
   "id": "1993f21c-8575-467d-b20f-f2f0948c896b",
   "metadata": {},
   "outputs": [
    {
     "data": {
      "text/plain": [
       "(40, 60, 1)"
      ]
     },
     "execution_count": 26,
     "metadata": {},
     "output_type": "execute_result"
    }
   ],
   "source": [
    "x_test.shape"
   ]
  },
  {
   "cell_type": "code",
   "execution_count": 33,
   "id": "b975981e-20a2-45e3-9900-e6ce9acb66ad",
   "metadata": {},
   "outputs": [],
   "source": [
    "# Prepare test data with timesteps\n",
    "x_test = []\n",
    "y_test = test_data[60:]  # Actual stock prices for comparison\n",
    "for i in range(60, len(test_data_scaled)):\n",
    "    x_test.append(test_data_scaled[i-60:i, 0])\n",
    "\n",
    "x_test = np.array(x_test)\n",
    "x_test = np.reshape(x_test, (x_test.shape[0], x_test.shape[1], 1))\n"
   ]
  },
  {
   "cell_type": "code",
   "execution_count": 34,
   "id": "7adc2ac7-fc61-497b-b6cd-a9785a5b131a",
   "metadata": {},
   "outputs": [
    {
     "name": "stdout",
     "output_type": "stream",
     "text": [
      "\u001b[1m2/2\u001b[0m \u001b[32m━━━━━━━━━━━━━━━━━━━━\u001b[0m\u001b[37m\u001b[0m \u001b[1m0s\u001b[0m 31ms/step\n"
     ]
    }
   ],
   "source": [
    "# Predicting the stock prices\n",
    "y_pred = model.predict(x_test)\n"
   ]
  },
  {
   "cell_type": "code",
   "execution_count": 35,
   "id": "ff6bfbab-f0c0-4b77-8e5d-67499d1fba24",
   "metadata": {},
   "outputs": [],
   "source": [
    "# Ensure y_pred is a 2D array with shape (num_samples, 1)\n",
    "if y_pred.ndim == 3:\n",
    "    y_pred = y_pred[:, -1, :]  # Use the last timestep's prediction\n"
   ]
  },
  {
   "cell_type": "code",
   "execution_count": 36,
   "id": "f0929068-283d-4b70-8c48-9e7a7a1bd2b6",
   "metadata": {},
   "outputs": [],
   "source": [
    "# Inverse transform the predicted prices\n",
    "predicted_price = sc.inverse_transform(y_pred)\n"
   ]
  },
  {
   "cell_type": "code",
   "execution_count": 37,
   "id": "80ac7891-28ec-495e-8475-46d599d4fdd7",
   "metadata": {},
   "outputs": [
    {
     "data": {
      "image/png": "[encoded data removed]",
      "text/plain": [
       "<Figure size 640x480 with 1 Axes>"
      ]
     },
     "metadata": {},
     "output_type": "display_data"
    }
   ],
   "source": [
    "# Plotting the results\n",
    "plt.plot(y_test, color='red', label='Actual Stock Price')\n",
    "plt.plot(predicted_price, color='green', label='Predicted Stock Price')\n",
    "plt.title('Nvidia Stock Prediction')\n",
    "plt.xlabel('Time')\n",
    "plt.ylabel('Stock Price')\n",
    "plt.legend()\n",
    "plt.show()\n"
   ]
  },
  {
   "cell_type": "code",
   "execution_count": null,
   "id": "2acbaeee-bf5a-46ab-8a1e-5b27b36eb5b0",
   "metadata": {},
   "outputs": [],
   "source": []
  }
 ],
 "metadata": {
  "kernelspec": {
   "display_name": "Python 3 (ipykernel)",
   "language": "python",
   "name": "python3"
  },
  "language_info": {
   "codemirror_mode": {
    "name": "ipython",
    "version": 3
   },
   "file_extension": ".py",
   "mimetype": "text/x-python",
   "name": "python",
   "nbconvert_exporter": "python",
   "pygments_lexer": "ipython3",
   "version": "3.11.7"
  }
 },
 "nbformat": 4,
 "nbformat_minor": 5
}
